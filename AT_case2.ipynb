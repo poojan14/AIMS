{
  "nbformat": 4,
  "nbformat_minor": 0,
  "metadata": {
    "colab": {
      "name": "AT_case2.ipynb",
      "provenance": [],
      "authorship_tag": "ABX9TyMFQQXuSFQ/XTmvlVXKffqY",
      "include_colab_link": true
    },
    "kernelspec": {
      "name": "python3",
      "display_name": "Python 3"
    }
  },
  "cells": [
    {
      "cell_type": "markdown",
      "metadata": {
        "id": "view-in-github",
        "colab_type": "text"
      },
      "source": [
        "<a href=\"https://colab.research.google.com/github/poojan14/AIMS/blob/main/AT_case2.ipynb\" target=\"_parent\"><img src=\"https://colab.research.google.com/assets/colab-badge.svg\" alt=\"Open In Colab\"/></a>"
      ]
    },
    {
      "cell_type": "code",
      "metadata": {
        "colab": {
          "base_uri": "https://localhost:8080/"
        },
        "id": "KzRKxkM_bR_x",
        "outputId": "0b3f6e22-5a25-4d43-e043-b4e2cdcbc594"
      },
      "source": [
        "!pip install pydrive\r\n",
        "from pydrive.auth import GoogleAuth\r\n",
        "from pydrive.drive import GoogleDrive\r\n",
        "from google.colab import auth\r\n",
        "from oauth2client.client import GoogleCredentials\r\n",
        " \r\n",
        "# 1. Authenticate and create the PyDrive client.\r\n",
        "auth.authenticate_user()\r\n",
        "gauth = GoogleAuth()\r\n",
        "gauth.credentials = GoogleCredentials.get_application_default()\r\n",
        "drive = GoogleDrive(gauth)\r\n"
      ],
      "execution_count": 26,
      "outputs": [
        {
          "output_type": "stream",
          "text": [
            "Requirement already satisfied: pydrive in /usr/local/lib/python3.6/dist-packages (1.3.1)\n",
            "Requirement already satisfied: google-api-python-client>=1.2 in /usr/local/lib/python3.6/dist-packages (from pydrive) (1.7.12)\n",
            "Requirement already satisfied: oauth2client>=4.0.0 in /usr/local/lib/python3.6/dist-packages (from pydrive) (4.1.3)\n",
            "Requirement already satisfied: PyYAML>=3.0 in /usr/local/lib/python3.6/dist-packages (from pydrive) (3.13)\n",
            "Requirement already satisfied: six<2dev,>=1.6.1 in /usr/local/lib/python3.6/dist-packages (from google-api-python-client>=1.2->pydrive) (1.15.0)\n",
            "Requirement already satisfied: google-auth>=1.4.1 in /usr/local/lib/python3.6/dist-packages (from google-api-python-client>=1.2->pydrive) (1.24.0)\n",
            "Requirement already satisfied: uritemplate<4dev,>=3.0.0 in /usr/local/lib/python3.6/dist-packages (from google-api-python-client>=1.2->pydrive) (3.0.1)\n",
            "Requirement already satisfied: google-auth-httplib2>=0.0.3 in /usr/local/lib/python3.6/dist-packages (from google-api-python-client>=1.2->pydrive) (0.0.4)\n",
            "Requirement already satisfied: httplib2<1dev,>=0.17.0 in /usr/local/lib/python3.6/dist-packages (from google-api-python-client>=1.2->pydrive) (0.17.4)\n",
            "Requirement already satisfied: pyasn1>=0.1.7 in /usr/local/lib/python3.6/dist-packages (from oauth2client>=4.0.0->pydrive) (0.4.8)\n",
            "Requirement already satisfied: pyasn1-modules>=0.0.5 in /usr/local/lib/python3.6/dist-packages (from oauth2client>=4.0.0->pydrive) (0.2.8)\n",
            "Requirement already satisfied: rsa>=3.1.4 in /usr/local/lib/python3.6/dist-packages (from oauth2client>=4.0.0->pydrive) (4.7)\n",
            "Requirement already satisfied: cachetools<5.0,>=2.0.0 in /usr/local/lib/python3.6/dist-packages (from google-auth>=1.4.1->google-api-python-client>=1.2->pydrive) (4.2.1)\n",
            "Requirement already satisfied: setuptools>=40.3.0 in /usr/local/lib/python3.6/dist-packages (from google-auth>=1.4.1->google-api-python-client>=1.2->pydrive) (53.0.0)\n"
          ],
          "name": "stdout"
        }
      ]
    },
    {
      "cell_type": "code",
      "metadata": {
        "id": "gjiDa_4XbX3y"
      },
      "source": [
        "download = drive.CreateFile({'id':'18T0AsBbdxw2NYdtSHDzpHPj8GzcYfUGX'})\r\n",
        "download.GetContentFile('AIMS_WQMS.csv')\r\n",
        "import pandas as pd\r\n",
        "import numpy as np\r\n",
        "df=pd.read_csv('AIMS_WQMS.csv')\r\n"
      ],
      "execution_count": 27,
      "outputs": []
    },
    {
      "cell_type": "code",
      "metadata": {
        "colab": {
          "base_uri": "https://localhost:8080/",
          "height": 204
        },
        "id": "yPH-zxWebY9Y",
        "outputId": "125b5372-d600-4594-e48a-abcee3db9d29"
      },
      "source": [
        "df.head(5)"
      ],
      "execution_count": 28,
      "outputs": [
        {
          "output_type": "execute_result",
          "data": {
            "text/html": [
              "<div>\n",
              "<style scoped>\n",
              "    .dataframe tbody tr th:only-of-type {\n",
              "        vertical-align: middle;\n",
              "    }\n",
              "\n",
              "    .dataframe tbody tr th {\n",
              "        vertical-align: top;\n",
              "    }\n",
              "\n",
              "    .dataframe thead th {\n",
              "        text-align: right;\n",
              "    }\n",
              "</style>\n",
              "<table border=\"1\" class=\"dataframe\">\n",
              "  <thead>\n",
              "    <tr style=\"text-align: right;\">\n",
              "      <th></th>\n",
              "      <th>date_time</th>\n",
              "      <th>date</th>\n",
              "      <th>time</th>\n",
              "      <th>seconds_1970</th>\n",
              "      <th>Humidity</th>\n",
              "      <th>PAR</th>\n",
              "      <th>Water_Temperature</th>\n",
              "      <th>Air_Temperature</th>\n",
              "      <th>Air_Pressure</th>\n",
              "    </tr>\n",
              "  </thead>\n",
              "  <tbody>\n",
              "    <tr>\n",
              "      <th>0</th>\n",
              "      <td>2020-08-06T00:00:00+1000</td>\n",
              "      <td>06-08-2020</td>\n",
              "      <td>00:00:00</td>\n",
              "      <td>1.600000e+09</td>\n",
              "      <td>73.0</td>\n",
              "      <td>0.123420</td>\n",
              "      <td>22.57</td>\n",
              "      <td>22.2</td>\n",
              "      <td>1014.0</td>\n",
              "    </tr>\n",
              "    <tr>\n",
              "      <th>1</th>\n",
              "      <td>2020-08-06T00:10:00+1000</td>\n",
              "      <td>06-08-2020</td>\n",
              "      <td>00:10:00</td>\n",
              "      <td>1.600000e+09</td>\n",
              "      <td>71.8</td>\n",
              "      <td>0.080995</td>\n",
              "      <td>22.57</td>\n",
              "      <td>22.3</td>\n",
              "      <td>1013.7</td>\n",
              "    </tr>\n",
              "    <tr>\n",
              "      <th>2</th>\n",
              "      <td>2020-08-06T00:20:00+1000</td>\n",
              "      <td>06-08-2020</td>\n",
              "      <td>00:20:00</td>\n",
              "      <td>1.600000e+09</td>\n",
              "      <td>71.9</td>\n",
              "      <td>0.119561</td>\n",
              "      <td>22.58</td>\n",
              "      <td>22.3</td>\n",
              "      <td>1013.8</td>\n",
              "    </tr>\n",
              "    <tr>\n",
              "      <th>3</th>\n",
              "      <td>2020-08-06T00:30:00+1000</td>\n",
              "      <td>06-08-2020</td>\n",
              "      <td>00:30:00</td>\n",
              "      <td>1.600000e+09</td>\n",
              "      <td>71.1</td>\n",
              "      <td>0.069422</td>\n",
              "      <td>22.57</td>\n",
              "      <td>22.2</td>\n",
              "      <td>1013.5</td>\n",
              "    </tr>\n",
              "    <tr>\n",
              "      <th>4</th>\n",
              "      <td>2020-08-06T00:40:00+1000</td>\n",
              "      <td>06-08-2020</td>\n",
              "      <td>00:40:00</td>\n",
              "      <td>1.600000e+09</td>\n",
              "      <td>73.9</td>\n",
              "      <td>0.046282</td>\n",
              "      <td>22.56</td>\n",
              "      <td>22.2</td>\n",
              "      <td>1013.6</td>\n",
              "    </tr>\n",
              "  </tbody>\n",
              "</table>\n",
              "</div>"
            ],
            "text/plain": [
              "                  date_time        date  ... Air_Temperature  Air_Pressure\n",
              "0  2020-08-06T00:00:00+1000  06-08-2020  ...            22.2        1014.0\n",
              "1  2020-08-06T00:10:00+1000  06-08-2020  ...            22.3        1013.7\n",
              "2  2020-08-06T00:20:00+1000  06-08-2020  ...            22.3        1013.8\n",
              "3  2020-08-06T00:30:00+1000  06-08-2020  ...            22.2        1013.5\n",
              "4  2020-08-06T00:40:00+1000  06-08-2020  ...            22.2        1013.6\n",
              "\n",
              "[5 rows x 9 columns]"
            ]
          },
          "metadata": {
            "tags": []
          },
          "execution_count": 28
        }
      ]
    },
    {
      "cell_type": "code",
      "metadata": {
        "id": "OMCcTcSgbZFY"
      },
      "source": [
        "import os\r\n",
        "import datetime\r\n",
        "\r\n",
        "import IPython\r\n",
        "import IPython.display\r\n",
        "import matplotlib as mpl\r\n",
        "import matplotlib.pyplot as plt\r\n",
        "import numpy as np\r\n",
        "import pandas as pd\r\n",
        "import seaborn as sns\r\n",
        "import tensorflow as tf\r\n"
      ],
      "execution_count": 29,
      "outputs": []
    },
    {
      "cell_type": "code",
      "metadata": {
        "id": "raBNI6VAbZI5"
      },
      "source": [
        "df = df[5::6]\r\n",
        "df['Date_Time']=pd.to_datetime(df['date']+' '+df['time'])"
      ],
      "execution_count": 30,
      "outputs": []
    },
    {
      "cell_type": "code",
      "metadata": {
        "colab": {
          "base_uri": "https://localhost:8080/",
          "height": 289
        },
        "id": "OMMPXQClbZMq",
        "outputId": "ace1655b-0bea-4f9c-9236-505f2647a941"
      },
      "source": [
        "Date_Time = pd.to_datetime(df.pop('date_time'), format='%Y-%m-%d %H:%M:%S')\r\n",
        "# Converting time data into signal form for better meaning\r\n",
        "timestamp_s = Date_Time.map(datetime.datetime.timestamp)\r\n",
        "day = 24*60*60\r\n",
        "year = (365.2425)*day\r\n",
        "\r\n",
        "df['Day sin'] = np.sin(timestamp_s * (2 * np.pi / day))\r\n",
        "df['Day cos'] = np.cos(timestamp_s * (2 * np.pi / day))\r\n",
        "df['Year sin'] = np.sin(timestamp_s * (2 * np.pi / year))\r\n",
        "df['Year cos'] = np.cos(timestamp_s * (2 * np.pi / year))\r\n",
        "df.head(5)\r\n"
      ],
      "execution_count": 31,
      "outputs": [
        {
          "output_type": "execute_result",
          "data": {
            "text/html": [
              "<div>\n",
              "<style scoped>\n",
              "    .dataframe tbody tr th:only-of-type {\n",
              "        vertical-align: middle;\n",
              "    }\n",
              "\n",
              "    .dataframe tbody tr th {\n",
              "        vertical-align: top;\n",
              "    }\n",
              "\n",
              "    .dataframe thead th {\n",
              "        text-align: right;\n",
              "    }\n",
              "</style>\n",
              "<table border=\"1\" class=\"dataframe\">\n",
              "  <thead>\n",
              "    <tr style=\"text-align: right;\">\n",
              "      <th></th>\n",
              "      <th>date</th>\n",
              "      <th>time</th>\n",
              "      <th>seconds_1970</th>\n",
              "      <th>Humidity</th>\n",
              "      <th>PAR</th>\n",
              "      <th>Water_Temperature</th>\n",
              "      <th>Air_Temperature</th>\n",
              "      <th>Air_Pressure</th>\n",
              "      <th>Date_Time</th>\n",
              "      <th>Day sin</th>\n",
              "      <th>Day cos</th>\n",
              "      <th>Year sin</th>\n",
              "      <th>Year cos</th>\n",
              "    </tr>\n",
              "  </thead>\n",
              "  <tbody>\n",
              "    <tr>\n",
              "      <th>5</th>\n",
              "      <td>06-08-2020</td>\n",
              "      <td>00:50:00</td>\n",
              "      <td>1.600000e+09</td>\n",
              "      <td>73.8</td>\n",
              "      <td>0.030855</td>\n",
              "      <td>22.56</td>\n",
              "      <td>22.3</td>\n",
              "      <td>1013.5</td>\n",
              "      <td>2020-06-08 00:50:00</td>\n",
              "      <td>-0.675590</td>\n",
              "      <td>-0.737277</td>\n",
              "      <td>-0.564553</td>\n",
              "      <td>-0.825397</td>\n",
              "    </tr>\n",
              "    <tr>\n",
              "      <th>11</th>\n",
              "      <td>06-08-2020</td>\n",
              "      <td>01:50:00</td>\n",
              "      <td>1.600000e+09</td>\n",
              "      <td>74.0</td>\n",
              "      <td>0.150413</td>\n",
              "      <td>22.56</td>\n",
              "      <td>22.3</td>\n",
              "      <td>1013.2</td>\n",
              "      <td>2020-06-08 01:50:00</td>\n",
              "      <td>-0.843391</td>\n",
              "      <td>-0.537300</td>\n",
              "      <td>-0.565145</td>\n",
              "      <td>-0.824992</td>\n",
              "    </tr>\n",
              "    <tr>\n",
              "      <th>17</th>\n",
              "      <td>06-08-2020</td>\n",
              "      <td>02:50:00</td>\n",
              "      <td>1.600000e+09</td>\n",
              "      <td>70.9</td>\n",
              "      <td>0.042424</td>\n",
              "      <td>22.55</td>\n",
              "      <td>22.5</td>\n",
              "      <td>1012.8</td>\n",
              "      <td>2020-06-08 02:50:00</td>\n",
              "      <td>-0.953717</td>\n",
              "      <td>-0.300706</td>\n",
              "      <td>-0.565736</td>\n",
              "      <td>-0.824586</td>\n",
              "    </tr>\n",
              "    <tr>\n",
              "      <th>23</th>\n",
              "      <td>06-08-2020</td>\n",
              "      <td>03:50:00</td>\n",
              "      <td>1.600000e+09</td>\n",
              "      <td>68.3</td>\n",
              "      <td>0.073280</td>\n",
              "      <td>22.55</td>\n",
              "      <td>22.5</td>\n",
              "      <td>1012.5</td>\n",
              "      <td>2020-06-08 03:50:00</td>\n",
              "      <td>-0.999048</td>\n",
              "      <td>-0.043619</td>\n",
              "      <td>-0.566327</td>\n",
              "      <td>-0.824181</td>\n",
              "    </tr>\n",
              "    <tr>\n",
              "      <th>29</th>\n",
              "      <td>06-08-2020</td>\n",
              "      <td>04:50:00</td>\n",
              "      <td>1.600000e+09</td>\n",
              "      <td>73.7</td>\n",
              "      <td>0.011571</td>\n",
              "      <td>22.56</td>\n",
              "      <td>22.4</td>\n",
              "      <td>1012.7</td>\n",
              "      <td>2020-06-08 04:50:00</td>\n",
              "      <td>-0.976296</td>\n",
              "      <td>0.216440</td>\n",
              "      <td>-0.566917</td>\n",
              "      <td>-0.823775</td>\n",
              "    </tr>\n",
              "  </tbody>\n",
              "</table>\n",
              "</div>"
            ],
            "text/plain": [
              "          date      time  seconds_1970  ...   Day cos  Year sin  Year cos\n",
              "5   06-08-2020  00:50:00  1.600000e+09  ... -0.737277 -0.564553 -0.825397\n",
              "11  06-08-2020  01:50:00  1.600000e+09  ... -0.537300 -0.565145 -0.824992\n",
              "17  06-08-2020  02:50:00  1.600000e+09  ... -0.300706 -0.565736 -0.824586\n",
              "23  06-08-2020  03:50:00  1.600000e+09  ... -0.043619 -0.566327 -0.824181\n",
              "29  06-08-2020  04:50:00  1.600000e+09  ...  0.216440 -0.566917 -0.823775\n",
              "\n",
              "[5 rows x 13 columns]"
            ]
          },
          "metadata": {
            "tags": []
          },
          "execution_count": 31
        }
      ]
    },
    {
      "cell_type": "code",
      "metadata": {
        "id": "fNJ1Z2xgbZPt"
      },
      "source": [
        "df=df[['Humidity','Air_Temperature','Air_Pressure']]"
      ],
      "execution_count": 32,
      "outputs": []
    },
    {
      "cell_type": "code",
      "metadata": {
        "id": "1dfU9-rmbZSi"
      },
      "source": [
        "column_indices = {name: i for i, name in enumerate(df.columns)}\r\n",
        "\r\n",
        "n = len(df)\r\n",
        "train_df = df[0:int(n*0.7)]\r\n",
        "val_df = df[int(n*0.7):int(n*0.9)]\r\n",
        "test_df = df[int(n*0.9):]\r\n",
        "\r\n",
        "num_features = df.shape[1]\r\n"
      ],
      "execution_count": 33,
      "outputs": []
    },
    {
      "cell_type": "code",
      "metadata": {
        "id": "UYHRfZY0bZVJ"
      },
      "source": [
        "train_mean = train_df.mean()\r\n",
        "train_std = train_df.std()\r\n",
        "\r\n",
        "train_df = (train_df - train_mean) / train_std\r\n",
        "val_df = (val_df - train_mean) / train_std\r\n",
        "test_df = (test_df - train_mean) / train_std"
      ],
      "execution_count": 34,
      "outputs": []
    },
    {
      "cell_type": "code",
      "metadata": {
        "id": "EzmmpKDAbZX9"
      },
      "source": [
        "class WindowGenerator():\r\n",
        "  def __init__(self, input_width, label_width, shift,\r\n",
        "               train_df=train_df, val_df=val_df, test_df=test_df,\r\n",
        "               label_columns=None):\r\n",
        "    # Store the raw data.\r\n",
        "    self.train_df = train_df\r\n",
        "    self.val_df = val_df\r\n",
        "    self.test_df = test_df\r\n",
        "\r\n",
        "    # Work out the label column indices.\r\n",
        "    self.label_columns = label_columns\r\n",
        "    if label_columns is not None:\r\n",
        "      self.label_columns_indices = {name: i for i, name in\r\n",
        "                                    enumerate(label_columns)}\r\n",
        "    self.column_indices = {name: i for i, name in\r\n",
        "                           enumerate(train_df.columns)}\r\n",
        "\r\n",
        "    # Work out the window parameters.\r\n",
        "    self.input_width = input_width\r\n",
        "    self.label_width = label_width\r\n",
        "    self.shift = shift\r\n",
        "\r\n",
        "    self.total_window_size = input_width + shift\r\n",
        "\r\n",
        "    self.input_slice = slice(0, input_width)\r\n",
        "    self.input_indices = np.arange(self.total_window_size)[self.input_slice]\r\n",
        "\r\n",
        "    self.label_start = self.total_window_size - self.label_width\r\n",
        "    self.labels_slice = slice(self.label_start, None)\r\n",
        "    self.label_indices = np.arange(self.total_window_size)[self.labels_slice]\r\n",
        "\r\n",
        "  def __repr__(self):\r\n",
        "    return '\\n'.join([\r\n",
        "        f'Total window size: {self.total_window_size}',\r\n",
        "        f'Input indices: {self.input_indices}',\r\n",
        "        f'Label indices: {self.label_indices}',\r\n",
        "        f'Label column name(s): {self.label_columns}'])"
      ],
      "execution_count": 35,
      "outputs": []
    },
    {
      "cell_type": "code",
      "metadata": {
        "id": "8YGum19JbZbC"
      },
      "source": [
        "w1 = WindowGenerator(input_width=72, label_width=1, shift=72,\r\n",
        "                     label_columns=['Air_Temperature'])\r\n",
        "w2 = WindowGenerator(input_width=18, label_width=1, shift=1,\r\n",
        "                     label_columns=['Air_Temperature'])"
      ],
      "execution_count": 36,
      "outputs": []
    },
    {
      "cell_type": "code",
      "metadata": {
        "id": "kkqLYefYbZen"
      },
      "source": [
        "def split_window(self, features):\r\n",
        "  inputs = features[:, self.input_slice, :]\r\n",
        "  labels = features[:, self.labels_slice, :]\r\n",
        "  if self.label_columns is not None:\r\n",
        "    labels = tf.stack(\r\n",
        "        [labels[:, :, self.column_indices[name]] for name in self.label_columns],\r\n",
        "        axis=-1)\r\n",
        "\r\n",
        "  # Slicing doesn't preserve static shape information, so set the shapes\r\n",
        "  # manually. This way the `tf.data.Datasets` are easier to inspect.\r\n",
        "  inputs.set_shape([None, self.input_width, None])\r\n",
        "  labels.set_shape([None, self.label_width, None])\r\n",
        "\r\n",
        "  return inputs, labels\r\n",
        "\r\n",
        "WindowGenerator.split_window = split_window"
      ],
      "execution_count": 37,
      "outputs": []
    },
    {
      "cell_type": "code",
      "metadata": {
        "id": "yRrlVi1obZhi"
      },
      "source": [
        "# Stack three slices, the length of the total window:\r\n",
        "example_window = tf.stack([np.array(train_df[:w2.total_window_size]),\r\n",
        "                           np.array(train_df[100:100+w2.total_window_size]),\r\n",
        "                           np.array(train_df[200:200+w2.total_window_size])])\r\n",
        "\r\n",
        "example_inputs, example_labels = w2.split_window(example_window)\r\n"
      ],
      "execution_count": 38,
      "outputs": []
    },
    {
      "cell_type": "code",
      "metadata": {
        "id": "GeSSQE7cbZkK"
      },
      "source": [
        "w2.example = example_inputs, example_labels\r\n"
      ],
      "execution_count": 39,
      "outputs": []
    },
    {
      "cell_type": "code",
      "metadata": {
        "id": "UJNQlipVbZm6"
      },
      "source": [
        "def make_dataset(self, data):\r\n",
        "  data = np.array(data, dtype=np.float32)\r\n",
        "  ds = tf.keras.preprocessing.timeseries_dataset_from_array(\r\n",
        "      data=data,\r\n",
        "      targets=None,\r\n",
        "      sequence_length=self.total_window_size,\r\n",
        "      sequence_stride=1,\r\n",
        "      shuffle=True,\r\n",
        "      batch_size=32,)\r\n",
        "\r\n",
        "  ds = ds.map(self.split_window)\r\n",
        "\r\n",
        "  return ds\r\n",
        "\r\n",
        "WindowGenerator.make_dataset = make_dataset\r\n"
      ],
      "execution_count": 40,
      "outputs": []
    },
    {
      "cell_type": "code",
      "metadata": {
        "id": "Fk_OJZP7bZps"
      },
      "source": [
        "@property\r\n",
        "def train(self):\r\n",
        "  return self.make_dataset(self.train_df)\r\n",
        "\r\n",
        "@property\r\n",
        "def val(self):\r\n",
        "  return self.make_dataset(self.val_df)\r\n",
        "\r\n",
        "@property\r\n",
        "def test(self):\r\n",
        "  return self.make_dataset(self.test_df)\r\n",
        "\r\n",
        "@property\r\n",
        "def example(self):\r\n",
        "  \"\"\"Get and cache an example batch of `inputs, labels` for plotting.\"\"\"\r\n",
        "  result = getattr(self, '_example', None)\r\n",
        "  if result is None:\r\n",
        "    # No example batch was found, so get one from the `.train` dataset\r\n",
        "    result = next(iter(self.train))\r\n",
        "    # And cache it for next time\r\n",
        "    self._example = result\r\n",
        "  return result\r\n",
        "\r\n",
        "WindowGenerator.train = train\r\n",
        "WindowGenerator.val = val\r\n",
        "WindowGenerator.test = test\r\n",
        "WindowGenerator.example = example\r\n"
      ],
      "execution_count": 41,
      "outputs": []
    },
    {
      "cell_type": "code",
      "metadata": {
        "colab": {
          "base_uri": "https://localhost:8080/"
        },
        "id": "57BlkbV5bZs8",
        "outputId": "82dd6fa3-5ee2-4a3c-bd7a-d5991c14972b"
      },
      "source": [
        "# Each element is an (inputs, label) pair\r\n",
        "w2.train.element_spec\r\n",
        "for example_inputs, example_labels in w2.train.take(1):\r\n",
        "  print(f'Inputs shape (batch, time, features): {example_inputs.shape}')\r\n",
        "  print(f'Labels shape (batch, time, features): {example_labels.shape}')\r\n"
      ],
      "execution_count": 42,
      "outputs": [
        {
          "output_type": "stream",
          "text": [
            "Inputs shape (batch, time, features): (32, 18, 3)\n",
            "Labels shape (batch, time, features): (32, 1, 1)\n"
          ],
          "name": "stdout"
        }
      ]
    },
    {
      "cell_type": "code",
      "metadata": {
        "colab": {
          "base_uri": "https://localhost:8080/"
        },
        "id": "ISnJtyXRbZvP",
        "outputId": "a699178f-355f-4fb4-9270-ea00cc5a698f"
      },
      "source": [
        "single_step_window = WindowGenerator(\r\n",
        "    # `WindowGenerator` returns all features as labels if you \r\n",
        "    # don't set the `label_columns` argument.\r\n",
        "    input_width=18, label_width=1, shift=1)\r\n",
        "\r\n",
        "wide_window = WindowGenerator(\r\n",
        "    input_width=72, label_width=72, shift=1)\r\n",
        "\r\n",
        "for example_inputs, example_labels in wide_window.train.take(1):\r\n",
        "  print(f'Inputs shape (batch, time, features): {example_inputs.shape}')\r\n",
        "  print(f'Labels shape (batch, time, features): {example_labels.shape}')"
      ],
      "execution_count": 43,
      "outputs": [
        {
          "output_type": "stream",
          "text": [
            "Inputs shape (batch, time, features): (32, 72, 3)\n",
            "Labels shape (batch, time, features): (32, 72, 3)\n"
          ],
          "name": "stdout"
        }
      ]
    },
    {
      "cell_type": "code",
      "metadata": {
        "id": "syN1p9bJbZyA"
      },
      "source": [
        "val_performance = {}\r\n",
        "performance = {}\r\n"
      ],
      "execution_count": 44,
      "outputs": []
    },
    {
      "cell_type": "code",
      "metadata": {
        "id": "F4r9XIhUbZ0X"
      },
      "source": [
        "MAX_EPOCHS = 20\r\n",
        "\r\n",
        "def compile_and_fit(model, window, patience=2):\r\n",
        "  early_stopping = tf.keras.callbacks.EarlyStopping(monitor='val_loss',\r\n",
        "                                                    patience=patience,\r\n",
        "                                                    mode='min')\r\n",
        "\r\n",
        "  model.compile(loss=tf.losses.MeanSquaredError(),\r\n",
        "                optimizer=tf.optimizers.Adam(),\r\n",
        "                metrics=[tf.metrics.MeanAbsoluteError()])\r\n",
        "\r\n",
        "  history = model.fit(window.train, epochs=MAX_EPOCHS,\r\n",
        "                      validation_data=window.val,\r\n",
        "                      callbacks=[early_stopping])\r\n",
        "  return history\r\n"
      ],
      "execution_count": 45,
      "outputs": []
    },
    {
      "cell_type": "code",
      "metadata": {
        "colab": {
          "base_uri": "https://localhost:8080/"
        },
        "id": "-yZ1xDAMbZ2t",
        "outputId": "a7e51c0b-3e65-47ba-bffc-b460c8bdd372"
      },
      "source": [
        "%%time\r\n",
        "wide_window = WindowGenerator(\r\n",
        "    input_width=72, label_width=72, shift=1)\r\n",
        "\r\n",
        "lstm_model = tf.keras.models.Sequential([\r\n",
        "    # Shape [batch, time, features] => [batch, time, lstm_units]\r\n",
        "    tf.keras.layers.LSTM(32, return_sequences=True),\r\n",
        "    # Shape => [batch, time, features]\r\n",
        "    tf.keras.layers.Dense(units=num_features)\r\n",
        "])\r\n",
        "\r\n",
        "history = compile_and_fit(lstm_model, wide_window)\r\n",
        "\r\n",
        "IPython.display.clear_output()\r\n",
        "val_performance['LSTM'] = lstm_model.evaluate( wide_window.val)\r\n",
        "performance['LSTM'] = lstm_model.evaluate( wide_window.test, verbose=0)\r\n",
        "\r\n",
        "print()\r\n"
      ],
      "execution_count": 46,
      "outputs": [
        {
          "output_type": "stream",
          "text": [
            "24/24 [==============================] - 0s 8ms/step - loss: 0.0776 - mean_absolute_error: 0.1985\n",
            "\n",
            "CPU times: user 1min 23s, sys: 7.6 s, total: 1min 31s\n",
            "Wall time: 59.5 s\n"
          ],
          "name": "stdout"
        }
      ]
    },
    {
      "cell_type": "code",
      "metadata": {
        "id": "LZB9Bo6ybZ5v"
      },
      "source": [
        "class ResidualWrapper(tf.keras.Model):\r\n",
        "  def __init__(self, model):\r\n",
        "    super().__init__()\r\n",
        "    self.model = model\r\n",
        "\r\n",
        "  def call(self, inputs, *args, **kwargs):\r\n",
        "    delta = self.model(inputs, *args, **kwargs)\r\n",
        "\r\n",
        "    # The prediction for each timestep is the input\r\n",
        "    # from the previous time step plus the delta\r\n",
        "    # calculated by the model.\r\n",
        "    return inputs + delta"
      ],
      "execution_count": 47,
      "outputs": []
    },
    {
      "cell_type": "code",
      "metadata": {
        "colab": {
          "base_uri": "https://localhost:8080/"
        },
        "id": "CdZXCiHpbZ_S",
        "outputId": "599e05aa-542c-4a36-b2c9-5ebc7215773f"
      },
      "source": [
        "%%time\r\n",
        "residual_lstm = ResidualWrapper(\r\n",
        "    tf.keras.Sequential([\r\n",
        "    tf.keras.layers.LSTM(32, return_sequences=True),\r\n",
        "    tf.keras.layers.Dense(\r\n",
        "        num_features,\r\n",
        "        # The predicted deltas should start small\r\n",
        "        # So initialize the output layer with zeros\r\n",
        "        kernel_initializer=tf.initializers.zeros)\r\n",
        "]))\r\n",
        "\r\n",
        "history = compile_and_fit(residual_lstm, wide_window)\r\n",
        "\r\n",
        "IPython.display.clear_output()\r\n",
        "val_performance['Residual LSTM'] = residual_lstm.evaluate(wide_window.val)\r\n",
        "performance['Residual LSTM'] = residual_lstm.evaluate(wide_window.test, verbose=0)\r\n",
        "print()\r\n"
      ],
      "execution_count": 48,
      "outputs": [
        {
          "output_type": "stream",
          "text": [
            "24/24 [==============================] - 0s 8ms/step - loss: 0.0553 - mean_absolute_error: 0.1536\n",
            "\n",
            "CPU times: user 32 s, sys: 2.67 s, total: 34.6 s\n",
            "Wall time: 22.8 s\n"
          ],
          "name": "stdout"
        }
      ]
    },
    {
      "cell_type": "code",
      "metadata": {
        "colab": {
          "base_uri": "https://localhost:8080/",
          "height": 314
        },
        "id": "Vypq3dzpcbXD",
        "outputId": "05e69b68-4c36-4124-ef32-4c84274eb1f0"
      },
      "source": [
        "x = np.arange(len(performance))\r\n",
        "width = 0.3\r\n",
        "\r\n",
        "metric_name = 'mean_absolute_error'\r\n",
        "metric_index = lstm_model.metrics_names.index('mean_absolute_error')\r\n",
        "val_mae = [v[metric_index] for v in val_performance.values()]\r\n",
        "test_mae = [v[metric_index] for v in performance.values()]\r\n",
        "\r\n",
        "plt.bar(x - 0.17, val_mae, width, label='Validation')\r\n",
        "plt.bar(x + 0.17, test_mae, width, label='Test')\r\n",
        "plt.xticks(ticks=x, labels=performance.keys(),\r\n",
        "           rotation=45)\r\n",
        "plt.ylabel('MAE (average over all outputs)')\r\n",
        "_ = plt.legend()\r\n"
      ],
      "execution_count": 49,
      "outputs": [
        {
          "output_type": "display_data",
          "data": {
            "image/png": "[encoded data removed]",
            "text/plain": [
              "<Figure size 432x288 with 1 Axes>"
            ]
          },
          "metadata": {
            "tags": [],
            "needs_background": "light"
          }
        }
      ]
    },
    {
      "cell_type": "code",
      "metadata": {
        "colab": {
          "base_uri": "https://localhost:8080/"
        },
        "id": "_uzTXVJQcbgr",
        "outputId": "ce65a11d-d539-4879-cad4-b9bb449e5fff"
      },
      "source": [
        "for name, value in performance.items():\r\n",
        "  print(f'{name:15s}: {value[1]:0.4f}')"
      ],
      "execution_count": 50,
      "outputs": [
        {
          "output_type": "stream",
          "text": [
            "LSTM           : 0.2414\n",
            "Residual LSTM  : 0.1925\n"
          ],
          "name": "stdout"
        }
      ]
    }
  ]
}