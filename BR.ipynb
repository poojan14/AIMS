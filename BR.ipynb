{
  "nbformat": 4,
  "nbformat_minor": 0,
  "metadata": {
    "colab": {
      "name": "BR.ipynb",
      "provenance": [],
      "collapsed_sections": [],
      "authorship_tag": "ABX9TyNexUQqXsa+pVOhH79fzjA1",
      "include_colab_link": true
    },
    "kernelspec": {
      "name": "python3",
      "display_name": "Python 3"
    }
  },
  "cells": [
    {
      "cell_type": "markdown",
      "metadata": {
        "id": "view-in-github",
        "colab_type": "text"
      },
      "source": [
        "<a href=\"https://colab.research.google.com/github/poojan14/AIMS/blob/main/BR.ipynb\" target=\"_parent\"><img src=\"https://colab.research.google.com/assets/colab-badge.svg\" alt=\"Open In Colab\"/></a>"
      ]
    },
    {
      "cell_type": "code",
      "metadata": {
        "colab": {
          "base_uri": "https://localhost:8080/"
        },
        "id": "4_w4FdFfdDj7",
        "outputId": "26273839-b740-438d-d7dd-75b6a24d00f7"
      },
      "source": [
        "!pip install pydrive\r\n",
        "from pydrive.auth import GoogleAuth\r\n",
        "from pydrive.drive import GoogleDrive\r\n",
        "from google.colab import auth\r\n",
        "from oauth2client.client import GoogleCredentials\r\n",
        " \r\n",
        "# 1. Authenticate and create the PyDrive client.\r\n",
        "auth.authenticate_user()\r\n",
        "gauth = GoogleAuth()\r\n",
        "gauth.credentials = GoogleCredentials.get_application_default()\r\n",
        "drive = GoogleDrive(gauth)\r\n"
      ],
      "execution_count": 3,
      "outputs": [
        {
          "output_type": "stream",
          "text": [
            "Requirement already satisfied: pydrive in /usr/local/lib/python3.6/dist-packages (1.3.1)\n",
            "Requirement already satisfied: PyYAML>=3.0 in /usr/local/lib/python3.6/dist-packages (from pydrive) (3.13)\n",
            "Requirement already satisfied: google-api-python-client>=1.2 in /usr/local/lib/python3.6/dist-packages (from pydrive) (1.7.12)\n",
            "Requirement already satisfied: oauth2client>=4.0.0 in /usr/local/lib/python3.6/dist-packages (from pydrive) (4.1.3)\n",
            "Requirement already satisfied: httplib2<1dev,>=0.17.0 in /usr/local/lib/python3.6/dist-packages (from google-api-python-client>=1.2->pydrive) (0.17.4)\n",
            "Requirement already satisfied: google-auth-httplib2>=0.0.3 in /usr/local/lib/python3.6/dist-packages (from google-api-python-client>=1.2->pydrive) (0.0.4)\n",
            "Requirement already satisfied: uritemplate<4dev,>=3.0.0 in /usr/local/lib/python3.6/dist-packages (from google-api-python-client>=1.2->pydrive) (3.0.1)\n",
            "Requirement already satisfied: six<2dev,>=1.6.1 in /usr/local/lib/python3.6/dist-packages (from google-api-python-client>=1.2->pydrive) (1.15.0)\n",
            "Requirement already satisfied: google-auth>=1.4.1 in /usr/local/lib/python3.6/dist-packages (from google-api-python-client>=1.2->pydrive) (1.25.0)\n",
            "Requirement already satisfied: rsa>=3.1.4 in /usr/local/lib/python3.6/dist-packages (from oauth2client>=4.0.0->pydrive) (4.7)\n",
            "Requirement already satisfied: pyasn1-modules>=0.0.5 in /usr/local/lib/python3.6/dist-packages (from oauth2client>=4.0.0->pydrive) (0.2.8)\n",
            "Requirement already satisfied: pyasn1>=0.1.7 in /usr/local/lib/python3.6/dist-packages (from oauth2client>=4.0.0->pydrive) (0.4.8)\n",
            "Requirement already satisfied: setuptools>=40.3.0 in /usr/local/lib/python3.6/dist-packages (from google-auth>=1.4.1->google-api-python-client>=1.2->pydrive) (53.0.0)\n",
            "Requirement already satisfied: cachetools<5.0,>=2.0.0 in /usr/local/lib/python3.6/dist-packages (from google-auth>=1.4.1->google-api-python-client>=1.2->pydrive) (4.2.1)\n"
          ],
          "name": "stdout"
        }
      ]
    },
    {
      "cell_type": "code",
      "metadata": {
        "id": "HaKlk6esz2kp"
      },
      "source": [
        "import pandas as pd\r\n",
        "import numpy as np\r\n",
        "\r\n",
        "download = drive.CreateFile({'id':'1QcgMQqHyY-Bx9XOd0Im3QIDaorf2n3YW'})\r\n",
        "download.GetContentFile('feature_file(1).csv')\r\n",
        "df1=pd.read_csv('feature_file(1).csv')"
      ],
      "execution_count": 4,
      "outputs": []
    },
    {
      "cell_type": "code",
      "metadata": {
        "id": "BzYFNyGFdE3u"
      },
      "source": [
        "download = drive.CreateFile({'id':'1CQi9p06TptdOUgWm26KzJPG2toxSEhmd'})\r\n",
        "download.GetContentFile('feature_file(2).csv')\r\n",
        "df2=pd.read_csv('feature_file(2).csv')\r\n"
      ],
      "execution_count": 5,
      "outputs": []
    },
    {
      "cell_type": "code",
      "metadata": {
        "id": "FUzoTbGX1Rey"
      },
      "source": [
        "download = drive.CreateFile({'id':'1C573UMtJt6vI8BzbTMQvWEq0rVO7Pw91'})\r\n",
        "download.GetContentFile('feature_file(3).csv')\r\n",
        "df3=pd.read_csv('feature_file(3).csv')\r\n"
      ],
      "execution_count": 6,
      "outputs": []
    },
    {
      "cell_type": "code",
      "metadata": {
        "id": "lyfpYQBd1SLk"
      },
      "source": [
        "download = drive.CreateFile({'id':'10krvWfQNieGmCkNG6zahHSof-T7mqlVM'})\r\n",
        "download.GetContentFile('feature_file(4).csv')\r\n",
        "df4=pd.read_csv('feature_file(4).csv')\r\n"
      ],
      "execution_count": 7,
      "outputs": []
    },
    {
      "cell_type": "code",
      "metadata": {
        "id": "LwYmFGsD1Sf5"
      },
      "source": [
        "download = drive.CreateFile({'id':'10krvWfQNieGmCkNG6zahHSof-T7mqlVM'})\r\n",
        "download.GetContentFile('feature_file(5).csv')\r\n",
        "df5=pd.read_csv('feature_file(5).csv')\r\n"
      ],
      "execution_count": 8,
      "outputs": []
    },
    {
      "cell_type": "code",
      "metadata": {
        "id": "9BuRVJ4Y1Sw_"
      },
      "source": [
        "download = drive.CreateFile({'id':'1fpFBaiNbqydJUfhKdoKZZLqaTxRmJrOB'})\r\n",
        "download.GetContentFile('feature_file(6).csv')\r\n",
        "df6=pd.read_csv('feature_file(6).csv')\r\n"
      ],
      "execution_count": 9,
      "outputs": []
    },
    {
      "cell_type": "code",
      "metadata": {
        "id": "trXwxY_71THN"
      },
      "source": [
        "download = drive.CreateFile({'id':'15zRIpEb0006X6nup3r0gd-s-c86nrrqc'})\r\n",
        "download.GetContentFile('feature_file(7).csv')\r\n",
        "df7=pd.read_csv('feature_file(7).csv')\r\n"
      ],
      "execution_count": 10,
      "outputs": []
    },
    {
      "cell_type": "code",
      "metadata": {
        "id": "EQuDhmHN1Te0"
      },
      "source": [
        "download = drive.CreateFile({'id':'117wn2jJg5EQWy53r4rhbrYAb9OBasMLj'})\r\n",
        "download.GetContentFile('feature_file(8).csv')\r\n",
        "df8=pd.read_csv('feature_file(8).csv')\r\n"
      ],
      "execution_count": 11,
      "outputs": []
    },
    {
      "cell_type": "code",
      "metadata": {
        "id": "4WB4v0Jx1pBy"
      },
      "source": [
        "download = drive.CreateFile({'id':'1B-dxpiLeMBJlY-K7zsE9Jtlsfdww73-j'})\r\n",
        "download.GetContentFile('feature_file(9).csv')\r\n",
        "df9=pd.read_csv('feature_file(9).csv')\r\n"
      ],
      "execution_count": 12,
      "outputs": []
    },
    {
      "cell_type": "code",
      "metadata": {
        "id": "k54SWNTA1pRw"
      },
      "source": [
        "download = drive.CreateFile({'id':'1K30DAz2rBA3070Xx1KbVTuV2LJ2vmK6n'})\r\n",
        "download.GetContentFile('feature_file(10).csv')\r\n",
        "df10=pd.read_csv('feature_file(10).csv')\r\n"
      ],
      "execution_count": 13,
      "outputs": []
    },
    {
      "cell_type": "code",
      "metadata": {
        "id": "Krv8UxhBv6hC"
      },
      "source": [
        "df1=df1[df1.columns[1:6]] \r\n",
        "df2=df2[df2.columns[1:6]] \r\n",
        "df3=df3[df3.columns[1:6]] \r\n",
        "df4=df4[df4.columns[1:6]] \r\n",
        "df5=df5[df5.columns[1:6]] \r\n",
        "df6=df6[df6.columns[1:6]] \r\n",
        "df7=df7[df7.columns[1:6]] \r\n",
        "df8=df8[df8.columns[1:6]] \r\n",
        "df9=df9[df9.columns[1:6]] \r\n",
        "df10=df10[df10.columns[1:6]] \r\n"
      ],
      "execution_count": 14,
      "outputs": []
    },
    {
      "cell_type": "code",
      "metadata": {
        "id": "8enNFdOtv_px"
      },
      "source": [
        "df1=df1.dropna()\r\n",
        "df2=df2.dropna()\r\n",
        "df3=df3.dropna()\r\n",
        "df4=df4.dropna()\r\n",
        "df5=df5.dropna()\r\n",
        "df6=df6.dropna()\r\n",
        "df7=df7.dropna()\r\n",
        "df8=df8.dropna()\r\n",
        "df9=df9.dropna()\r\n",
        "df10=df10.dropna()\r\n",
        "df1=df1.dropna()\r\n"
      ],
      "execution_count": 15,
      "outputs": []
    },
    {
      "cell_type": "code",
      "metadata": {
        "id": "Xr68NrTSwAlD"
      },
      "source": [
        "frames=[df1,df2,df3,df4,df5,df6,df7,df8,df9,df10]\r\n",
        "df_tot=pd.concat(frames)"
      ],
      "execution_count": 16,
      "outputs": []
    },
    {
      "cell_type": "code",
      "metadata": {
        "colab": {
          "base_uri": "https://localhost:8080/",
          "height": 204
        },
        "id": "PW_wBOYLwBID",
        "outputId": "f19b0373-9e4e-48ea-d885-b89966e24bc6"
      },
      "source": [
        "df_tot.head()"
      ],
      "execution_count": 17,
      "outputs": [
        {
          "output_type": "execute_result",
          "data": {
            "text/html": [
              "<div>\n",
              "<style scoped>\n",
              "    .dataframe tbody tr th:only-of-type {\n",
              "        vertical-align: middle;\n",
              "    }\n",
              "\n",
              "    .dataframe tbody tr th {\n",
              "        vertical-align: top;\n",
              "    }\n",
              "\n",
              "    .dataframe thead th {\n",
              "        text-align: right;\n",
              "    }\n",
              "</style>\n",
              "<table border=\"1\" class=\"dataframe\">\n",
              "  <thead>\n",
              "    <tr style=\"text-align: right;\">\n",
              "      <th></th>\n",
              "      <th>BreathingDepth</th>\n",
              "      <th>BreathingRate</th>\n",
              "      <th>Cadence</th>\n",
              "      <th>HeartRate</th>\n",
              "      <th>Intensity</th>\n",
              "    </tr>\n",
              "  </thead>\n",
              "  <tbody>\n",
              "    <tr>\n",
              "      <th>4</th>\n",
              "      <td>6.0</td>\n",
              "      <td>18.750000</td>\n",
              "      <td>0.0</td>\n",
              "      <td>61.000000</td>\n",
              "      <td>0.066881</td>\n",
              "    </tr>\n",
              "    <tr>\n",
              "      <th>6</th>\n",
              "      <td>3.0</td>\n",
              "      <td>22.058823</td>\n",
              "      <td>0.0</td>\n",
              "      <td>60.110094</td>\n",
              "      <td>0.058578</td>\n",
              "    </tr>\n",
              "    <tr>\n",
              "      <th>11</th>\n",
              "      <td>4.0</td>\n",
              "      <td>18.750000</td>\n",
              "      <td>0.0</td>\n",
              "      <td>58.153725</td>\n",
              "      <td>0.066881</td>\n",
              "    </tr>\n",
              "    <tr>\n",
              "      <th>14</th>\n",
              "      <td>4.0</td>\n",
              "      <td>22.058823</td>\n",
              "      <td>0.0</td>\n",
              "      <td>58.761372</td>\n",
              "      <td>0.087361</td>\n",
              "    </tr>\n",
              "    <tr>\n",
              "      <th>16</th>\n",
              "      <td>2.0</td>\n",
              "      <td>22.058823</td>\n",
              "      <td>0.0</td>\n",
              "      <td>59.609966</td>\n",
              "      <td>0.087361</td>\n",
              "    </tr>\n",
              "  </tbody>\n",
              "</table>\n",
              "</div>"
            ],
            "text/plain": [
              "    BreathingDepth  BreathingRate  Cadence  HeartRate  Intensity\n",
              "4              6.0      18.750000      0.0  61.000000   0.066881\n",
              "6              3.0      22.058823      0.0  60.110094   0.058578\n",
              "11             4.0      18.750000      0.0  58.153725   0.066881\n",
              "14             4.0      22.058823      0.0  58.761372   0.087361\n",
              "16             2.0      22.058823      0.0  59.609966   0.087361"
            ]
          },
          "metadata": {
            "tags": []
          },
          "execution_count": 17
        }
      ]
    },
    {
      "cell_type": "code",
      "metadata": {
        "colab": {
          "base_uri": "https://localhost:8080/"
        },
        "id": "bS9zG-365Ug6",
        "outputId": "8b080be0-441a-4aeb-b7cb-de87887f3bc7"
      },
      "source": [
        "df_tot.shape"
      ],
      "execution_count": 18,
      "outputs": [
        {
          "output_type": "execute_result",
          "data": {
            "text/plain": [
              "(3057942, 5)"
            ]
          },
          "metadata": {
            "tags": []
          },
          "execution_count": 18
        }
      ]
    },
    {
      "cell_type": "code",
      "metadata": {
        "id": "bK5_adjqdFFX"
      },
      "source": [
        "import os\r\n",
        "import datetime\r\n",
        "\r\n",
        "import IPython\r\n",
        "import IPython.display\r\n",
        "import matplotlib as mpl\r\n",
        "import matplotlib.pyplot as plt\r\n",
        "import numpy as np\r\n",
        "import pandas as pd\r\n",
        "import seaborn as sns\r\n",
        "import tensorflow as tf\r\n"
      ],
      "execution_count": 19,
      "outputs": []
    },
    {
      "cell_type": "code",
      "metadata": {
        "id": "f19oZxjMdFR9"
      },
      "source": [
        "\r\n",
        "column_indices = {name: i for i, name in enumerate(df_tot.columns)}\r\n",
        "\r\n",
        "n = len(df_tot)\r\n",
        "train_df = df_tot[0:int(n*0.7)]\r\n",
        "val_df = df_tot[int(n*0.7):int(n*0.9)]\r\n",
        "test_df = df_tot[int(n*0.9):]\r\n",
        "\r\n",
        "num_features = df_tot.shape[1]"
      ],
      "execution_count": 20,
      "outputs": []
    },
    {
      "cell_type": "code",
      "metadata": {
        "id": "J7B2UDiSdFUn"
      },
      "source": [
        "train_mean = train_df.mean()\r\n",
        "train_std = train_df.std()\r\n",
        "\r\n",
        "train_df = (train_df - train_mean) / train_std\r\n",
        "val_df = (val_df - train_mean) / train_std\r\n",
        "test_df = (test_df - train_mean) / train_std"
      ],
      "execution_count": 21,
      "outputs": []
    },
    {
      "cell_type": "code",
      "metadata": {
        "colab": {
          "base_uri": "https://localhost:8080/",
          "height": 204
        },
        "id": "usnkV4l7BwAr",
        "outputId": "c634d8ac-1866-4597-bd66-da3c26881152"
      },
      "source": [
        "train_df.head(5)"
      ],
      "execution_count": 22,
      "outputs": [
        {
          "output_type": "execute_result",
          "data": {
            "text/html": [
              "<div>\n",
              "<style scoped>\n",
              "    .dataframe tbody tr th:only-of-type {\n",
              "        vertical-align: middle;\n",
              "    }\n",
              "\n",
              "    .dataframe tbody tr th {\n",
              "        vertical-align: top;\n",
              "    }\n",
              "\n",
              "    .dataframe thead th {\n",
              "        text-align: right;\n",
              "    }\n",
              "</style>\n",
              "<table border=\"1\" class=\"dataframe\">\n",
              "  <thead>\n",
              "    <tr style=\"text-align: right;\">\n",
              "      <th></th>\n",
              "      <th>BreathingDepth</th>\n",
              "      <th>BreathingRate</th>\n",
              "      <th>Cadence</th>\n",
              "      <th>HeartRate</th>\n",
              "      <th>Intensity</th>\n",
              "    </tr>\n",
              "  </thead>\n",
              "  <tbody>\n",
              "    <tr>\n",
              "      <th>4</th>\n",
              "      <td>-0.132821</td>\n",
              "      <td>-0.894633</td>\n",
              "      <td>-0.378789</td>\n",
              "      <td>-1.415598</td>\n",
              "      <td>-0.111473</td>\n",
              "    </tr>\n",
              "    <tr>\n",
              "      <th>6</th>\n",
              "      <td>-0.682219</td>\n",
              "      <td>-0.254040</td>\n",
              "      <td>-0.378789</td>\n",
              "      <td>-1.474966</td>\n",
              "      <td>-0.168167</td>\n",
              "    </tr>\n",
              "    <tr>\n",
              "      <th>11</th>\n",
              "      <td>-0.499086</td>\n",
              "      <td>-0.894633</td>\n",
              "      <td>-0.378789</td>\n",
              "      <td>-1.605480</td>\n",
              "      <td>-0.111473</td>\n",
              "    </tr>\n",
              "    <tr>\n",
              "      <th>14</th>\n",
              "      <td>-0.499086</td>\n",
              "      <td>-0.254040</td>\n",
              "      <td>-0.378789</td>\n",
              "      <td>-1.564943</td>\n",
              "      <td>0.028368</td>\n",
              "    </tr>\n",
              "    <tr>\n",
              "      <th>16</th>\n",
              "      <td>-0.865352</td>\n",
              "      <td>-0.254040</td>\n",
              "      <td>-0.378789</td>\n",
              "      <td>-1.508331</td>\n",
              "      <td>0.028368</td>\n",
              "    </tr>\n",
              "  </tbody>\n",
              "</table>\n",
              "</div>"
            ],
            "text/plain": [
              "    BreathingDepth  BreathingRate   Cadence  HeartRate  Intensity\n",
              "4        -0.132821      -0.894633 -0.378789  -1.415598  -0.111473\n",
              "6        -0.682219      -0.254040 -0.378789  -1.474966  -0.168167\n",
              "11       -0.499086      -0.894633 -0.378789  -1.605480  -0.111473\n",
              "14       -0.499086      -0.254040 -0.378789  -1.564943   0.028368\n",
              "16       -0.865352      -0.254040 -0.378789  -1.508331   0.028368"
            ]
          },
          "metadata": {
            "tags": []
          },
          "execution_count": 22
        }
      ]
    },
    {
      "cell_type": "code",
      "metadata": {
        "id": "ix9LuRZVdFXh"
      },
      "source": [
        "class WindowGenerator():\r\n",
        "  def __init__(self, input_width, label_width, shift,\r\n",
        "               train_df=train_df, val_df=val_df, test_df=test_df,\r\n",
        "               label_columns=None):\r\n",
        "    # Store the raw data.\r\n",
        "    self.train_df = train_df\r\n",
        "    self.val_df = val_df\r\n",
        "    self.test_df = test_df\r\n",
        "\r\n",
        "    # Work out the label column indices.\r\n",
        "    self.label_columns = label_columns\r\n",
        "    if label_columns is not None:\r\n",
        "      self.label_columns_indices = {name: i for i, name in\r\n",
        "                                    enumerate(label_columns)}\r\n",
        "    self.column_indices = {name: i for i, name in\r\n",
        "                           enumerate(train_df.columns)}\r\n",
        "\r\n",
        "    # Work out the window parameters.\r\n",
        "    self.input_width = input_width\r\n",
        "    self.label_width = label_width\r\n",
        "    self.shift = shift\r\n",
        "\r\n",
        "    self.total_window_size = input_width + shift\r\n",
        "\r\n",
        "    self.input_slice = slice(0, input_width)\r\n",
        "    self.input_indices = np.arange(self.total_window_size)[self.input_slice]\r\n",
        "\r\n",
        "    self.label_start = self.total_window_size - self.label_width\r\n",
        "    self.labels_slice = slice(self.label_start, None)\r\n",
        "    self.label_indices = np.arange(self.total_window_size)[self.labels_slice]\r\n",
        "\r\n",
        "  def __repr__(self):\r\n",
        "    return '\\n'.join([\r\n",
        "        f'Total window size: {self.total_window_size}',\r\n",
        "        f'Input indices: {self.input_indices}',\r\n",
        "        f'Label indices: {self.label_indices}',\r\n",
        "        f'Label column name(s): {self.label_columns}'])"
      ],
      "execution_count": 23,
      "outputs": []
    },
    {
      "cell_type": "code",
      "metadata": {
        "id": "1V7XxivsdFa7"
      },
      "source": [
        "w1 = WindowGenerator(input_width=288, label_width=288, shift=1,\r\n",
        "                     label_columns=['BreathingRate'])\r\n",
        "w2 = WindowGenerator(input_width=36, label_width=1, shift=1,\r\n",
        "                     label_columns=['BreathingRate'])"
      ],
      "execution_count": 24,
      "outputs": []
    },
    {
      "cell_type": "code",
      "metadata": {
        "id": "oUK0jcwUdFeQ"
      },
      "source": [
        "def split_window(self, features):\r\n",
        "  inputs = features[:, self.input_slice, :]\r\n",
        "  labels = features[:, self.labels_slice, :]\r\n",
        "  if self.label_columns is not None:\r\n",
        "    labels = tf.stack(\r\n",
        "        [labels[:, :, self.column_indices[name]] for name in self.label_columns],\r\n",
        "        axis=-1)\r\n",
        "\r\n",
        "  # Slicing doesn't preserve static shape information, so set the shapes\r\n",
        "  # manually. This way the `tf.data.Datasets` are easier to inspect.\r\n",
        "  inputs.set_shape([None, self.input_width, None])\r\n",
        "  labels.set_shape([None, self.label_width, None])\r\n",
        "\r\n",
        "  return inputs, labels\r\n",
        "\r\n",
        "WindowGenerator.split_window = split_window"
      ],
      "execution_count": 25,
      "outputs": []
    },
    {
      "cell_type": "code",
      "metadata": {
        "id": "HbBKDoWZdFgw"
      },
      "source": [
        "# Stack three slices, the length of the total window:\r\n",
        "example_window = tf.stack([np.array(train_df[:w2.total_window_size]),\r\n",
        "                           np.array(train_df[100:100+w2.total_window_size]),\r\n",
        "                           np.array(train_df[200:200+w2.total_window_size])])\r\n",
        "\r\n",
        "example_inputs, example_labels = w2.split_window(example_window)\r\n"
      ],
      "execution_count": 26,
      "outputs": []
    },
    {
      "cell_type": "code",
      "metadata": {
        "id": "nq-hkQvjdFjj"
      },
      "source": [
        "w2.example = example_inputs, example_labels\r\n"
      ],
      "execution_count": 27,
      "outputs": []
    },
    {
      "cell_type": "code",
      "metadata": {
        "id": "48IEAGBndFmv"
      },
      "source": [
        "def make_dataset(self, data):\r\n",
        "  data = np.array(data, dtype=np.float32)\r\n",
        "  ds = tf.keras.preprocessing.timeseries_dataset_from_array(\r\n",
        "      data=data,\r\n",
        "      targets=None,\r\n",
        "      sequence_length=self.total_window_size,\r\n",
        "      sequence_stride=1,\r\n",
        "      shuffle=True,\r\n",
        "      batch_size=64,)\r\n",
        "\r\n",
        "  ds = ds.map(self.split_window)\r\n",
        "\r\n",
        "  return ds\r\n",
        "\r\n",
        "WindowGenerator.make_dataset = make_dataset\r\n"
      ],
      "execution_count": 28,
      "outputs": []
    },
    {
      "cell_type": "code",
      "metadata": {
        "id": "nYu9HTMsdFpO"
      },
      "source": [
        "@property\r\n",
        "def train(self):\r\n",
        "  return self.make_dataset(self.train_df)\r\n",
        "\r\n",
        "@property\r\n",
        "def val(self):\r\n",
        "  return self.make_dataset(self.val_df)\r\n",
        "\r\n",
        "@property\r\n",
        "def test(self):\r\n",
        "  return self.make_dataset(self.test_df)\r\n",
        "\r\n",
        "@property\r\n",
        "def example(self):\r\n",
        "  \"\"\"Get and cache an example batch of `inputs, labels` for plotting.\"\"\"\r\n",
        "  result = getattr(self, '_example', None)\r\n",
        "  if result is None:\r\n",
        "    # No example batch was found, so get one from the `.train` dataset\r\n",
        "    result = next(iter(self.train))\r\n",
        "    # And cache it for next time\r\n",
        "    self._example = result\r\n",
        "  return result\r\n",
        "\r\n",
        "WindowGenerator.train = train\r\n",
        "WindowGenerator.val = val\r\n",
        "WindowGenerator.test = test\r\n",
        "WindowGenerator.example = example\r\n"
      ],
      "execution_count": 29,
      "outputs": []
    },
    {
      "cell_type": "code",
      "metadata": {
        "colab": {
          "base_uri": "https://localhost:8080/"
        },
        "id": "S-bzOqSddFse",
        "outputId": "f3eb78bf-c5d7-4146-d1eb-def7b7f25028"
      },
      "source": [
        "# Each element is an (inputs, label) pair\r\n",
        "w2.train.element_spec\r\n",
        "for example_inputs, example_labels in w2.train.take(1):\r\n",
        "  print(f'Inputs shape (batch, time, features): {example_inputs.shape}')\r\n",
        "  print(f'Labels shape (batch, time, features): {example_labels.shape}')\r\n"
      ],
      "execution_count": 30,
      "outputs": [
        {
          "output_type": "stream",
          "text": [
            "Inputs shape (batch, time, features): (64, 36, 5)\n",
            "Labels shape (batch, time, features): (64, 1, 1)\n"
          ],
          "name": "stdout"
        }
      ]
    },
    {
      "cell_type": "code",
      "metadata": {
        "colab": {
          "base_uri": "https://localhost:8080/"
        },
        "id": "1MmW8YPQdFvG",
        "outputId": "5ce865b0-388f-4ae8-a208-3769de12f083"
      },
      "source": [
        "single_step_window = WindowGenerator(\r\n",
        "    # `WindowGenerator` returns all features as labels if you \r\n",
        "    # don't set the `label_columns` argument.\r\n",
        "    input_width=36, label_width=1, shift=1)\r\n",
        "\r\n",
        "wide_window = WindowGenerator(\r\n",
        "    input_width=288, label_width=288, shift=1)\r\n",
        "\r\n",
        "for example_inputs, example_labels in wide_window.train.take(1):\r\n",
        "  print(f'Inputs shape (batch, time, features): {example_inputs.shape}')\r\n",
        "  print(f'Labels shape (batch, time, features): {example_labels.shape}')"
      ],
      "execution_count": 31,
      "outputs": [
        {
          "output_type": "stream",
          "text": [
            "Inputs shape (batch, time, features): (64, 288, 5)\n",
            "Labels shape (batch, time, features): (64, 288, 5)\n"
          ],
          "name": "stdout"
        }
      ]
    },
    {
      "cell_type": "code",
      "metadata": {
        "id": "gx8SuOHddFxL"
      },
      "source": [
        "val_performance = {}\r\n",
        "performance = {}\r\n"
      ],
      "execution_count": 32,
      "outputs": []
    },
    {
      "cell_type": "code",
      "metadata": {
        "id": "7aMI5EB7dFzx"
      },
      "source": [
        "MAX_EPOCHS = 20\r\n",
        "\r\n",
        "def compile_and_fit(model, window, patience=2):\r\n",
        "  early_stopping = tf.keras.callbacks.EarlyStopping(monitor='val_loss',\r\n",
        "                                                    patience=patience,\r\n",
        "                                                    mode='min')\r\n",
        "\r\n",
        "  model.compile(loss=tf.losses.MeanSquaredError(),\r\n",
        "                optimizer=tf.optimizers.Adam(),\r\n",
        "                metrics=[tf.metrics.MeanAbsoluteError()])\r\n",
        "\r\n",
        "  history = model.fit(window.train, epochs=MAX_EPOCHS,\r\n",
        "                      validation_data=window.val,\r\n",
        "                      callbacks=[early_stopping])\r\n",
        "  return history\r\n"
      ],
      "execution_count": 33,
      "outputs": []
    },
    {
      "cell_type": "code",
      "metadata": {
        "colab": {
          "base_uri": "https://localhost:8080/"
        },
        "id": "AlELOwLZdF1-",
        "outputId": "ac169bc8-94c9-4d35-ca76-68f8f49c7247"
      },
      "source": [
        "%%time\r\n",
        "wide_window = WindowGenerator(\r\n",
        "    input_width=288, label_width=288, shift=1)\r\n",
        "\r\n",
        "lstm_model = tf.keras.models.Sequential([\r\n",
        "    # Shape [batch, time, features] => [batch, time, lstm_units]\r\n",
        "\r\n",
        "    # Shape => [batch, time, features]\r\n",
        "    tf.keras.layers.LSTM(64,return_sequences=True),\r\n",
        "    tf.keras.layers.Dense(units=num_features)\r\n",
        "])\r\n",
        "\r\n",
        "history = compile_and_fit(lstm_model, wide_window)\r\n",
        "\r\n",
        "IPython.display.clear_output()\r\n",
        "val_performance['LSTM'] = lstm_model.evaluate( wide_window.val)\r\n",
        "performance['LSTM'] = lstm_model.evaluate( wide_window.test, verbose=0)\r\n",
        "\r\n",
        "print()\r\n"
      ],
      "execution_count": 35,
      "outputs": [
        {
          "output_type": "stream",
          "text": [
            "9552/9552 [==============================] - 456s 48ms/step - loss: 0.4725 - mean_absolute_error: 0.3137\n",
            "\n",
            "CPU times: user 12h 49min 47s, sys: 35min 28s, total: 13h 25min 16s\n",
            "Wall time: 7h 21min 9s\n"
          ],
          "name": "stdout"
        }
      ]
    },
    {
      "cell_type": "code",
      "metadata": {
        "id": "8KZiLmqodF4X"
      },
      "source": [
        "\r\n",
        "class ResidualWrapper(tf.keras.Model):\r\n",
        "  def __init__(self, model):\r\n",
        "    super().__init__()\r\n",
        "    self.model = model\r\n",
        "\r\n",
        "  def call(self, inputs, *args, **kwargs):\r\n",
        "    delta = self.model(inputs, *args, **kwargs)\r\n",
        "\r\n",
        "    # The prediction for each timestep is the input\r\n",
        "    # from the previous time step plus the delta\r\n",
        "    # calculated by the model.\r\n",
        "    return inputs + delta"
      ],
      "execution_count": 33,
      "outputs": []
    },
    {
      "cell_type": "code",
      "metadata": {
        "id": "HxpfJ07ldF7e",
        "colab": {
          "base_uri": "https://localhost:8080/"
        },
        "outputId": "b89c32ff-c843-4c7a-c49e-668185cfa46a"
      },
      "source": [
        "%%time\r\n",
        "residual_lstm = ResidualWrapper(\r\n",
        "    tf.keras.Sequential([\r\n",
        "    tf.keras.layers.LSTM(64, return_sequences=True),\r\n",
        "    tf.keras.layers.Dense(\r\n",
        "        num_features,\r\n",
        "        # The predicted deltas should start small\r\n",
        "        # So initialize the output layer with zeros\r\n",
        "        kernel_initializer=tf.initializers.zeros)\r\n",
        "]))\r\n",
        "\r\n",
        "history = compile_and_fit(residual_lstm, wide_window)\r\n",
        "\r\n",
        "IPython.display.clear_output()\r\n",
        "val_performance['Residual LSTM'] = residual_lstm.evaluate(wide_window.val)\r\n",
        "performance['Residual LSTM'] = residual_lstm.evaluate(wide_window.test, verbose=0)\r\n",
        "print()\r\n"
      ],
      "execution_count": 34,
      "outputs": [
        {
          "output_type": "stream",
          "text": [
            "9552/9552 [==============================] - 565s 59ms/step - loss: 0.4759 - mean_absolute_error: 0.3153\n",
            "\n",
            "CPU times: user 8h 26min 21s, sys: 23min 9s, total: 8h 49min 31s\n",
            "Wall time: 4h 52min 3s\n"
          ],
          "name": "stdout"
        }
      ]
    },
    {
      "cell_type": "code",
      "metadata": {
        "id": "NJXnwIDBdF-A",
        "colab": {
          "base_uri": "https://localhost:8080/",
          "height": 231
        },
        "outputId": "299df277-d349-4575-f838-8ca82184ded6"
      },
      "source": [
        "import numpy as np\r\n",
        "x = np.arange(len(performance))\r\n",
        "width = 0.3\r\n",
        "\r\n",
        "metric_name = 'mean_absolute_error'\r\n",
        "metric_index = lstm_model.metrics_names.index('mean_absolute_error')\r\n",
        "val_mae = [v[metric_index] for v in val_performance.values()]\r\n",
        "test_mae = [v[metric_index] for v in performance.values()]\r\n",
        "\r\n",
        "plt.bar(x - 0.17, val_mae, width, label='Validation')\r\n",
        "plt.bar(x + 0.17, test_mae, width, label='Test')\r\n",
        "plt.xticks(ticks=x, labels=performance.keys(),\r\n",
        "           rotation=45)\r\n",
        "plt.ylabel('MAE (average over all outputs)')\r\n",
        "_ = plt.legend()\r\n"
      ],
      "execution_count": 34,
      "outputs": [
        {
          "output_type": "error",
          "ename": "NameError",
          "evalue": "ignored",
          "traceback": [
            "\u001b[0;31m---------------------------------------------------------------------------\u001b[0m",
            "\u001b[0;31mNameError\u001b[0m                                 Traceback (most recent call last)",
            "\u001b[0;32m<ipython-input-34-1b2c06b0474d>\u001b[0m in \u001b[0;36m<module>\u001b[0;34m()\u001b[0m\n\u001b[1;32m      4\u001b[0m \u001b[0;34m\u001b[0m\u001b[0m\n\u001b[1;32m      5\u001b[0m \u001b[0mmetric_name\u001b[0m \u001b[0;34m=\u001b[0m \u001b[0;34m'mean_absolute_error'\u001b[0m\u001b[0;34m\u001b[0m\u001b[0;34m\u001b[0m\u001b[0m\n\u001b[0;32m----> 6\u001b[0;31m \u001b[0mmetric_index\u001b[0m \u001b[0;34m=\u001b[0m \u001b[0mlstm_model\u001b[0m\u001b[0;34m.\u001b[0m\u001b[0mmetrics_names\u001b[0m\u001b[0;34m.\u001b[0m\u001b[0mindex\u001b[0m\u001b[0;34m(\u001b[0m\u001b[0;34m'mean_absolute_error'\u001b[0m\u001b[0;34m)\u001b[0m\u001b[0;34m\u001b[0m\u001b[0;34m\u001b[0m\u001b[0m\n\u001b[0m\u001b[1;32m      7\u001b[0m \u001b[0mval_mae\u001b[0m \u001b[0;34m=\u001b[0m \u001b[0;34m[\u001b[0m\u001b[0mv\u001b[0m\u001b[0;34m[\u001b[0m\u001b[0mmetric_index\u001b[0m\u001b[0;34m]\u001b[0m \u001b[0;32mfor\u001b[0m \u001b[0mv\u001b[0m \u001b[0;32min\u001b[0m \u001b[0mval_performance\u001b[0m\u001b[0;34m.\u001b[0m\u001b[0mvalues\u001b[0m\u001b[0;34m(\u001b[0m\u001b[0;34m)\u001b[0m\u001b[0;34m]\u001b[0m\u001b[0;34m\u001b[0m\u001b[0;34m\u001b[0m\u001b[0m\n\u001b[1;32m      8\u001b[0m \u001b[0mtest_mae\u001b[0m \u001b[0;34m=\u001b[0m \u001b[0;34m[\u001b[0m\u001b[0mv\u001b[0m\u001b[0;34m[\u001b[0m\u001b[0mmetric_index\u001b[0m\u001b[0;34m]\u001b[0m \u001b[0;32mfor\u001b[0m \u001b[0mv\u001b[0m \u001b[0;32min\u001b[0m \u001b[0mperformance\u001b[0m\u001b[0;34m.\u001b[0m\u001b[0mvalues\u001b[0m\u001b[0;34m(\u001b[0m\u001b[0;34m)\u001b[0m\u001b[0;34m]\u001b[0m\u001b[0;34m\u001b[0m\u001b[0;34m\u001b[0m\u001b[0m\n",
            "\u001b[0;31mNameError\u001b[0m: name 'lstm_model' is not defined"
          ]
        }
      ]
    },
    {
      "cell_type": "code",
      "metadata": {
        "id": "AqT0YxWAdGAY",
        "colab": {
          "base_uri": "https://localhost:8080/"
        },
        "outputId": "bec47e2e-bbc4-4d98-b641-00f6571c43b5"
      },
      "source": [
        "for name, value in performance.items():\r\n",
        "  print(f'{name:15s}: {value[1]:0.4f}')"
      ],
      "execution_count": 36,
      "outputs": [
        {
          "output_type": "stream",
          "text": [
            "Residual LSTM  : 0.3289\n"
          ],
          "name": "stdout"
        }
      ]
    },
    {
      "cell_type": "code",
      "metadata": {
        "id": "wyyIdjfOxO0C"
      },
      "source": [
        "OUT_STEPS=24\r\n",
        "class FeedBack(tf.keras.Model):\r\n",
        "  def __init__(self, units, out_steps):\r\n",
        "    super().__init__()\r\n",
        "    self.out_steps = out_steps\r\n",
        "    self.units = units\r\n",
        "    self.lstm_cell = tf.keras.layers.LSTMCell(units)\r\n",
        "    # Also wrap the LSTMCell in an RNN to simplify the `warmup` method.\r\n",
        "    self.lstm_rnn = tf.keras.layers.RNN(self.lstm_cell, return_state=True)\r\n",
        "    self.dense = tf.keras.layers.Dense(num_features)\r\n"
      ],
      "execution_count": 37,
      "outputs": []
    },
    {
      "cell_type": "code",
      "metadata": {
        "id": "-0r7BGkV-g1M"
      },
      "source": [
        "feedback_model = FeedBack(units=144, out_steps=OUT_STEPS)\r\n"
      ],
      "execution_count": null,
      "outputs": []
    },
    {
      "cell_type": "code",
      "metadata": {
        "id": "YvkpQEJD-hcJ"
      },
      "source": [
        "def warmup(self, inputs):\r\n",
        "  # inputs.shape => (batch, time, features)\r\n",
        "  # x.shape => (batch, lstm_units)\r\n",
        "  x, *state = self.lstm_rnn(inputs)\r\n",
        "\r\n",
        "  # predictions.shape => (batch, features)\r\n",
        "  prediction = self.dense(x)\r\n",
        "  return prediction, state\r\n",
        "\r\n",
        "FeedBack.warmup = warmup\r\n"
      ],
      "execution_count": null,
      "outputs": []
    },
    {
      "cell_type": "code",
      "metadata": {
        "id": "TzZ7446a-oN8"
      },
      "source": [
        "prediction, state = feedback_model.warmup(wide_window.example[0])\r\n",
        "prediction.shape"
      ],
      "execution_count": null,
      "outputs": []
    },
    {
      "cell_type": "code",
      "metadata": {
        "id": "2-hNAdnlBMF7"
      },
      "source": [
        "%%time\r\n",
        "prediction\r\n"
      ],
      "execution_count": null,
      "outputs": []
    },
    {
      "cell_type": "code",
      "metadata": {
        "id": "glDr2oi4WO3Z"
      },
      "source": [
        "pred=prediction.numpy()\r\n"
      ],
      "execution_count": null,
      "outputs": []
    },
    {
      "cell_type": "code",
      "metadata": {
        "id": "myb6-F1UKz6O"
      },
      "source": [
        "pred=pd.DataFrame(pred)\r\n",
        "print(pred)"
      ],
      "execution_count": null,
      "outputs": []
    },
    {
      "cell_type": "code",
      "metadata": {
        "id": "GEGVSiXgK53w"
      },
      "source": [
        "pred_mean = pred.mean()\r\n",
        "pred_std = pred.std()\r\n",
        "\r\n",
        "pred=(pred*pred_std) + pred_mean"
      ],
      "execution_count": null,
      "outputs": []
    },
    {
      "cell_type": "code",
      "metadata": {
        "id": "cv-xvLI8LeLo"
      },
      "source": [
        "pred.head(5)"
      ],
      "execution_count": null,
      "outputs": []
    },
    {
      "cell_type": "code",
      "metadata": {
        "id": "K7i-wvbN-rLi"
      },
      "source": [
        "def call(self, inputs, training=None):\r\n",
        "  # Use a TensorArray to capture dynamically unrolled outputs.\r\n",
        "  predictions = []\r\n",
        "  # Initialize the lstm state\r\n",
        "  prediction, state = self.warmup(inputs)\r\n",
        "\r\n",
        "  # Insert the first prediction\r\n",
        "  predictions.append(prediction)\r\n",
        "\r\n",
        "  # Run the rest of the prediction steps\r\n",
        "  for n in range(1, self.out_steps):\r\n",
        "    # Use the last prediction as input.\r\n",
        "    x = prediction\r\n",
        "    # Execute one lstm step.\r\n",
        "    x, state = self.lstm_cell(x, states=state,\r\n",
        "                              training=training)\r\n",
        "    # Convert the lstm output to a prediction.\r\n",
        "    prediction = self.dense(x)\r\n",
        "    # Add the prediction to the output\r\n",
        "    predictions.append(prediction)\r\n",
        "\r\n",
        "  # predictions.shape => (time, batch, features)\r\n",
        "  predictions = tf.stack(predictions)\r\n",
        "  # predictions.shape => (batch, time, features)\r\n",
        "  predictions = tf.transpose(predictions, [1, 0, 2])\r\n",
        "  return predictions\r\n",
        "\r\n",
        "FeedBack.call = call"
      ],
      "execution_count": null,
      "outputs": []
    },
    {
      "cell_type": "code",
      "metadata": {
        "id": "yH0yvSDPBFzQ"
      },
      "source": [
        "pred.to_csv('file1.csv') \r\n"
      ],
      "execution_count": null,
      "outputs": []
    }
  ]
}