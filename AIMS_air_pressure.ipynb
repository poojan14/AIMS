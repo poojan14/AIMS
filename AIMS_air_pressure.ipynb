{
  "nbformat": 4,
  "nbformat_minor": 0,
  "metadata": {
    "colab": {
      "name": "AIMS-air_pressure.ipynb",
      "provenance": [],
      "collapsed_sections": [],
      "authorship_tag": "ABX9TyPT8ozs+bKRYbgLG4P9QOej",
      "include_colab_link": true
    },
    "kernelspec": {
      "name": "python3",
      "display_name": "Python 3"
    }
  },
  "cells": [
    {
      "cell_type": "markdown",
      "metadata": {
        "id": "view-in-github",
        "colab_type": "text"
      },
      "source": [
        "<a href=\"https://colab.research.google.com/github/poojan14/AIMS/blob/main/AIMS_air_pressure.ipynb\" target=\"_parent\"><img src=\"https://colab.research.google.com/assets/colab-badge.svg\" alt=\"Open In Colab\"/></a>"
      ]
    },
    {
      "cell_type": "code",
      "metadata": {
        "colab": {
          "base_uri": "https://localhost:8080/"
        },
        "id": "B9AjwFN6Mq2-",
        "outputId": "7d8ffa8b-68fc-48cb-d26c-02a499ef7e55"
      },
      "source": [
        "!pip install pydrive\r\n",
        "from pydrive.auth import GoogleAuth\r\n",
        "from pydrive.drive import GoogleDrive\r\n",
        "from google.colab import auth\r\n",
        "from oauth2client.client import GoogleCredentials\r\n",
        " \r\n",
        "# 1. Authenticate and create the PyDrive client.\r\n",
        "auth.authenticate_user()\r\n",
        "gauth = GoogleAuth()\r\n",
        "gauth.credentials = GoogleCredentials.get_application_default()\r\n",
        "drive = GoogleDrive(gauth)\r\n"
      ],
      "execution_count": null,
      "outputs": [
        {
          "output_type": "stream",
          "text": [
            "Requirement already satisfied: pydrive in /usr/local/lib/python3.6/dist-packages (1.3.1)\n",
            "Requirement already satisfied: google-api-python-client>=1.2 in /usr/local/lib/python3.6/dist-packages (from pydrive) (1.7.12)\n",
            "Requirement already satisfied: PyYAML>=3.0 in /usr/local/lib/python3.6/dist-packages (from pydrive) (3.13)\n",
            "Requirement already satisfied: oauth2client>=4.0.0 in /usr/local/lib/python3.6/dist-packages (from pydrive) (4.1.3)\n",
            "Requirement already satisfied: google-auth-httplib2>=0.0.3 in /usr/local/lib/python3.6/dist-packages (from google-api-python-client>=1.2->pydrive) (0.0.4)\n",
            "Requirement already satisfied: six<2dev,>=1.6.1 in /usr/local/lib/python3.6/dist-packages (from google-api-python-client>=1.2->pydrive) (1.15.0)\n",
            "Requirement already satisfied: uritemplate<4dev,>=3.0.0 in /usr/local/lib/python3.6/dist-packages (from google-api-python-client>=1.2->pydrive) (3.0.1)\n",
            "Requirement already satisfied: httplib2<1dev,>=0.17.0 in /usr/local/lib/python3.6/dist-packages (from google-api-python-client>=1.2->pydrive) (0.17.4)\n",
            "Requirement already satisfied: google-auth>=1.4.1 in /usr/local/lib/python3.6/dist-packages (from google-api-python-client>=1.2->pydrive) (1.17.2)\n",
            "Requirement already satisfied: pyasn1>=0.1.7 in /usr/local/lib/python3.6/dist-packages (from oauth2client>=4.0.0->pydrive) (0.4.8)\n",
            "Requirement already satisfied: rsa>=3.1.4 in /usr/local/lib/python3.6/dist-packages (from oauth2client>=4.0.0->pydrive) (4.6)\n",
            "Requirement already satisfied: pyasn1-modules>=0.0.5 in /usr/local/lib/python3.6/dist-packages (from oauth2client>=4.0.0->pydrive) (0.2.8)\n",
            "Requirement already satisfied: cachetools<5.0,>=2.0.0 in /usr/local/lib/python3.6/dist-packages (from google-auth>=1.4.1->google-api-python-client>=1.2->pydrive) (4.2.0)\n",
            "Requirement already satisfied: setuptools>=40.3.0 in /usr/local/lib/python3.6/dist-packages (from google-auth>=1.4.1->google-api-python-client>=1.2->pydrive) (51.1.1)\n"
          ],
          "name": "stdout"
        }
      ]
    },
    {
      "cell_type": "code",
      "metadata": {
        "id": "925RZHVdMxex"
      },
      "source": [
        "download = drive.CreateFile({'id':'1UAdVNJYNEyUU3iGMQoQACNjrojqOHhVM'})\r\n"
      ],
      "execution_count": null,
      "outputs": []
    },
    {
      "cell_type": "code",
      "metadata": {
        "id": "AN-g6LD_M82r"
      },
      "source": [
        "import numpy as np\r\n",
        "import matplotlib.pyplot as plt\r\n",
        "import pandas as pd\r\n",
        "pd.set_option('display.float_format', lambda x: '%.4f' % x)\r\n",
        "import seaborn as sns\r\n",
        "sns.set_context(\"paper\", font_scale=1.3)\r\n",
        "sns.set_style('white')\r\n",
        "import warnings\r\n",
        "warnings.filterwarnings('ignore')\r\n",
        "from time import time\r\n",
        "import matplotlib.ticker as tkr\r\n",
        "from scipy import stats\r\n",
        "from statsmodels.tsa.stattools import adfuller\r\n",
        "from sklearn import preprocessing\r\n",
        "from statsmodels.tsa.stattools import pacf\r\n",
        "%matplotlib inline\r\n",
        "\r\n",
        "import math\r\n",
        "import keras\r\n",
        "from keras.models import Sequential\r\n",
        "from keras.layers import Dense\r\n",
        "from keras.layers import LSTM\r\n",
        "from keras.layers import Dropout\r\n",
        "from keras.layers import *\r\n",
        "from sklearn.preprocessing import MinMaxScaler\r\n",
        "from sklearn.metrics import mean_squared_error\r\n",
        "from sklearn.metrics import mean_absolute_error\r\n",
        "from keras.callbacks import EarlyStopping\r\n"
      ],
      "execution_count": null,
      "outputs": []
    },
    {
      "cell_type": "code",
      "metadata": {
        "id": "2rDyaMsQM86b"
      },
      "source": [
        "download.GetContentFile('AIMS.csv')\r\n",
        "import pandas as pd\r\n",
        "import numpy as np\r\n",
        "df=pd.read_csv('AIMS.csv')\r\n"
      ],
      "execution_count": null,
      "outputs": []
    },
    {
      "cell_type": "code",
      "metadata": {
        "colab": {
          "base_uri": "https://localhost:8080/",
          "height": 359
        },
        "id": "mAJcof4eM89C",
        "outputId": "5abfbcdf-cca9-4b66-be91-eb9dbe9eee62"
      },
      "source": [
        "df.head(10)"
      ],
      "execution_count": null,
      "outputs": [
        {
          "output_type": "execute_result",
          "data": {
            "text/html": [
              "<div>\n",
              "<style scoped>\n",
              "    .dataframe tbody tr th:only-of-type {\n",
              "        vertical-align: middle;\n",
              "    }\n",
              "\n",
              "    .dataframe tbody tr th {\n",
              "        vertical-align: top;\n",
              "    }\n",
              "\n",
              "    .dataframe thead th {\n",
              "        text-align: right;\n",
              "    }\n",
              "</style>\n",
              "<table border=\"1\" class=\"dataframe\">\n",
              "  <thead>\n",
              "    <tr style=\"text-align: right;\">\n",
              "      <th></th>\n",
              "      <th>date time</th>\n",
              "      <th>date</th>\n",
              "      <th>time</th>\n",
              "      <th>seconds since 1970</th>\n",
              "      <th>Humidity</th>\n",
              "      <th>Water_Temperature</th>\n",
              "      <th>Air_Temperature</th>\n",
              "      <th>Air_Pressure</th>\n",
              "    </tr>\n",
              "  </thead>\n",
              "  <tbody>\n",
              "    <tr>\n",
              "      <th>0</th>\n",
              "      <td>2020-08-06T00:00:00+1000</td>\n",
              "      <td>06-08-2020</td>\n",
              "      <td>00:00:00</td>\n",
              "      <td>1600000000.0000</td>\n",
              "      <td>73.0000</td>\n",
              "      <td>22.5700</td>\n",
              "      <td>22.2000</td>\n",
              "      <td>1014.0000</td>\n",
              "    </tr>\n",
              "    <tr>\n",
              "      <th>1</th>\n",
              "      <td>2020-08-06T00:10:00+1000</td>\n",
              "      <td>06-08-2020</td>\n",
              "      <td>00:10:00</td>\n",
              "      <td>1600000000.0000</td>\n",
              "      <td>71.8000</td>\n",
              "      <td>22.5700</td>\n",
              "      <td>22.3000</td>\n",
              "      <td>1013.7000</td>\n",
              "    </tr>\n",
              "    <tr>\n",
              "      <th>2</th>\n",
              "      <td>2020-08-06T00:20:00+1000</td>\n",
              "      <td>06-08-2020</td>\n",
              "      <td>00:20:00</td>\n",
              "      <td>1600000000.0000</td>\n",
              "      <td>71.9000</td>\n",
              "      <td>22.5800</td>\n",
              "      <td>22.3000</td>\n",
              "      <td>1013.8000</td>\n",
              "    </tr>\n",
              "    <tr>\n",
              "      <th>3</th>\n",
              "      <td>2020-08-06T00:30:00+1000</td>\n",
              "      <td>06-08-2020</td>\n",
              "      <td>00:30:00</td>\n",
              "      <td>1600000000.0000</td>\n",
              "      <td>71.1000</td>\n",
              "      <td>22.5700</td>\n",
              "      <td>22.2000</td>\n",
              "      <td>1013.5000</td>\n",
              "    </tr>\n",
              "    <tr>\n",
              "      <th>4</th>\n",
              "      <td>2020-08-06T00:40:00+1000</td>\n",
              "      <td>06-08-2020</td>\n",
              "      <td>00:40:00</td>\n",
              "      <td>1600000000.0000</td>\n",
              "      <td>73.9000</td>\n",
              "      <td>22.5600</td>\n",
              "      <td>22.2000</td>\n",
              "      <td>1013.6000</td>\n",
              "    </tr>\n",
              "    <tr>\n",
              "      <th>5</th>\n",
              "      <td>2020-08-06T00:50:00+1000</td>\n",
              "      <td>06-08-2020</td>\n",
              "      <td>00:50:00</td>\n",
              "      <td>1600000000.0000</td>\n",
              "      <td>73.8000</td>\n",
              "      <td>22.5600</td>\n",
              "      <td>22.3000</td>\n",
              "      <td>1013.5000</td>\n",
              "    </tr>\n",
              "    <tr>\n",
              "      <th>6</th>\n",
              "      <td>2020-08-06T01:00:00+1000</td>\n",
              "      <td>06-08-2020</td>\n",
              "      <td>01:00:00</td>\n",
              "      <td>1600000000.0000</td>\n",
              "      <td>74.9000</td>\n",
              "      <td>22.5600</td>\n",
              "      <td>22.3000</td>\n",
              "      <td>1013.3000</td>\n",
              "    </tr>\n",
              "    <tr>\n",
              "      <th>7</th>\n",
              "      <td>2020-08-06T01:10:00+1000</td>\n",
              "      <td>06-08-2020</td>\n",
              "      <td>01:10:00</td>\n",
              "      <td>1600000000.0000</td>\n",
              "      <td>73.2000</td>\n",
              "      <td>22.5600</td>\n",
              "      <td>22.3000</td>\n",
              "      <td>1013.3000</td>\n",
              "    </tr>\n",
              "    <tr>\n",
              "      <th>8</th>\n",
              "      <td>2020-08-06T01:20:00+1000</td>\n",
              "      <td>06-08-2020</td>\n",
              "      <td>01:20:00</td>\n",
              "      <td>1600000000.0000</td>\n",
              "      <td>71.6000</td>\n",
              "      <td>22.5600</td>\n",
              "      <td>22.3000</td>\n",
              "      <td>1013.3000</td>\n",
              "    </tr>\n",
              "    <tr>\n",
              "      <th>9</th>\n",
              "      <td>2020-08-06T01:30:00+1000</td>\n",
              "      <td>06-08-2020</td>\n",
              "      <td>01:30:00</td>\n",
              "      <td>1600000000.0000</td>\n",
              "      <td>74.2000</td>\n",
              "      <td>22.5600</td>\n",
              "      <td>22.3000</td>\n",
              "      <td>1013.3000</td>\n",
              "    </tr>\n",
              "  </tbody>\n",
              "</table>\n",
              "</div>"
            ],
            "text/plain": [
              "                  date time        date  ... Air_Temperature  Air_Pressure\n",
              "0  2020-08-06T00:00:00+1000  06-08-2020  ...         22.2000     1014.0000\n",
              "1  2020-08-06T00:10:00+1000  06-08-2020  ...         22.3000     1013.7000\n",
              "2  2020-08-06T00:20:00+1000  06-08-2020  ...         22.3000     1013.8000\n",
              "3  2020-08-06T00:30:00+1000  06-08-2020  ...         22.2000     1013.5000\n",
              "4  2020-08-06T00:40:00+1000  06-08-2020  ...         22.2000     1013.6000\n",
              "5  2020-08-06T00:50:00+1000  06-08-2020  ...         22.3000     1013.5000\n",
              "6  2020-08-06T01:00:00+1000  06-08-2020  ...         22.3000     1013.3000\n",
              "7  2020-08-06T01:10:00+1000  06-08-2020  ...         22.3000     1013.3000\n",
              "8  2020-08-06T01:20:00+1000  06-08-2020  ...         22.3000     1013.3000\n",
              "9  2020-08-06T01:30:00+1000  06-08-2020  ...         22.3000     1013.3000\n",
              "\n",
              "[10 rows x 8 columns]"
            ]
          },
          "metadata": {
            "tags": []
          },
          "execution_count": 14
        }
      ]
    },
    {
      "cell_type": "code",
      "metadata": {
        "colab": {
          "base_uri": "https://localhost:8080/"
        },
        "id": "YpF_zHUNM8_w",
        "outputId": "ee864e11-744e-4a18-f523-ec43d6581949"
      },
      "source": [
        "df.shape"
      ],
      "execution_count": null,
      "outputs": [
        {
          "output_type": "execute_result",
          "data": {
            "text/plain": [
              "(22454, 8)"
            ]
          },
          "metadata": {
            "tags": []
          },
          "execution_count": 15
        }
      ]
    },
    {
      "cell_type": "code",
      "metadata": {
        "colab": {
          "base_uri": "https://localhost:8080/"
        },
        "id": "6-HQiA1aM9Cb",
        "outputId": "60015a59-2ec7-4bd4-8e6e-6c1a58c03809"
      },
      "source": [
        "df.isnull().sum()"
      ],
      "execution_count": null,
      "outputs": [
        {
          "output_type": "execute_result",
          "data": {
            "text/plain": [
              "date time             0\n",
              "date                  0\n",
              "time                  0\n",
              "seconds since 1970    0\n",
              "Humidity              0\n",
              "Water_Temperature     0\n",
              "Air_Temperature       0\n",
              "Air_Pressure          0\n",
              "dtype: int64"
            ]
          },
          "metadata": {
            "tags": []
          },
          "execution_count": 16
        }
      ]
    },
    {
      "cell_type": "code",
      "metadata": {
        "id": "RRTqCLuDM9E9"
      },
      "source": [
        "dataset = df.Air_Pressure.values #numpy.ndarray\r\n",
        "dataset = dataset.astype('float32')\r\n",
        "dataset = np.reshape(dataset, (-1, 1))\r\n",
        "scaler = MinMaxScaler(feature_range=(0, 1))\r\n",
        "dataset = scaler.fit_transform(dataset)\r\n",
        "train_size = int(len(dataset) * 0.80)\r\n",
        "test_size = len(dataset) - train_size\r\n",
        "train, test = dataset[0:train_size,:], dataset[train_size:len(dataset),:]\r\n"
      ],
      "execution_count": null,
      "outputs": []
    },
    {
      "cell_type": "code",
      "metadata": {
        "id": "_ZfSwwoWM9HY"
      },
      "source": [
        "# convert an array of values into a dataset matrix\r\n",
        "def create_dataset(dataset, look_back=1):\r\n",
        "    X, Y = [], []\r\n",
        "    for i in range(len(dataset)-look_back-1):\r\n",
        "        a = dataset[i:(i+look_back), 0]\r\n",
        "        X.append(a)\r\n",
        "        Y.append(dataset[i + look_back, 0])\r\n",
        "    return np.array(X), np.array(Y)\r\n"
      ],
      "execution_count": null,
      "outputs": []
    },
    {
      "cell_type": "code",
      "metadata": {
        "id": "SinaESAJM9J3"
      },
      "source": [
        "# reshape into X=t and Y=t+1\r\n",
        "look_back = 30\r\n",
        "X_train, Y_train = create_dataset(train, look_back)\r\n",
        "X_test, Y_test = create_dataset(test, look_back)\r\n"
      ],
      "execution_count": null,
      "outputs": []
    },
    {
      "cell_type": "code",
      "metadata": {
        "colab": {
          "base_uri": "https://localhost:8080/"
        },
        "id": "84AyxYLzM9Nl",
        "outputId": "4ac19cb5-a5d9-4739-a9ea-f7b037826455"
      },
      "source": [
        "X_train.shape\r\n"
      ],
      "execution_count": null,
      "outputs": [
        {
          "output_type": "execute_result",
          "data": {
            "text/plain": [
              "(17932, 30)"
            ]
          },
          "metadata": {
            "tags": []
          },
          "execution_count": 20
        }
      ]
    },
    {
      "cell_type": "code",
      "metadata": {
        "colab": {
          "base_uri": "https://localhost:8080/"
        },
        "id": "cHDozE5wM9Qu",
        "outputId": "0cec5ce8-b43e-41e1-8304-4fb807ae6ced"
      },
      "source": [
        "Y_train.shape\r\n"
      ],
      "execution_count": null,
      "outputs": [
        {
          "output_type": "execute_result",
          "data": {
            "text/plain": [
              "(17932,)"
            ]
          },
          "metadata": {
            "tags": []
          },
          "execution_count": 21
        }
      ]
    },
    {
      "cell_type": "code",
      "metadata": {
        "id": "mQntIKBIM9Th"
      },
      "source": [
        "X_train = np.reshape(X_train, (X_train.shape[0], 1, X_train.shape[1]))\r\n",
        "X_test = np.reshape(X_test, (X_test.shape[0], 1, X_test.shape[1]))"
      ],
      "execution_count": null,
      "outputs": []
    },
    {
      "cell_type": "code",
      "metadata": {
        "colab": {
          "base_uri": "https://localhost:8080/"
        },
        "id": "zzRT-ZHKM9Wh",
        "outputId": "e09617d4-67e7-4054-d1fb-6096238ccfb3"
      },
      "source": [
        "model = Sequential()\r\n",
        "model.add(LSTM(32, input_shape=(X_train.shape[1], X_train.shape[2])))\r\n",
        "model.add(Dropout(0.2))\r\n",
        "model.add(Dense(1))\r\n",
        "model.compile(loss='mean_squared_error', optimizer='adam')\r\n",
        "\r\n",
        "history = model.fit(X_train, Y_train, epochs=20, batch_size=70, validation_data=(X_test, Y_test), \r\n",
        "                    callbacks=[EarlyStopping(monitor='val_loss', patience=10)], verbose=1, shuffle=False)\r\n",
        "\r\n",
        "# Training Phase\r\n",
        "model.summary()\r\n"
      ],
      "execution_count": null,
      "outputs": [
        {
          "output_type": "stream",
          "text": [
            "Epoch 1/20\n",
            "257/257 [==============================] - 2s 3ms/step - loss: 0.0410 - val_loss: 0.0022\n",
            "Epoch 2/20\n",
            "257/257 [==============================] - 0s 1ms/step - loss: 0.0064 - val_loss: 0.0016\n",
            "Epoch 3/20\n",
            "257/257 [==============================] - 1s 2ms/step - loss: 0.0044 - val_loss: 0.0013\n",
            "Epoch 4/20\n",
            "257/257 [==============================] - 1s 2ms/step - loss: 0.0039 - val_loss: 0.0014\n",
            "Epoch 5/20\n",
            "257/257 [==============================] - 1s 2ms/step - loss: 0.0037 - val_loss: 0.0014\n",
            "Epoch 6/20\n",
            "257/257 [==============================] - 1s 2ms/step - loss: 0.0038 - val_loss: 0.0017\n",
            "Epoch 7/20\n",
            "257/257 [==============================] - 1s 2ms/step - loss: 0.0037 - val_loss: 0.0020\n",
            "Epoch 8/20\n",
            "257/257 [==============================] - 1s 2ms/step - loss: 0.0036 - val_loss: 0.0023\n",
            "Epoch 9/20\n",
            "257/257 [==============================] - 1s 2ms/step - loss: 0.0039 - val_loss: 0.0028\n",
            "Epoch 10/20\n",
            "257/257 [==============================] - 0s 2ms/step - loss: 0.0040 - val_loss: 0.0031\n",
            "Epoch 11/20\n",
            "257/257 [==============================] - 1s 2ms/step - loss: 0.0039 - val_loss: 0.0032\n",
            "Epoch 12/20\n",
            "257/257 [==============================] - 1s 2ms/step - loss: 0.0039 - val_loss: 0.0033\n",
            "Epoch 13/20\n",
            "257/257 [==============================] - 1s 2ms/step - loss: 0.0036 - val_loss: 0.0027\n",
            "Model: \"sequential\"\n",
            "_________________________________________________________________\n",
            "Layer (type)                 Output Shape              Param #   \n",
            "=================================================================\n",
            "lstm (LSTM)                  (None, 32)                8064      \n",
            "_________________________________________________________________\n",
            "dropout (Dropout)            (None, 32)                0         \n",
            "_________________________________________________________________\n",
            "dense (Dense)                (None, 1)                 33        \n",
            "=================================================================\n",
            "Total params: 8,097\n",
            "Trainable params: 8,097\n",
            "Non-trainable params: 0\n",
            "_________________________________________________________________\n"
          ],
          "name": "stdout"
        }
      ]
    },
    {
      "cell_type": "code",
      "metadata": {
        "colab": {
          "base_uri": "https://localhost:8080/"
        },
        "id": "nkWZ115KM9Zm",
        "outputId": "b558ed27-4e96-4eb4-af76-862769e44749"
      },
      "source": [
        "# make predictions\r\n",
        "train_predict = model.predict(X_train)\r\n",
        "test_predict = model.predict(X_test)\r\n",
        "# invert predictions\r\n",
        "train_predict = scaler.inverse_transform(train_predict)\r\n",
        "Y_train = scaler.inverse_transform([Y_train])\r\n",
        "test_predict = scaler.inverse_transform(test_predict)\r\n",
        "Y_test = scaler.inverse_transform([Y_test])\r\n",
        "\r\n",
        "print('Train Mean Absolute Error:', mean_absolute_error(Y_train[0], train_predict[:,0]))\r\n",
        "print('Train Root Mean Squared Error:',np.sqrt(mean_squared_error(Y_train[0], train_predict[:,0])))\r\n",
        "print('Test Mean Absolute Error:', mean_absolute_error(Y_test[0], test_predict[:,0]))\r\n",
        "print('Test Root Mean Squared Error:',np.sqrt(mean_squared_error(Y_test[0], test_predict[:,0])))\r\n"
      ],
      "execution_count": null,
      "outputs": [
        {
          "output_type": "stream",
          "text": [
            "Train Mean Absolute Error: 0.8082337469691033\n",
            "Train Root Mean Squared Error: 1.071669100928388\n",
            "Test Mean Absolute Error: 0.9612309047720227\n",
            "Test Root Mean Squared Error: 1.047175903791771\n"
          ],
          "name": "stdout"
        }
      ]
    },
    {
      "cell_type": "code",
      "metadata": {
        "colab": {
          "base_uri": "https://localhost:8080/",
          "height": 300
        },
        "id": "50QOj0QXM9cL",
        "outputId": "70c1cc9b-371a-4fde-d256-af3fcd0017c6"
      },
      "source": [
        "plt.figure(figsize=(8,4))\r\n",
        "plt.plot(history.history['loss'], label='Train Loss')\r\n",
        "plt.plot(history.history['val_loss'], label='Test Loss')\r\n",
        "plt.title('model loss')\r\n",
        "plt.ylabel('loss')\r\n",
        "plt.xlabel('epochs')\r\n",
        "plt.legend(loc='upper right')\r\n",
        "plt.show();\r\n"
      ],
      "execution_count": null,
      "outputs": [
        {
          "output_type": "display_data",
          "data": {
            "image/png": "[encoded data removed]",
            "text/plain": [
              "<Figure size 576x288 with 1 Axes>"
            ]
          },
          "metadata": {
            "tags": [],
            "needs_background": "light"
          }
        }
      ]
    },
    {
      "cell_type": "code",
      "metadata": {
        "colab": {
          "base_uri": "https://localhost:8080/",
          "height": 316
        },
        "id": "HujHav3hM9eu",
        "outputId": "89cfbfce-c63f-4e71-9769-4634563a9d1d"
      },
      "source": [
        "aa=[x for x in range(200)]\r\n",
        "plt.figure(figsize=(8,4))\r\n",
        "plt.plot(aa, Y_test[0][:200], marker='.', label=\"actual\")\r\n",
        "plt.plot(aa, test_predict[:,0][:200], 'r', label=\"prediction\")\r\n",
        "# plt.tick_params(left=False, labelleft=True) #remove ticks\r\n",
        "plt.tight_layout()\r\n",
        "sns.despine(top=True)\r\n",
        "plt.subplots_adjust(left=0.07)\r\n",
        "plt.ylabel('Air_Pressure', size=15)\r\n",
        "plt.xlabel('Time step', size=15)\r\n",
        "plt.legend(fontsize=15)\r\n",
        "plt.show();\r\n"
      ],
      "execution_count": null,
      "outputs": [
        {
          "output_type": "display_data",
          "data": {
            "image/png": "[encoded data removed]",
            "text/plain": [
              "<Figure size 576x288 with 1 Axes>"
            ]
          },
          "metadata": {
            "tags": [],
            "needs_background": "light"
          }
        }
      ]
    },
    {
      "cell_type": "code",
      "metadata": {
        "id": "B1-m-sbqM9oX"
      },
      "source": [
        ""
      ],
      "execution_count": null,
      "outputs": []
    },
    {
      "cell_type": "code",
      "metadata": {
        "id": "k5ho-qwPM9qi"
      },
      "source": [
        ""
      ],
      "execution_count": null,
      "outputs": []
    },
    {
      "cell_type": "code",
      "metadata": {
        "id": "SQ3s9UR9M_Rj"
      },
      "source": [
        ""
      ],
      "execution_count": null,
      "outputs": []
    },
    {
      "cell_type": "code",
      "metadata": {
        "id": "xSifd4VjM_VZ"
      },
      "source": [
        ""
      ],
      "execution_count": null,
      "outputs": []
    },
    {
      "cell_type": "code",
      "metadata": {
        "id": "xuysvXyJM_YB"
      },
      "source": [
        ""
      ],
      "execution_count": null,
      "outputs": []
    }
  ]
}