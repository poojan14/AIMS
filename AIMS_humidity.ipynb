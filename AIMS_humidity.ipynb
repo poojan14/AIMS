{
  "nbformat": 4,
  "nbformat_minor": 0,
  "metadata": {
    "colab": {
      "name": "AIMS-humidity.ipynb",
      "provenance": [],
      "collapsed_sections": [],
      "authorship_tag": "ABX9TyNip22ddaB5a3StsJzGUuaB",
      "include_colab_link": true
    },
    "kernelspec": {
      "name": "python3",
      "display_name": "Python 3"
    }
  },
  "cells": [
    {
      "cell_type": "markdown",
      "metadata": {
        "id": "view-in-github",
        "colab_type": "text"
      },
      "source": [
        "<a href=\"https://colab.research.google.com/github/poojan14/AIMS/blob/main/AIMS_humidity.ipynb\" target=\"_parent\"><img src=\"https://colab.research.google.com/assets/colab-badge.svg\" alt=\"Open In Colab\"/></a>"
      ]
    },
    {
      "cell_type": "code",
      "metadata": {
        "colab": {
          "base_uri": "https://localhost:8080/"
        },
        "id": "ePaDPkcp7_DA",
        "outputId": "d3f79807-b2f9-48f3-c54d-86226e96dbe6"
      },
      "source": [
        "!pip install pydrive\r\n",
        "from pydrive.auth import GoogleAuth\r\n",
        "from pydrive.drive import GoogleDrive\r\n",
        "from google.colab import auth\r\n",
        "from oauth2client.client import GoogleCredentials\r\n",
        " \r\n",
        "# 1. Authenticate and create the PyDrive client.\r\n",
        "auth.authenticate_user()\r\n",
        "gauth = GoogleAuth()\r\n",
        "gauth.credentials = GoogleCredentials.get_application_default()\r\n",
        "drive = GoogleDrive(gauth)\r\n"
      ],
      "execution_count": null,
      "outputs": [
        {
          "output_type": "stream",
          "text": [
            "Requirement already satisfied: pydrive in /usr/local/lib/python3.6/dist-packages (1.3.1)\n",
            "Requirement already satisfied: google-api-python-client>=1.2 in /usr/local/lib/python3.6/dist-packages (from pydrive) (1.7.12)\n",
            "Requirement already satisfied: oauth2client>=4.0.0 in /usr/local/lib/python3.6/dist-packages (from pydrive) (4.1.3)\n",
            "Requirement already satisfied: PyYAML>=3.0 in /usr/local/lib/python3.6/dist-packages (from pydrive) (3.13)\n",
            "Requirement already satisfied: httplib2<1dev,>=0.17.0 in /usr/local/lib/python3.6/dist-packages (from google-api-python-client>=1.2->pydrive) (0.17.4)\n",
            "Requirement already satisfied: google-auth>=1.4.1 in /usr/local/lib/python3.6/dist-packages (from google-api-python-client>=1.2->pydrive) (1.17.2)\n",
            "Requirement already satisfied: google-auth-httplib2>=0.0.3 in /usr/local/lib/python3.6/dist-packages (from google-api-python-client>=1.2->pydrive) (0.0.4)\n",
            "Requirement already satisfied: six<2dev,>=1.6.1 in /usr/local/lib/python3.6/dist-packages (from google-api-python-client>=1.2->pydrive) (1.15.0)\n",
            "Requirement already satisfied: uritemplate<4dev,>=3.0.0 in /usr/local/lib/python3.6/dist-packages (from google-api-python-client>=1.2->pydrive) (3.0.1)\n",
            "Requirement already satisfied: rsa>=3.1.4 in /usr/local/lib/python3.6/dist-packages (from oauth2client>=4.0.0->pydrive) (4.6)\n",
            "Requirement already satisfied: pyasn1>=0.1.7 in /usr/local/lib/python3.6/dist-packages (from oauth2client>=4.0.0->pydrive) (0.4.8)\n",
            "Requirement already satisfied: pyasn1-modules>=0.0.5 in /usr/local/lib/python3.6/dist-packages (from oauth2client>=4.0.0->pydrive) (0.2.8)\n",
            "Requirement already satisfied: setuptools>=40.3.0 in /usr/local/lib/python3.6/dist-packages (from google-auth>=1.4.1->google-api-python-client>=1.2->pydrive) (51.1.1)\n",
            "Requirement already satisfied: cachetools<5.0,>=2.0.0 in /usr/local/lib/python3.6/dist-packages (from google-auth>=1.4.1->google-api-python-client>=1.2->pydrive) (4.2.0)\n"
          ],
          "name": "stdout"
        }
      ]
    },
    {
      "cell_type": "code",
      "metadata": {
        "id": "JqbbtZ2a8Ayi"
      },
      "source": [
        "download = drive.CreateFile({'id':'1UAdVNJYNEyUU3iGMQoQACNjrojqOHhVM'})\r\n"
      ],
      "execution_count": null,
      "outputs": []
    },
    {
      "cell_type": "code",
      "metadata": {
        "id": "B6sAkxyp_NdC"
      },
      "source": [
        "import numpy as np\r\n",
        "import matplotlib.pyplot as plt\r\n",
        "import pandas as pd\r\n",
        "pd.set_option('display.float_format', lambda x: '%.4f' % x)\r\n",
        "import seaborn as sns\r\n",
        "sns.set_context(\"paper\", font_scale=1.3)\r\n",
        "sns.set_style('white')\r\n",
        "import warnings\r\n",
        "warnings.filterwarnings('ignore')\r\n",
        "from time import time\r\n",
        "import matplotlib.ticker as tkr\r\n",
        "from scipy import stats\r\n",
        "from statsmodels.tsa.stattools import adfuller\r\n",
        "from sklearn import preprocessing\r\n",
        "from statsmodels.tsa.stattools import pacf\r\n",
        "%matplotlib inline\r\n",
        "\r\n",
        "import math\r\n",
        "import keras\r\n",
        "from keras.models import Sequential\r\n",
        "from keras.layers import Dense\r\n",
        "from keras.layers import LSTM\r\n",
        "from keras.layers import Dropout\r\n",
        "from keras.layers import *\r\n",
        "from sklearn.preprocessing import MinMaxScaler\r\n",
        "from sklearn.metrics import mean_squared_error\r\n",
        "from sklearn.metrics import mean_absolute_error\r\n",
        "from keras.callbacks import EarlyStopping\r\n"
      ],
      "execution_count": null,
      "outputs": []
    },
    {
      "cell_type": "code",
      "metadata": {
        "id": "95h_GPIA8BAZ"
      },
      "source": [
        "download.GetContentFile('AIMS.csv')\r\n",
        "import pandas as pd\r\n",
        "import numpy as np\r\n",
        "df=pd.read_csv('AIMS.csv')\r\n"
      ],
      "execution_count": null,
      "outputs": []
    },
    {
      "cell_type": "code",
      "metadata": {
        "id": "AuvNyqNLatlD",
        "colab": {
          "base_uri": "https://localhost:8080/",
          "height": 359
        },
        "outputId": "45188ac9-e626-49d9-c6bd-2275282d43da"
      },
      "source": [
        "df.head(10)"
      ],
      "execution_count": null,
      "outputs": [
        {
          "output_type": "execute_result",
          "data": {
            "text/html": [
              "<div>\n",
              "<style scoped>\n",
              "    .dataframe tbody tr th:only-of-type {\n",
              "        vertical-align: middle;\n",
              "    }\n",
              "\n",
              "    .dataframe tbody tr th {\n",
              "        vertical-align: top;\n",
              "    }\n",
              "\n",
              "    .dataframe thead th {\n",
              "        text-align: right;\n",
              "    }\n",
              "</style>\n",
              "<table border=\"1\" class=\"dataframe\">\n",
              "  <thead>\n",
              "    <tr style=\"text-align: right;\">\n",
              "      <th></th>\n",
              "      <th>date time</th>\n",
              "      <th>date</th>\n",
              "      <th>time</th>\n",
              "      <th>seconds since 1970</th>\n",
              "      <th>Humidity</th>\n",
              "      <th>Water_Temperature</th>\n",
              "      <th>Air_Temperature</th>\n",
              "      <th>Air_Pressure</th>\n",
              "    </tr>\n",
              "  </thead>\n",
              "  <tbody>\n",
              "    <tr>\n",
              "      <th>0</th>\n",
              "      <td>2020-08-06T00:00:00+1000</td>\n",
              "      <td>06-08-2020</td>\n",
              "      <td>00:00:00</td>\n",
              "      <td>1600000000.0000</td>\n",
              "      <td>73.0000</td>\n",
              "      <td>22.5700</td>\n",
              "      <td>22.2000</td>\n",
              "      <td>1014.0000</td>\n",
              "    </tr>\n",
              "    <tr>\n",
              "      <th>1</th>\n",
              "      <td>2020-08-06T00:10:00+1000</td>\n",
              "      <td>06-08-2020</td>\n",
              "      <td>00:10:00</td>\n",
              "      <td>1600000000.0000</td>\n",
              "      <td>71.8000</td>\n",
              "      <td>22.5700</td>\n",
              "      <td>22.3000</td>\n",
              "      <td>1013.7000</td>\n",
              "    </tr>\n",
              "    <tr>\n",
              "      <th>2</th>\n",
              "      <td>2020-08-06T00:20:00+1000</td>\n",
              "      <td>06-08-2020</td>\n",
              "      <td>00:20:00</td>\n",
              "      <td>1600000000.0000</td>\n",
              "      <td>71.9000</td>\n",
              "      <td>22.5800</td>\n",
              "      <td>22.3000</td>\n",
              "      <td>1013.8000</td>\n",
              "    </tr>\n",
              "    <tr>\n",
              "      <th>3</th>\n",
              "      <td>2020-08-06T00:30:00+1000</td>\n",
              "      <td>06-08-2020</td>\n",
              "      <td>00:30:00</td>\n",
              "      <td>1600000000.0000</td>\n",
              "      <td>71.1000</td>\n",
              "      <td>22.5700</td>\n",
              "      <td>22.2000</td>\n",
              "      <td>1013.5000</td>\n",
              "    </tr>\n",
              "    <tr>\n",
              "      <th>4</th>\n",
              "      <td>2020-08-06T00:40:00+1000</td>\n",
              "      <td>06-08-2020</td>\n",
              "      <td>00:40:00</td>\n",
              "      <td>1600000000.0000</td>\n",
              "      <td>73.9000</td>\n",
              "      <td>22.5600</td>\n",
              "      <td>22.2000</td>\n",
              "      <td>1013.6000</td>\n",
              "    </tr>\n",
              "    <tr>\n",
              "      <th>5</th>\n",
              "      <td>2020-08-06T00:50:00+1000</td>\n",
              "      <td>06-08-2020</td>\n",
              "      <td>00:50:00</td>\n",
              "      <td>1600000000.0000</td>\n",
              "      <td>73.8000</td>\n",
              "      <td>22.5600</td>\n",
              "      <td>22.3000</td>\n",
              "      <td>1013.5000</td>\n",
              "    </tr>\n",
              "    <tr>\n",
              "      <th>6</th>\n",
              "      <td>2020-08-06T01:00:00+1000</td>\n",
              "      <td>06-08-2020</td>\n",
              "      <td>01:00:00</td>\n",
              "      <td>1600000000.0000</td>\n",
              "      <td>74.9000</td>\n",
              "      <td>22.5600</td>\n",
              "      <td>22.3000</td>\n",
              "      <td>1013.3000</td>\n",
              "    </tr>\n",
              "    <tr>\n",
              "      <th>7</th>\n",
              "      <td>2020-08-06T01:10:00+1000</td>\n",
              "      <td>06-08-2020</td>\n",
              "      <td>01:10:00</td>\n",
              "      <td>1600000000.0000</td>\n",
              "      <td>73.2000</td>\n",
              "      <td>22.5600</td>\n",
              "      <td>22.3000</td>\n",
              "      <td>1013.3000</td>\n",
              "    </tr>\n",
              "    <tr>\n",
              "      <th>8</th>\n",
              "      <td>2020-08-06T01:20:00+1000</td>\n",
              "      <td>06-08-2020</td>\n",
              "      <td>01:20:00</td>\n",
              "      <td>1600000000.0000</td>\n",
              "      <td>71.6000</td>\n",
              "      <td>22.5600</td>\n",
              "      <td>22.3000</td>\n",
              "      <td>1013.3000</td>\n",
              "    </tr>\n",
              "    <tr>\n",
              "      <th>9</th>\n",
              "      <td>2020-08-06T01:30:00+1000</td>\n",
              "      <td>06-08-2020</td>\n",
              "      <td>01:30:00</td>\n",
              "      <td>1600000000.0000</td>\n",
              "      <td>74.2000</td>\n",
              "      <td>22.5600</td>\n",
              "      <td>22.3000</td>\n",
              "      <td>1013.3000</td>\n",
              "    </tr>\n",
              "  </tbody>\n",
              "</table>\n",
              "</div>"
            ],
            "text/plain": [
              "                  date time        date  ... Air_Temperature  Air_Pressure\n",
              "0  2020-08-06T00:00:00+1000  06-08-2020  ...         22.2000     1014.0000\n",
              "1  2020-08-06T00:10:00+1000  06-08-2020  ...         22.3000     1013.7000\n",
              "2  2020-08-06T00:20:00+1000  06-08-2020  ...         22.3000     1013.8000\n",
              "3  2020-08-06T00:30:00+1000  06-08-2020  ...         22.2000     1013.5000\n",
              "4  2020-08-06T00:40:00+1000  06-08-2020  ...         22.2000     1013.6000\n",
              "5  2020-08-06T00:50:00+1000  06-08-2020  ...         22.3000     1013.5000\n",
              "6  2020-08-06T01:00:00+1000  06-08-2020  ...         22.3000     1013.3000\n",
              "7  2020-08-06T01:10:00+1000  06-08-2020  ...         22.3000     1013.3000\n",
              "8  2020-08-06T01:20:00+1000  06-08-2020  ...         22.3000     1013.3000\n",
              "9  2020-08-06T01:30:00+1000  06-08-2020  ...         22.3000     1013.3000\n",
              "\n",
              "[10 rows x 8 columns]"
            ]
          },
          "metadata": {
            "tags": []
          },
          "execution_count": 5
        }
      ]
    },
    {
      "cell_type": "code",
      "metadata": {
        "id": "YbQUdBFZauNB",
        "colab": {
          "base_uri": "https://localhost:8080/"
        },
        "outputId": "1a26bc70-aa73-4e2d-815b-f53d724a00bc"
      },
      "source": [
        "df.shape"
      ],
      "execution_count": null,
      "outputs": [
        {
          "output_type": "execute_result",
          "data": {
            "text/plain": [
              "(22454, 8)"
            ]
          },
          "metadata": {
            "tags": []
          },
          "execution_count": 6
        }
      ]
    },
    {
      "cell_type": "code",
      "metadata": {
        "id": "PLgR4eruauuR",
        "colab": {
          "base_uri": "https://localhost:8080/"
        },
        "outputId": "cb661a94-7247-4654-e68b-08483028f444"
      },
      "source": [
        "df.isnull().sum()"
      ],
      "execution_count": null,
      "outputs": [
        {
          "output_type": "execute_result",
          "data": {
            "text/plain": [
              "date time             0\n",
              "date                  0\n",
              "time                  0\n",
              "seconds since 1970    0\n",
              "Humidity              0\n",
              "Water_Temperature     0\n",
              "Air_Temperature       0\n",
              "Air_Pressure          0\n",
              "dtype: int64"
            ]
          },
          "metadata": {
            "tags": []
          },
          "execution_count": 7
        }
      ]
    },
    {
      "cell_type": "code",
      "metadata": {
        "id": "yz3ZO0g-8BIZ"
      },
      "source": [
        "dataset = df.Humidity.values #numpy.ndarray\r\n",
        "dataset = dataset.astype('float32')\r\n",
        "dataset = np.reshape(dataset, (-1, 1))\r\n",
        "scaler = MinMaxScaler(feature_range=(0, 1))\r\n",
        "dataset = scaler.fit_transform(dataset)\r\n",
        "train_size = int(len(dataset) * 0.80)\r\n",
        "test_size = len(dataset) - train_size\r\n",
        "train, test = dataset[0:train_size,:], dataset[train_size:len(dataset),:]\r\n"
      ],
      "execution_count": null,
      "outputs": []
    },
    {
      "cell_type": "code",
      "metadata": {
        "id": "OZi0M3fr8BM6"
      },
      "source": [
        "# convert an array of values into a dataset matrix\r\n",
        "def create_dataset(dataset, look_back=1):\r\n",
        "    X, Y = [], []\r\n",
        "    for i in range(len(dataset)-look_back-1):\r\n",
        "        a = dataset[i:(i+look_back), 0]\r\n",
        "        X.append(a)\r\n",
        "        Y.append(dataset[i + look_back, 0])\r\n",
        "    return np.array(X), np.array(Y)\r\n"
      ],
      "execution_count": null,
      "outputs": []
    },
    {
      "cell_type": "code",
      "metadata": {
        "id": "k2FpVt5T8BRf"
      },
      "source": [
        "# reshape into X=t and Y=t+1\r\n",
        "look_back = 30\r\n",
        "X_train, Y_train = create_dataset(train, look_back)\r\n",
        "X_test, Y_test = create_dataset(test, look_back)\r\n"
      ],
      "execution_count": null,
      "outputs": []
    },
    {
      "cell_type": "code",
      "metadata": {
        "colab": {
          "base_uri": "https://localhost:8080/"
        },
        "id": "QYXCGeT18BWK",
        "outputId": "c4b31f50-5c36-40ed-aa8b-169b6bca1554"
      },
      "source": [
        "X_train.shape\r\n"
      ],
      "execution_count": null,
      "outputs": [
        {
          "output_type": "execute_result",
          "data": {
            "text/plain": [
              "(17932, 30)"
            ]
          },
          "metadata": {
            "tags": []
          },
          "execution_count": 11
        }
      ]
    },
    {
      "cell_type": "code",
      "metadata": {
        "colab": {
          "base_uri": "https://localhost:8080/"
        },
        "id": "Y8gqu0fb8Bbw",
        "outputId": "8a5bddc0-15ca-46be-d94f-ee799bb1a9c3"
      },
      "source": [
        "Y_train.shape\r\n"
      ],
      "execution_count": null,
      "outputs": [
        {
          "output_type": "execute_result",
          "data": {
            "text/plain": [
              "(17932,)"
            ]
          },
          "metadata": {
            "tags": []
          },
          "execution_count": 12
        }
      ]
    },
    {
      "cell_type": "code",
      "metadata": {
        "id": "YLM_rAokCFDf"
      },
      "source": [
        "X_train = np.reshape(X_train, (X_train.shape[0], 1, X_train.shape[1]))\r\n",
        "X_test = np.reshape(X_test, (X_test.shape[0], 1, X_test.shape[1]))"
      ],
      "execution_count": null,
      "outputs": []
    },
    {
      "cell_type": "code",
      "metadata": {
        "colab": {
          "base_uri": "https://localhost:8080/"
        },
        "id": "42P12ozG8Bgl",
        "outputId": "07623607-203e-40ff-c65a-d28f1f88cb32"
      },
      "source": [
        "X_train.shape\r\n"
      ],
      "execution_count": null,
      "outputs": [
        {
          "output_type": "execute_result",
          "data": {
            "text/plain": [
              "(17932, 1, 30)"
            ]
          },
          "metadata": {
            "tags": []
          },
          "execution_count": 14
        }
      ]
    },
    {
      "cell_type": "code",
      "metadata": {
        "colab": {
          "base_uri": "https://localhost:8080/"
        },
        "id": "aCoErfwz8BlI",
        "outputId": "a37f3b83-53ee-45fc-9fd7-3f0451d3f1e1"
      },
      "source": [
        "model = Sequential()\r\n",
        "model.add(LSTM(32, input_shape=(X_train.shape[1], X_train.shape[2])))\r\n",
        "model.add(Dropout(0.2))\r\n",
        "model.add(Dense(1))\r\n",
        "model.compile(loss='mean_squared_error', optimizer='adam')\r\n",
        "\r\n",
        "history = model.fit(X_train, Y_train, epochs=20, batch_size=70, validation_data=(X_test, Y_test), \r\n",
        "                    callbacks=[EarlyStopping(monitor='val_loss', patience=10)], verbose=1, shuffle=False)\r\n",
        "\r\n",
        "# Training Phase\r\n",
        "model.summary()\r\n"
      ],
      "execution_count": null,
      "outputs": [
        {
          "output_type": "stream",
          "text": [
            "Epoch 1/20\n",
            "257/257 [==============================] - 3s 5ms/step - loss: 0.0641 - val_loss: 0.0024\n",
            "Epoch 2/20\n",
            "257/257 [==============================] - 1s 2ms/step - loss: 0.0081 - val_loss: 0.0018\n",
            "Epoch 3/20\n",
            "257/257 [==============================] - 1s 2ms/step - loss: 0.0060 - val_loss: 0.0013\n",
            "Epoch 4/20\n",
            "257/257 [==============================] - 1s 2ms/step - loss: 0.0050 - val_loss: 0.0011\n",
            "Epoch 5/20\n",
            "257/257 [==============================] - 1s 2ms/step - loss: 0.0047 - val_loss: 0.0010\n",
            "Epoch 6/20\n",
            "257/257 [==============================] - 1s 2ms/step - loss: 0.0043 - val_loss: 9.9459e-04\n",
            "Epoch 7/20\n",
            "257/257 [==============================] - 1s 2ms/step - loss: 0.0040 - val_loss: 9.5115e-04\n",
            "Epoch 8/20\n",
            "257/257 [==============================] - 1s 2ms/step - loss: 0.0037 - val_loss: 0.0012\n",
            "Epoch 9/20\n",
            "257/257 [==============================] - 1s 2ms/step - loss: 0.0035 - val_loss: 8.2998e-04\n",
            "Epoch 10/20\n",
            "257/257 [==============================] - 1s 2ms/step - loss: 0.0033 - val_loss: 0.0011\n",
            "Epoch 11/20\n",
            "257/257 [==============================] - 1s 2ms/step - loss: 0.0033 - val_loss: 0.0015\n",
            "Epoch 12/20\n",
            "257/257 [==============================] - 1s 2ms/step - loss: 0.0031 - val_loss: 0.0013\n",
            "Epoch 13/20\n",
            "257/257 [==============================] - 1s 2ms/step - loss: 0.0028 - val_loss: 0.0012\n",
            "Epoch 14/20\n",
            "257/257 [==============================] - 1s 2ms/step - loss: 0.0027 - val_loss: 0.0014\n",
            "Epoch 15/20\n",
            "257/257 [==============================] - 1s 2ms/step - loss: 0.0027 - val_loss: 0.0012\n",
            "Epoch 16/20\n",
            "257/257 [==============================] - 1s 2ms/step - loss: 0.0026 - val_loss: 7.9811e-04\n",
            "Epoch 17/20\n",
            "257/257 [==============================] - 1s 2ms/step - loss: 0.0024 - val_loss: 0.0025\n",
            "Epoch 18/20\n",
            "257/257 [==============================] - 1s 2ms/step - loss: 0.0027 - val_loss: 9.4746e-04\n",
            "Epoch 19/20\n",
            "257/257 [==============================] - 1s 2ms/step - loss: 0.0023 - val_loss: 0.0013\n",
            "Epoch 20/20\n",
            "257/257 [==============================] - 1s 2ms/step - loss: 0.0022 - val_loss: 0.0021\n",
            "Model: \"sequential\"\n",
            "_________________________________________________________________\n",
            "Layer (type)                 Output Shape              Param #   \n",
            "=================================================================\n",
            "lstm (LSTM)                  (None, 32)                8064      \n",
            "_________________________________________________________________\n",
            "dropout (Dropout)            (None, 32)                0         \n",
            "_________________________________________________________________\n",
            "dense (Dense)                (None, 1)                 33        \n",
            "=================================================================\n",
            "Total params: 8,097\n",
            "Trainable params: 8,097\n",
            "Non-trainable params: 0\n",
            "_________________________________________________________________\n"
          ],
          "name": "stdout"
        }
      ]
    },
    {
      "cell_type": "code",
      "metadata": {
        "colab": {
          "base_uri": "https://localhost:8080/"
        },
        "id": "MXVXLZDG8BqM",
        "outputId": "9ef95a52-a491-4b11-8647-feba19690bd7"
      },
      "source": [
        "# make predictions\r\n",
        "train_predict = model.predict(X_train)\r\n",
        "test_predict = model.predict(X_test)\r\n",
        "# invert predictions\r\n",
        "train_predict = scaler.inverse_transform(train_predict)\r\n",
        "Y_train = scaler.inverse_transform([Y_train])\r\n",
        "test_predict = scaler.inverse_transform(test_predict)\r\n",
        "Y_test = scaler.inverse_transform([Y_test])\r\n",
        "\r\n",
        "print('Train Mean Absolute Error:', mean_absolute_error(Y_train[0], train_predict[:,0]))\r\n",
        "print('Train Root Mean Squared Error:',np.sqrt(mean_squared_error(Y_train[0], train_predict[:,0])))\r\n",
        "print('Test Mean Absolute Error:', mean_absolute_error(Y_test[0], test_predict[:,0]))\r\n",
        "print('Test Root Mean Squared Error:',np.sqrt(mean_squared_error(Y_test[0], test_predict[:,0])))\r\n"
      ],
      "execution_count": null,
      "outputs": [
        {
          "output_type": "stream",
          "text": [
            "Train Mean Absolute Error: 2.563498663898291\n",
            "Train Root Mean Squared Error: 3.0385729297038115\n",
            "Test Mean Absolute Error: 2.4918633811469837\n",
            "Test Root Mean Squared Error: 2.8569571986037157\n"
          ],
          "name": "stdout"
        }
      ]
    },
    {
      "cell_type": "code",
      "metadata": {
        "colab": {
          "base_uri": "https://localhost:8080/",
          "height": 300
        },
        "id": "2s67bOGo8Bu0",
        "outputId": "45ad7521-58ed-4d56-f1fd-6881e6ad60cf"
      },
      "source": [
        "plt.figure(figsize=(8,4))\r\n",
        "plt.plot(history.history['loss'], label='Train Loss')\r\n",
        "plt.plot(history.history['val_loss'], label='Test Loss')\r\n",
        "plt.title('model loss')\r\n",
        "plt.ylabel('loss')\r\n",
        "plt.xlabel('epochs')\r\n",
        "plt.legend(loc='upper right')\r\n",
        "plt.show();\r\n"
      ],
      "execution_count": null,
      "outputs": [
        {
          "output_type": "display_data",
          "data": {
            "image/png": "[encoded data removed]",
            "text/plain": [
              "<Figure size 576x288 with 1 Axes>"
            ]
          },
          "metadata": {
            "tags": [],
            "needs_background": "light"
          }
        }
      ]
    },
    {
      "cell_type": "code",
      "metadata": {
        "colab": {
          "base_uri": "https://localhost:8080/",
          "height": 316
        },
        "id": "I9gdaenN8CQF",
        "outputId": "5c9e7e08-9821-42b5-f788-f266391899eb"
      },
      "source": [
        "aa=[x for x in range(200)]\r\n",
        "plt.figure(figsize=(8,4))\r\n",
        "plt.plot(aa, Y_test[0][:200], marker='.', label=\"actual\")\r\n",
        "plt.plot(aa, test_predict[:,0][:200], 'r', label=\"prediction\")\r\n",
        "# plt.tick_params(left=False, labelleft=True) #remove ticks\r\n",
        "plt.tight_layout()\r\n",
        "sns.despine(top=True)\r\n",
        "plt.subplots_adjust(left=0.07)\r\n",
        "plt.ylabel('Humidity', size=15)\r\n",
        "plt.xlabel('Time step', size=15)\r\n",
        "plt.legend(fontsize=15)\r\n",
        "plt.show();\r\n"
      ],
      "execution_count": null,
      "outputs": [
        {
          "output_type": "display_data",
          "data": {
            "image/png": "[encoded data removed]",
            "text/plain": [
              "<Figure size 576x288 with 1 Axes>"
            ]
          },
          "metadata": {
            "tags": [],
            "needs_background": "light"
          }
        }
      ]
    },
    {
      "cell_type": "code",
      "metadata": {
        "id": "7P1LRPTv8CU1"
      },
      "source": [
        ""
      ],
      "execution_count": null,
      "outputs": []
    },
    {
      "cell_type": "code",
      "metadata": {
        "id": "Nn3ICLQs8CbH"
      },
      "source": [
        ""
      ],
      "execution_count": null,
      "outputs": []
    }
  ]
}