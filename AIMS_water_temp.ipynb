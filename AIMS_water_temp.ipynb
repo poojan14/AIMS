{
  "nbformat": 4,
  "nbformat_minor": 0,
  "metadata": {
    "colab": {
      "name": "AIMS-water_temp.ipynb",
      "provenance": [],
      "collapsed_sections": [],
      "authorship_tag": "ABX9TyNvpzKJ6ifpCWcKPx6Rmjqe",
      "include_colab_link": true
    },
    "kernelspec": {
      "name": "python3",
      "display_name": "Python 3"
    }
  },
  "cells": [
    {
      "cell_type": "markdown",
      "metadata": {
        "id": "view-in-github",
        "colab_type": "text"
      },
      "source": [
        "<a href=\"https://colab.research.google.com/github/poojan14/AIMS/blob/main/AIMS_water_temp.ipynb\" target=\"_parent\"><img src=\"https://colab.research.google.com/assets/colab-badge.svg\" alt=\"Open In Colab\"/></a>"
      ]
    },
    {
      "cell_type": "code",
      "metadata": {
        "colab": {
          "base_uri": "https://localhost:8080/"
        },
        "id": "Q_0FXQeBMtG5",
        "outputId": "1693e31e-e87a-4b15-d060-d24bcf5bed9c"
      },
      "source": [
        "!pip install pydrive\r\n",
        "from pydrive.auth import GoogleAuth\r\n",
        "from pydrive.drive import GoogleDrive\r\n",
        "from google.colab import auth\r\n",
        "from oauth2client.client import GoogleCredentials\r\n",
        " \r\n",
        "# 1. Authenticate and create the PyDrive client.\r\n",
        "auth.authenticate_user()\r\n",
        "gauth = GoogleAuth()\r\n",
        "gauth.credentials = GoogleCredentials.get_application_default()\r\n",
        "drive = GoogleDrive(gauth)\r\n"
      ],
      "execution_count": null,
      "outputs": [
        {
          "output_type": "stream",
          "text": [
            "Requirement already satisfied: pydrive in /usr/local/lib/python3.6/dist-packages (1.3.1)\n",
            "Requirement already satisfied: oauth2client>=4.0.0 in /usr/local/lib/python3.6/dist-packages (from pydrive) (4.1.3)\n",
            "Requirement already satisfied: PyYAML>=3.0 in /usr/local/lib/python3.6/dist-packages (from pydrive) (3.13)\n",
            "Requirement already satisfied: google-api-python-client>=1.2 in /usr/local/lib/python3.6/dist-packages (from pydrive) (1.7.12)\n",
            "Requirement already satisfied: pyasn1-modules>=0.0.5 in /usr/local/lib/python3.6/dist-packages (from oauth2client>=4.0.0->pydrive) (0.2.8)\n",
            "Requirement already satisfied: pyasn1>=0.1.7 in /usr/local/lib/python3.6/dist-packages (from oauth2client>=4.0.0->pydrive) (0.4.8)\n",
            "Requirement already satisfied: six>=1.6.1 in /usr/local/lib/python3.6/dist-packages (from oauth2client>=4.0.0->pydrive) (1.15.0)\n",
            "Requirement already satisfied: rsa>=3.1.4 in /usr/local/lib/python3.6/dist-packages (from oauth2client>=4.0.0->pydrive) (4.6)\n",
            "Requirement already satisfied: httplib2>=0.9.1 in /usr/local/lib/python3.6/dist-packages (from oauth2client>=4.0.0->pydrive) (0.17.4)\n",
            "Requirement already satisfied: google-auth>=1.4.1 in /usr/local/lib/python3.6/dist-packages (from google-api-python-client>=1.2->pydrive) (1.17.2)\n",
            "Requirement already satisfied: uritemplate<4dev,>=3.0.0 in /usr/local/lib/python3.6/dist-packages (from google-api-python-client>=1.2->pydrive) (3.0.1)\n",
            "Requirement already satisfied: google-auth-httplib2>=0.0.3 in /usr/local/lib/python3.6/dist-packages (from google-api-python-client>=1.2->pydrive) (0.0.4)\n",
            "Requirement already satisfied: setuptools>=40.3.0 in /usr/local/lib/python3.6/dist-packages (from google-auth>=1.4.1->google-api-python-client>=1.2->pydrive) (51.1.1)\n",
            "Requirement already satisfied: cachetools<5.0,>=2.0.0 in /usr/local/lib/python3.6/dist-packages (from google-auth>=1.4.1->google-api-python-client>=1.2->pydrive) (4.2.0)\n"
          ],
          "name": "stdout"
        }
      ]
    },
    {
      "cell_type": "code",
      "metadata": {
        "id": "1WCQ6SCoMvFQ"
      },
      "source": [
        "download = drive.CreateFile({'id':'1UAdVNJYNEyUU3iGMQoQACNjrojqOHhVM'})\r\n"
      ],
      "execution_count": null,
      "outputs": []
    },
    {
      "cell_type": "code",
      "metadata": {
        "id": "madXaEIDM12z"
      },
      "source": [
        "import numpy as np\r\n",
        "import matplotlib.pyplot as plt\r\n",
        "import pandas as pd\r\n",
        "pd.set_option('display.float_format', lambda x: '%.4f' % x)\r\n",
        "import seaborn as sns\r\n",
        "sns.set_context(\"paper\", font_scale=1.3)\r\n",
        "sns.set_style('white')\r\n",
        "import warnings\r\n",
        "warnings.filterwarnings('ignore')\r\n",
        "from time import time\r\n",
        "import matplotlib.ticker as tkr\r\n",
        "from scipy import stats\r\n",
        "from statsmodels.tsa.stattools import adfuller\r\n",
        "from sklearn import preprocessing\r\n",
        "from statsmodels.tsa.stattools import pacf\r\n",
        "%matplotlib inline\r\n",
        "\r\n",
        "import math\r\n",
        "import keras\r\n",
        "from keras.models import Sequential\r\n",
        "from keras.layers import Dense\r\n",
        "from keras.layers import LSTM\r\n",
        "from keras.layers import Dropout\r\n",
        "from keras.layers import *\r\n",
        "from sklearn.preprocessing import MinMaxScaler\r\n",
        "from sklearn.metrics import mean_squared_error\r\n",
        "from sklearn.metrics import mean_absolute_error\r\n",
        "from keras.callbacks import EarlyStopping\r\n"
      ],
      "execution_count": null,
      "outputs": []
    },
    {
      "cell_type": "code",
      "metadata": {
        "id": "H1NHPUHuM2Ac"
      },
      "source": [
        "download.GetContentFile('AIMS.csv')\r\n",
        "import pandas as pd\r\n",
        "import numpy as np\r\n",
        "df=pd.read_csv('AIMS.csv')\r\n"
      ],
      "execution_count": null,
      "outputs": []
    },
    {
      "cell_type": "code",
      "metadata": {
        "colab": {
          "base_uri": "https://localhost:8080/",
          "height": 359
        },
        "id": "c1DoNsJ4M2DU",
        "outputId": "3f12bc59-241f-45a8-a8ee-68d6f40c3ffc"
      },
      "source": [
        "df.head(10)"
      ],
      "execution_count": null,
      "outputs": [
        {
          "output_type": "execute_result",
          "data": {
            "text/html": [
              "<div>\n",
              "<style scoped>\n",
              "    .dataframe tbody tr th:only-of-type {\n",
              "        vertical-align: middle;\n",
              "    }\n",
              "\n",
              "    .dataframe tbody tr th {\n",
              "        vertical-align: top;\n",
              "    }\n",
              "\n",
              "    .dataframe thead th {\n",
              "        text-align: right;\n",
              "    }\n",
              "</style>\n",
              "<table border=\"1\" class=\"dataframe\">\n",
              "  <thead>\n",
              "    <tr style=\"text-align: right;\">\n",
              "      <th></th>\n",
              "      <th>date time</th>\n",
              "      <th>date</th>\n",
              "      <th>time</th>\n",
              "      <th>seconds since 1970</th>\n",
              "      <th>Humidity</th>\n",
              "      <th>Water_Temperature</th>\n",
              "      <th>Air_Temperature</th>\n",
              "      <th>Air_Pressure</th>\n",
              "    </tr>\n",
              "  </thead>\n",
              "  <tbody>\n",
              "    <tr>\n",
              "      <th>0</th>\n",
              "      <td>2020-08-06T00:00:00+1000</td>\n",
              "      <td>06-08-2020</td>\n",
              "      <td>00:00:00</td>\n",
              "      <td>1600000000.0000</td>\n",
              "      <td>73.0000</td>\n",
              "      <td>22.5700</td>\n",
              "      <td>22.2000</td>\n",
              "      <td>1014.0000</td>\n",
              "    </tr>\n",
              "    <tr>\n",
              "      <th>1</th>\n",
              "      <td>2020-08-06T00:10:00+1000</td>\n",
              "      <td>06-08-2020</td>\n",
              "      <td>00:10:00</td>\n",
              "      <td>1600000000.0000</td>\n",
              "      <td>71.8000</td>\n",
              "      <td>22.5700</td>\n",
              "      <td>22.3000</td>\n",
              "      <td>1013.7000</td>\n",
              "    </tr>\n",
              "    <tr>\n",
              "      <th>2</th>\n",
              "      <td>2020-08-06T00:20:00+1000</td>\n",
              "      <td>06-08-2020</td>\n",
              "      <td>00:20:00</td>\n",
              "      <td>1600000000.0000</td>\n",
              "      <td>71.9000</td>\n",
              "      <td>22.5800</td>\n",
              "      <td>22.3000</td>\n",
              "      <td>1013.8000</td>\n",
              "    </tr>\n",
              "    <tr>\n",
              "      <th>3</th>\n",
              "      <td>2020-08-06T00:30:00+1000</td>\n",
              "      <td>06-08-2020</td>\n",
              "      <td>00:30:00</td>\n",
              "      <td>1600000000.0000</td>\n",
              "      <td>71.1000</td>\n",
              "      <td>22.5700</td>\n",
              "      <td>22.2000</td>\n",
              "      <td>1013.5000</td>\n",
              "    </tr>\n",
              "    <tr>\n",
              "      <th>4</th>\n",
              "      <td>2020-08-06T00:40:00+1000</td>\n",
              "      <td>06-08-2020</td>\n",
              "      <td>00:40:00</td>\n",
              "      <td>1600000000.0000</td>\n",
              "      <td>73.9000</td>\n",
              "      <td>22.5600</td>\n",
              "      <td>22.2000</td>\n",
              "      <td>1013.6000</td>\n",
              "    </tr>\n",
              "    <tr>\n",
              "      <th>5</th>\n",
              "      <td>2020-08-06T00:50:00+1000</td>\n",
              "      <td>06-08-2020</td>\n",
              "      <td>00:50:00</td>\n",
              "      <td>1600000000.0000</td>\n",
              "      <td>73.8000</td>\n",
              "      <td>22.5600</td>\n",
              "      <td>22.3000</td>\n",
              "      <td>1013.5000</td>\n",
              "    </tr>\n",
              "    <tr>\n",
              "      <th>6</th>\n",
              "      <td>2020-08-06T01:00:00+1000</td>\n",
              "      <td>06-08-2020</td>\n",
              "      <td>01:00:00</td>\n",
              "      <td>1600000000.0000</td>\n",
              "      <td>74.9000</td>\n",
              "      <td>22.5600</td>\n",
              "      <td>22.3000</td>\n",
              "      <td>1013.3000</td>\n",
              "    </tr>\n",
              "    <tr>\n",
              "      <th>7</th>\n",
              "      <td>2020-08-06T01:10:00+1000</td>\n",
              "      <td>06-08-2020</td>\n",
              "      <td>01:10:00</td>\n",
              "      <td>1600000000.0000</td>\n",
              "      <td>73.2000</td>\n",
              "      <td>22.5600</td>\n",
              "      <td>22.3000</td>\n",
              "      <td>1013.3000</td>\n",
              "    </tr>\n",
              "    <tr>\n",
              "      <th>8</th>\n",
              "      <td>2020-08-06T01:20:00+1000</td>\n",
              "      <td>06-08-2020</td>\n",
              "      <td>01:20:00</td>\n",
              "      <td>1600000000.0000</td>\n",
              "      <td>71.6000</td>\n",
              "      <td>22.5600</td>\n",
              "      <td>22.3000</td>\n",
              "      <td>1013.3000</td>\n",
              "    </tr>\n",
              "    <tr>\n",
              "      <th>9</th>\n",
              "      <td>2020-08-06T01:30:00+1000</td>\n",
              "      <td>06-08-2020</td>\n",
              "      <td>01:30:00</td>\n",
              "      <td>1600000000.0000</td>\n",
              "      <td>74.2000</td>\n",
              "      <td>22.5600</td>\n",
              "      <td>22.3000</td>\n",
              "      <td>1013.3000</td>\n",
              "    </tr>\n",
              "  </tbody>\n",
              "</table>\n",
              "</div>"
            ],
            "text/plain": [
              "                  date time        date  ... Air_Temperature  Air_Pressure\n",
              "0  2020-08-06T00:00:00+1000  06-08-2020  ...         22.2000     1014.0000\n",
              "1  2020-08-06T00:10:00+1000  06-08-2020  ...         22.3000     1013.7000\n",
              "2  2020-08-06T00:20:00+1000  06-08-2020  ...         22.3000     1013.8000\n",
              "3  2020-08-06T00:30:00+1000  06-08-2020  ...         22.2000     1013.5000\n",
              "4  2020-08-06T00:40:00+1000  06-08-2020  ...         22.2000     1013.6000\n",
              "5  2020-08-06T00:50:00+1000  06-08-2020  ...         22.3000     1013.5000\n",
              "6  2020-08-06T01:00:00+1000  06-08-2020  ...         22.3000     1013.3000\n",
              "7  2020-08-06T01:10:00+1000  06-08-2020  ...         22.3000     1013.3000\n",
              "8  2020-08-06T01:20:00+1000  06-08-2020  ...         22.3000     1013.3000\n",
              "9  2020-08-06T01:30:00+1000  06-08-2020  ...         22.3000     1013.3000\n",
              "\n",
              "[10 rows x 8 columns]"
            ]
          },
          "metadata": {
            "tags": []
          },
          "execution_count": 53
        }
      ]
    },
    {
      "cell_type": "code",
      "metadata": {
        "colab": {
          "base_uri": "https://localhost:8080/"
        },
        "id": "hlAfYToqM2Gc",
        "outputId": "e0de0c80-458c-4821-e1fe-81a3f7a10b6a"
      },
      "source": [
        "df.shape"
      ],
      "execution_count": null,
      "outputs": [
        {
          "output_type": "execute_result",
          "data": {
            "text/plain": [
              "(22454, 8)"
            ]
          },
          "metadata": {
            "tags": []
          },
          "execution_count": 54
        }
      ]
    },
    {
      "cell_type": "code",
      "metadata": {
        "colab": {
          "base_uri": "https://localhost:8080/"
        },
        "id": "4_EkONYKM2KB",
        "outputId": "51769613-12e1-4cf3-93c4-f7fed415e37a"
      },
      "source": [
        "df.isnull().sum()"
      ],
      "execution_count": null,
      "outputs": [
        {
          "output_type": "execute_result",
          "data": {
            "text/plain": [
              "date time             0\n",
              "date                  0\n",
              "time                  0\n",
              "seconds since 1970    0\n",
              "Humidity              0\n",
              "Water_Temperature     0\n",
              "Air_Temperature       0\n",
              "Air_Pressure          0\n",
              "dtype: int64"
            ]
          },
          "metadata": {
            "tags": []
          },
          "execution_count": 55
        }
      ]
    },
    {
      "cell_type": "code",
      "metadata": {
        "id": "u2jhosYBM2NL"
      },
      "source": [
        "dataset = df.Water_Temperature.values #numpy.ndarray\r\n",
        "dataset = dataset.astype('float32')\r\n",
        "dataset = np.reshape(dataset, (-1, 1))\r\n",
        "scaler = MinMaxScaler(feature_range=(0, 1))\r\n",
        "dataset = scaler.fit_transform(dataset)\r\n",
        "train_size = int(len(dataset) * 0.80)\r\n",
        "test_size = len(dataset) - train_size\r\n",
        "train, test = dataset[0:train_size,:], dataset[train_size:len(dataset),:]\r\n"
      ],
      "execution_count": null,
      "outputs": []
    },
    {
      "cell_type": "code",
      "metadata": {
        "id": "MmOe4PzPM2QF"
      },
      "source": [
        "# convert an array of values into a dataset matrix\r\n",
        "def create_dataset(dataset, look_back=1):\r\n",
        "    X, Y = [], []\r\n",
        "    for i in range(len(dataset)-look_back-1):\r\n",
        "        a = dataset[i:(i+look_back), 0]\r\n",
        "        X.append(a)\r\n",
        "        Y.append(dataset[i + look_back, 0])\r\n",
        "    return np.array(X), np.array(Y)\r\n"
      ],
      "execution_count": null,
      "outputs": []
    },
    {
      "cell_type": "code",
      "metadata": {
        "id": "b8gs69iuM2Si"
      },
      "source": [
        "# reshape into X=t and Y=t+1\r\n",
        "look_back = 30\r\n",
        "X_train, Y_train = create_dataset(train, look_back)\r\n",
        "X_test, Y_test = create_dataset(test, look_back)\r\n"
      ],
      "execution_count": null,
      "outputs": []
    },
    {
      "cell_type": "code",
      "metadata": {
        "colab": {
          "base_uri": "https://localhost:8080/"
        },
        "id": "Ms301eJCM2V-",
        "outputId": "1379d7b8-3a8a-4d1b-eec0-6d6872218660"
      },
      "source": [
        "X_train.shape\r\n"
      ],
      "execution_count": null,
      "outputs": [
        {
          "output_type": "execute_result",
          "data": {
            "text/plain": [
              "(17932, 30)"
            ]
          },
          "metadata": {
            "tags": []
          },
          "execution_count": 59
        }
      ]
    },
    {
      "cell_type": "code",
      "metadata": {
        "colab": {
          "base_uri": "https://localhost:8080/"
        },
        "id": "ZMMhT11XM2Yc",
        "outputId": "20f61349-46c5-4a3a-b390-0a9263b62dd9"
      },
      "source": [
        "Y_train.shape\r\n"
      ],
      "execution_count": null,
      "outputs": [
        {
          "output_type": "execute_result",
          "data": {
            "text/plain": [
              "(17932,)"
            ]
          },
          "metadata": {
            "tags": []
          },
          "execution_count": 60
        }
      ]
    },
    {
      "cell_type": "code",
      "metadata": {
        "id": "mHlJB7C6M2d-"
      },
      "source": [
        "X_train = np.reshape(X_train, (X_train.shape[0], 1, X_train.shape[1]))\r\n",
        "X_test = np.reshape(X_test, (X_test.shape[0], 1, X_test.shape[1]))"
      ],
      "execution_count": null,
      "outputs": []
    },
    {
      "cell_type": "code",
      "metadata": {
        "colab": {
          "base_uri": "https://localhost:8080/"
        },
        "id": "u-DZi89BM2gt",
        "outputId": "c58d745c-ea91-4e3d-a316-6b9b44f7d67c"
      },
      "source": [
        "model = Sequential()\r\n",
        "model.add(LSTM(32, input_shape=(X_train.shape[1], X_train.shape[2])))\r\n",
        "model.add(Dropout(0.2))\r\n",
        "model.add(Dense(1))\r\n",
        "model.compile(loss='mean_squared_error', optimizer='adam')\r\n",
        "\r\n",
        "history = model.fit(X_train, Y_train, epochs=20, batch_size=70, validation_data=(X_test, Y_test), \r\n",
        "                    callbacks=[EarlyStopping(monitor='val_loss', patience=10)], verbose=1, shuffle=False)\r\n",
        "\r\n",
        "# Training Phase\r\n",
        "model.summary()\r\n"
      ],
      "execution_count": null,
      "outputs": [
        {
          "output_type": "stream",
          "text": [
            "Epoch 1/20\n",
            "257/257 [==============================] - 3s 5ms/step - loss: 5.5367e-04 - val_loss: 0.0010\n",
            "Epoch 2/20\n",
            "257/257 [==============================] - 1s 2ms/step - loss: 0.0024 - val_loss: 7.4192e-04\n",
            "Epoch 3/20\n",
            "257/257 [==============================] - 1s 2ms/step - loss: 4.0875e-04 - val_loss: 0.0011\n",
            "Epoch 4/20\n",
            "257/257 [==============================] - 1s 2ms/step - loss: 4.5580e-04 - val_loss: 8.4194e-04\n",
            "Epoch 5/20\n",
            "257/257 [==============================] - 1s 2ms/step - loss: 4.0185e-04 - val_loss: 0.0011\n",
            "Epoch 6/20\n",
            "257/257 [==============================] - 1s 2ms/step - loss: 5.3365e-04 - val_loss: 1.6565e-04\n",
            "Epoch 7/20\n",
            "257/257 [==============================] - 1s 2ms/step - loss: 3.4726e-04 - val_loss: 2.3486e-04\n",
            "Epoch 8/20\n",
            "257/257 [==============================] - 1s 2ms/step - loss: 4.3492e-04 - val_loss: 4.6072e-04\n",
            "Epoch 9/20\n",
            "257/257 [==============================] - 1s 2ms/step - loss: 3.1604e-04 - val_loss: 0.0022\n",
            "Epoch 10/20\n",
            "257/257 [==============================] - 1s 2ms/step - loss: 4.9183e-04 - val_loss: 0.0012\n",
            "Epoch 11/20\n",
            "257/257 [==============================] - 1s 2ms/step - loss: 5.6864e-04 - val_loss: 0.0025\n",
            "Epoch 12/20\n",
            "257/257 [==============================] - 1s 2ms/step - loss: 3.3972e-04 - val_loss: 0.0032\n",
            "Epoch 13/20\n",
            "257/257 [==============================] - 1s 2ms/step - loss: 3.7971e-04 - val_loss: 0.0020\n",
            "Epoch 14/20\n",
            "257/257 [==============================] - 1s 2ms/step - loss: 3.5580e-04 - val_loss: 2.5719e-04\n",
            "Epoch 15/20\n",
            "257/257 [==============================] - 1s 2ms/step - loss: 4.8097e-04 - val_loss: 0.0026\n",
            "Epoch 16/20\n",
            "257/257 [==============================] - 1s 2ms/step - loss: 3.9413e-04 - val_loss: 6.0350e-04\n",
            "Model: \"sequential_1\"\n",
            "_________________________________________________________________\n",
            "Layer (type)                 Output Shape              Param #   \n",
            "=================================================================\n",
            "lstm_1 (LSTM)                (None, 32)                8064      \n",
            "_________________________________________________________________\n",
            "dropout_1 (Dropout)          (None, 32)                0         \n",
            "_________________________________________________________________\n",
            "dense_1 (Dense)              (None, 1)                 33        \n",
            "=================================================================\n",
            "Total params: 8,097\n",
            "Trainable params: 8,097\n",
            "Non-trainable params: 0\n",
            "_________________________________________________________________\n"
          ],
          "name": "stdout"
        }
      ]
    },
    {
      "cell_type": "code",
      "metadata": {
        "colab": {
          "base_uri": "https://localhost:8080/"
        },
        "id": "in33e4HxM2lD",
        "outputId": "d6fddd45-6e5d-4894-c06c-91a945967273"
      },
      "source": [
        "\r\n",
        "# make predictions\r\n",
        "train_predict = model.predict(X_train)\r\n",
        "test_predict = model.predict(X_test)\r\n",
        "# invert predictions\r\n",
        "train_predict = scaler.inverse_transform(train_predict)\r\n",
        "Y_train = scaler.inverse_transform([Y_train])\r\n",
        "test_predict = scaler.inverse_transform(test_predict)\r\n",
        "Y_test = scaler.inverse_transform([Y_test])\r\n",
        "\r\n",
        "print('Train Mean Absolute Error:', mean_absolute_error(Y_train[0], train_predict[:,0]))\r\n",
        "print('Train Root Mean Squared Error:',np.sqrt(mean_squared_error(Y_train[0], train_predict[:,0])))\r\n",
        "print('Test Mean Absolute Error:', mean_absolute_error(Y_test[0], test_predict[:,0]))\r\n",
        "print('Test Root Mean Squared Error:',np.sqrt(mean_squared_error(Y_test[0], test_predict[:,0])))\r\n"
      ],
      "execution_count": null,
      "outputs": [
        {
          "output_type": "stream",
          "text": [
            "Train Mean Absolute Error: 0.26526788609655133\n",
            "Train Root Mean Squared Error: 0.2893944857181732\n",
            "Test Mean Absolute Error: 0.13771315234805442\n",
            "Test Root Mean Squared Error: 0.16410249591628662\n"
          ],
          "name": "stdout"
        }
      ]
    },
    {
      "cell_type": "code",
      "metadata": {
        "colab": {
          "base_uri": "https://localhost:8080/",
          "height": 300
        },
        "id": "jH93get2M2nx",
        "outputId": "0e6f22e5-17ca-4ef7-d5e4-ce5153559e4a"
      },
      "source": [
        "plt.figure(figsize=(8,4))\r\n",
        "plt.plot(history.history['loss'], label='Train Loss')\r\n",
        "plt.plot(history.history['val_loss'], label='Test Loss')\r\n",
        "plt.title('model loss')\r\n",
        "plt.ylabel('loss')\r\n",
        "plt.xlabel('epochs')\r\n",
        "plt.legend(loc='upper right')\r\n",
        "plt.show();\r\n"
      ],
      "execution_count": null,
      "outputs": [
        {
          "output_type": "display_data",
          "data": {
            "image/png": "[encoded data removed]",
            "text/plain": [
              "<Figure size 576x288 with 1 Axes>"
            ]
          },
          "metadata": {
            "tags": [],
            "needs_background": "light"
          }
        }
      ]
    },
    {
      "cell_type": "code",
      "metadata": {
        "colab": {
          "base_uri": "https://localhost:8080/",
          "height": 316
        },
        "id": "mHWHxt5MM2qM",
        "outputId": "600f205a-b761-4df7-a412-6c863a3df9b2"
      },
      "source": [
        "aa=[x for x in range(200)]\r\n",
        "plt.figure(figsize=(8,4))\r\n",
        "plt.plot(aa, Y_test[0][:200], marker='.', label=\"actual\")\r\n",
        "plt.plot(aa, test_predict[:,0][:200], 'r', label=\"prediction\")\r\n",
        "# plt.tick_params(left=False, labelleft=True) #remove ticks\r\n",
        "plt.tight_layout()\r\n",
        "sns.despine(top=True)\r\n",
        "plt.subplots_adjust(left=0.07)\r\n",
        "plt.ylabel('Water_Temperature', size=15)\r\n",
        "plt.xlabel('Time step', size=15)\r\n",
        "plt.legend(fontsize=15)\r\n",
        "plt.show();\r\n"
      ],
      "execution_count": null,
      "outputs": [
        {
          "output_type": "display_data",
          "data": {
            "image/png": "[encoded data removed]",
            "text/plain": [
              "<Figure size 576x288 with 1 Axes>"
            ]
          },
          "metadata": {
            "tags": [],
            "needs_background": "light"
          }
        }
      ]
    },
    {
      "cell_type": "code",
      "metadata": {
        "id": "MfPASkyMM2sq"
      },
      "source": [
        ""
      ],
      "execution_count": null,
      "outputs": []
    },
    {
      "cell_type": "code",
      "metadata": {
        "id": "WVpcl8WYM2vf"
      },
      "source": [
        ""
      ],
      "execution_count": null,
      "outputs": []
    },
    {
      "cell_type": "code",
      "metadata": {
        "id": "gG2XGmoQM2xq"
      },
      "source": [
        ""
      ],
      "execution_count": null,
      "outputs": []
    },
    {
      "cell_type": "code",
      "metadata": {
        "id": "9GmqrZogM2z1"
      },
      "source": [
        ""
      ],
      "execution_count": null,
      "outputs": []
    },
    {
      "cell_type": "code",
      "metadata": {
        "id": "clgCOoXJM22P"
      },
      "source": [
        ""
      ],
      "execution_count": null,
      "outputs": []
    },
    {
      "cell_type": "code",
      "metadata": {
        "id": "Y1Pr3YDiM24P"
      },
      "source": [
        ""
      ],
      "execution_count": null,
      "outputs": []
    },
    {
      "cell_type": "code",
      "metadata": {
        "id": "sezbjTWvM26z"
      },
      "source": [
        ""
      ],
      "execution_count": null,
      "outputs": []
    },
    {
      "cell_type": "code",
      "metadata": {
        "id": "BbCigv4qM29K"
      },
      "source": [
        ""
      ],
      "execution_count": null,
      "outputs": []
    },
    {
      "cell_type": "code",
      "metadata": {
        "id": "NidcRwJ1M2_p"
      },
      "source": [
        ""
      ],
      "execution_count": null,
      "outputs": []
    }
  ]
}