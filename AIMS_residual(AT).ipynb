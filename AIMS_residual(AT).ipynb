{
  "nbformat": 4,
  "nbformat_minor": 0,
  "metadata": {
    "colab": {
      "name": "AIMS-residual(AT).ipynb",
      "provenance": [],
      "collapsed_sections": [],
      "authorship_tag": "ABX9TyM1DeTc6J1E4EGtQimoqDeZ",
      "include_colab_link": true
    },
    "kernelspec": {
      "name": "python3",
      "display_name": "Python 3"
    }
  },
  "cells": [
    {
      "cell_type": "markdown",
      "metadata": {
        "id": "view-in-github",
        "colab_type": "text"
      },
      "source": [
        "<a href=\"https://colab.research.google.com/github/poojan14/AIMS/blob/main/AIMS_residual(AT).ipynb\" target=\"_parent\"><img src=\"https://colab.research.google.com/assets/colab-badge.svg\" alt=\"Open In Colab\"/></a>"
      ]
    },
    {
      "cell_type": "code",
      "metadata": {
        "colab": {
          "base_uri": "https://localhost:8080/"
        },
        "id": "Y3rhW-hYXkfp",
        "outputId": "25d00bc1-78b6-499b-ebd6-a50796151b4a"
      },
      "source": [
        "!pip install pydrive\r\n",
        "from pydrive.auth import GoogleAuth\r\n",
        "from pydrive.drive import GoogleDrive\r\n",
        "from google.colab import auth\r\n",
        "from oauth2client.client import GoogleCredentials\r\n",
        " \r\n",
        "# 1. Authenticate and create the PyDrive client.\r\n",
        "auth.authenticate_user()\r\n",
        "gauth = GoogleAuth()\r\n",
        "gauth.credentials = GoogleCredentials.get_application_default()\r\n",
        "drive = GoogleDrive(gauth)\r\n"
      ],
      "execution_count": 92,
      "outputs": [
        {
          "output_type": "stream",
          "text": [
            "Requirement already satisfied: pydrive in /usr/local/lib/python3.6/dist-packages (1.3.1)\n",
            "Requirement already satisfied: oauth2client>=4.0.0 in /usr/local/lib/python3.6/dist-packages (from pydrive) (4.1.3)\n",
            "Requirement already satisfied: google-api-python-client>=1.2 in /usr/local/lib/python3.6/dist-packages (from pydrive) (1.7.12)\n",
            "Requirement already satisfied: PyYAML>=3.0 in /usr/local/lib/python3.6/dist-packages (from pydrive) (3.13)\n",
            "Requirement already satisfied: pyasn1>=0.1.7 in /usr/local/lib/python3.6/dist-packages (from oauth2client>=4.0.0->pydrive) (0.4.8)\n",
            "Requirement already satisfied: pyasn1-modules>=0.0.5 in /usr/local/lib/python3.6/dist-packages (from oauth2client>=4.0.0->pydrive) (0.2.8)\n",
            "Requirement already satisfied: six>=1.6.1 in /usr/local/lib/python3.6/dist-packages (from oauth2client>=4.0.0->pydrive) (1.15.0)\n",
            "Requirement already satisfied: rsa>=3.1.4 in /usr/local/lib/python3.6/dist-packages (from oauth2client>=4.0.0->pydrive) (4.6)\n",
            "Requirement already satisfied: httplib2>=0.9.1 in /usr/local/lib/python3.6/dist-packages (from oauth2client>=4.0.0->pydrive) (0.17.4)\n",
            "Requirement already satisfied: google-auth-httplib2>=0.0.3 in /usr/local/lib/python3.6/dist-packages (from google-api-python-client>=1.2->pydrive) (0.0.4)\n",
            "Requirement already satisfied: google-auth>=1.4.1 in /usr/local/lib/python3.6/dist-packages (from google-api-python-client>=1.2->pydrive) (1.17.2)\n",
            "Requirement already satisfied: uritemplate<4dev,>=3.0.0 in /usr/local/lib/python3.6/dist-packages (from google-api-python-client>=1.2->pydrive) (3.0.1)\n",
            "Requirement already satisfied: setuptools>=40.3.0 in /usr/local/lib/python3.6/dist-packages (from google-auth>=1.4.1->google-api-python-client>=1.2->pydrive) (51.1.1)\n",
            "Requirement already satisfied: cachetools<5.0,>=2.0.0 in /usr/local/lib/python3.6/dist-packages (from google-auth>=1.4.1->google-api-python-client>=1.2->pydrive) (4.2.0)\n"
          ],
          "name": "stdout"
        }
      ]
    },
    {
      "cell_type": "code",
      "metadata": {
        "id": "9dG_6kRBXwYL"
      },
      "source": [
        "download = drive.CreateFile({'id':'1UAdVNJYNEyUU3iGMQoQACNjrojqOHhVM'})\r\n"
      ],
      "execution_count": 93,
      "outputs": []
    },
    {
      "cell_type": "code",
      "metadata": {
        "id": "wtKtXijnXwjf"
      },
      "source": [
        "import os\r\n",
        "import datetime\r\n",
        "\r\n",
        "import IPython\r\n",
        "import IPython.display\r\n",
        "import matplotlib as mpl\r\n",
        "import matplotlib.pyplot as plt\r\n",
        "import numpy as np\r\n",
        "import pandas as pd\r\n",
        "import seaborn as sns\r\n",
        "import tensorflow as tf\r\n",
        "\r\n",
        "mpl.rcParams['figure.figsize'] = (8, 6)\r\n",
        "mpl.rcParams['axes.grid'] = False"
      ],
      "execution_count": 94,
      "outputs": []
    },
    {
      "cell_type": "code",
      "metadata": {
        "id": "SUD_0c06Xwry"
      },
      "source": [
        "download.GetContentFile('AIMS.csv')\r\n",
        "import pandas as pd\r\n",
        "import numpy as np\r\n",
        "df=pd.read_csv('AIMS.csv')\r\n",
        "\r\n",
        "#We will deal with hourly predictions, so start by sub-sampling the data from 10 minute intervals to 1h:\r\n",
        "# slice [start:stop:step], starting from index 5 take every 6th record.\r\n",
        "df = df[5::6]\r\n",
        "df['date_time']=pd.to_datetime(df['date']+' '+df['time'])\r\n"
      ],
      "execution_count": 95,
      "outputs": []
    },
    {
      "cell_type": "code",
      "metadata": {
        "colab": {
          "base_uri": "https://localhost:8080/",
          "height": 359
        },
        "id": "S-z8Onx8Xw5W",
        "outputId": "2dac3769-0bc3-4da0-9f83-a2142c724dd2"
      },
      "source": [
        "df.head(10)"
      ],
      "execution_count": 96,
      "outputs": [
        {
          "output_type": "execute_result",
          "data": {
            "text/html": [
              "<div>\n",
              "<style scoped>\n",
              "    .dataframe tbody tr th:only-of-type {\n",
              "        vertical-align: middle;\n",
              "    }\n",
              "\n",
              "    .dataframe tbody tr th {\n",
              "        vertical-align: top;\n",
              "    }\n",
              "\n",
              "    .dataframe thead th {\n",
              "        text-align: right;\n",
              "    }\n",
              "</style>\n",
              "<table border=\"1\" class=\"dataframe\">\n",
              "  <thead>\n",
              "    <tr style=\"text-align: right;\">\n",
              "      <th></th>\n",
              "      <th>date time</th>\n",
              "      <th>date</th>\n",
              "      <th>time</th>\n",
              "      <th>seconds since 1970</th>\n",
              "      <th>Humidity</th>\n",
              "      <th>Water_Temperature</th>\n",
              "      <th>Air_Temperature</th>\n",
              "      <th>Air_Pressure</th>\n",
              "      <th>date_time</th>\n",
              "    </tr>\n",
              "  </thead>\n",
              "  <tbody>\n",
              "    <tr>\n",
              "      <th>5</th>\n",
              "      <td>2020-08-06T00:50:00+1000</td>\n",
              "      <td>06-08-2020</td>\n",
              "      <td>00:50:00</td>\n",
              "      <td>1.600000e+09</td>\n",
              "      <td>73.8</td>\n",
              "      <td>22.56</td>\n",
              "      <td>22.3</td>\n",
              "      <td>1013.5</td>\n",
              "      <td>2020-06-08 00:50:00</td>\n",
              "    </tr>\n",
              "    <tr>\n",
              "      <th>11</th>\n",
              "      <td>2020-08-06T01:50:00+1000</td>\n",
              "      <td>06-08-2020</td>\n",
              "      <td>01:50:00</td>\n",
              "      <td>1.600000e+09</td>\n",
              "      <td>74.0</td>\n",
              "      <td>22.56</td>\n",
              "      <td>22.3</td>\n",
              "      <td>1013.2</td>\n",
              "      <td>2020-06-08 01:50:00</td>\n",
              "    </tr>\n",
              "    <tr>\n",
              "      <th>17</th>\n",
              "      <td>2020-08-06T02:50:00+1000</td>\n",
              "      <td>06-08-2020</td>\n",
              "      <td>02:50:00</td>\n",
              "      <td>1.600000e+09</td>\n",
              "      <td>70.9</td>\n",
              "      <td>22.55</td>\n",
              "      <td>22.5</td>\n",
              "      <td>1012.8</td>\n",
              "      <td>2020-06-08 02:50:00</td>\n",
              "    </tr>\n",
              "    <tr>\n",
              "      <th>23</th>\n",
              "      <td>2020-08-06T03:50:00+1000</td>\n",
              "      <td>06-08-2020</td>\n",
              "      <td>03:50:00</td>\n",
              "      <td>1.600000e+09</td>\n",
              "      <td>68.3</td>\n",
              "      <td>22.55</td>\n",
              "      <td>22.5</td>\n",
              "      <td>1012.5</td>\n",
              "      <td>2020-06-08 03:50:00</td>\n",
              "    </tr>\n",
              "    <tr>\n",
              "      <th>29</th>\n",
              "      <td>2020-08-06T04:50:00+1000</td>\n",
              "      <td>06-08-2020</td>\n",
              "      <td>04:50:00</td>\n",
              "      <td>1.600000e+09</td>\n",
              "      <td>73.7</td>\n",
              "      <td>22.56</td>\n",
              "      <td>22.4</td>\n",
              "      <td>1012.7</td>\n",
              "      <td>2020-06-08 04:50:00</td>\n",
              "    </tr>\n",
              "    <tr>\n",
              "      <th>35</th>\n",
              "      <td>2020-08-06T05:50:00+1000</td>\n",
              "      <td>06-08-2020</td>\n",
              "      <td>05:50:00</td>\n",
              "      <td>1.600000e+09</td>\n",
              "      <td>74.9</td>\n",
              "      <td>22.56</td>\n",
              "      <td>22.4</td>\n",
              "      <td>1013.4</td>\n",
              "      <td>2020-06-08 05:50:00</td>\n",
              "    </tr>\n",
              "    <tr>\n",
              "      <th>41</th>\n",
              "      <td>2020-08-06T06:50:00+1000</td>\n",
              "      <td>06-08-2020</td>\n",
              "      <td>06:50:00</td>\n",
              "      <td>1.600000e+09</td>\n",
              "      <td>74.1</td>\n",
              "      <td>22.56</td>\n",
              "      <td>22.5</td>\n",
              "      <td>1013.8</td>\n",
              "      <td>2020-06-08 06:50:00</td>\n",
              "    </tr>\n",
              "    <tr>\n",
              "      <th>47</th>\n",
              "      <td>2020-08-06T07:50:00+1000</td>\n",
              "      <td>06-08-2020</td>\n",
              "      <td>07:50:00</td>\n",
              "      <td>1.600000e+09</td>\n",
              "      <td>78.9</td>\n",
              "      <td>22.56</td>\n",
              "      <td>22.4</td>\n",
              "      <td>1014.2</td>\n",
              "      <td>2020-06-08 07:50:00</td>\n",
              "    </tr>\n",
              "    <tr>\n",
              "      <th>53</th>\n",
              "      <td>2020-08-06T08:50:00+1000</td>\n",
              "      <td>06-08-2020</td>\n",
              "      <td>08:50:00</td>\n",
              "      <td>1.600000e+09</td>\n",
              "      <td>75.3</td>\n",
              "      <td>22.56</td>\n",
              "      <td>22.8</td>\n",
              "      <td>1014.6</td>\n",
              "      <td>2020-06-08 08:50:00</td>\n",
              "    </tr>\n",
              "    <tr>\n",
              "      <th>59</th>\n",
              "      <td>2020-08-06T09:50:00+1000</td>\n",
              "      <td>06-08-2020</td>\n",
              "      <td>09:50:00</td>\n",
              "      <td>1.600000e+09</td>\n",
              "      <td>74.2</td>\n",
              "      <td>22.57</td>\n",
              "      <td>22.8</td>\n",
              "      <td>1014.7</td>\n",
              "      <td>2020-06-08 09:50:00</td>\n",
              "    </tr>\n",
              "  </tbody>\n",
              "</table>\n",
              "</div>"
            ],
            "text/plain": [
              "                   date time        date  ... Air_Pressure           date_time\n",
              "5   2020-08-06T00:50:00+1000  06-08-2020  ...       1013.5 2020-06-08 00:50:00\n",
              "11  2020-08-06T01:50:00+1000  06-08-2020  ...       1013.2 2020-06-08 01:50:00\n",
              "17  2020-08-06T02:50:00+1000  06-08-2020  ...       1012.8 2020-06-08 02:50:00\n",
              "23  2020-08-06T03:50:00+1000  06-08-2020  ...       1012.5 2020-06-08 03:50:00\n",
              "29  2020-08-06T04:50:00+1000  06-08-2020  ...       1012.7 2020-06-08 04:50:00\n",
              "35  2020-08-06T05:50:00+1000  06-08-2020  ...       1013.4 2020-06-08 05:50:00\n",
              "41  2020-08-06T06:50:00+1000  06-08-2020  ...       1013.8 2020-06-08 06:50:00\n",
              "47  2020-08-06T07:50:00+1000  06-08-2020  ...       1014.2 2020-06-08 07:50:00\n",
              "53  2020-08-06T08:50:00+1000  06-08-2020  ...       1014.6 2020-06-08 08:50:00\n",
              "59  2020-08-06T09:50:00+1000  06-08-2020  ...       1014.7 2020-06-08 09:50:00\n",
              "\n",
              "[10 rows x 9 columns]"
            ]
          },
          "metadata": {
            "tags": []
          },
          "execution_count": 96
        }
      ]
    },
    {
      "cell_type": "code",
      "metadata": {
        "id": "eoGGmn2dsr5e"
      },
      "source": [
        "Date_Time = pd.to_datetime(df.pop('date_time'), format='%Y-%m-%d %H:%M:%S')"
      ],
      "execution_count": 97,
      "outputs": []
    },
    {
      "cell_type": "code",
      "metadata": {
        "id": "xw3YX2Vz4Pek"
      },
      "source": [
        "# Converting time data into signal form for better meaning\r\n",
        "timestamp_s = Date_Time.map(datetime.datetime.timestamp)\r\n",
        "day = 24*60*60\r\n",
        "year = (365.2425)*day\r\n",
        "\r\n",
        "df['Day sin'] = np.sin(timestamp_s * (2 * np.pi / day))\r\n",
        "df['Day cos'] = np.cos(timestamp_s * (2 * np.pi / day))\r\n",
        "df['Year sin'] = np.sin(timestamp_s * (2 * np.pi / year))\r\n",
        "df['Year cos'] = np.cos(timestamp_s * (2 * np.pi / year))"
      ],
      "execution_count": 98,
      "outputs": []
    },
    {
      "cell_type": "code",
      "metadata": {
        "colab": {
          "base_uri": "https://localhost:8080/",
          "height": 306
        },
        "id": "O61dXt8w4OzR",
        "outputId": "6fb244ea-9c39-4e88-ccdb-e10323c20e65"
      },
      "source": [
        "df.head(5)"
      ],
      "execution_count": 99,
      "outputs": [
        {
          "output_type": "execute_result",
          "data": {
            "text/html": [
              "<div>\n",
              "<style scoped>\n",
              "    .dataframe tbody tr th:only-of-type {\n",
              "        vertical-align: middle;\n",
              "    }\n",
              "\n",
              "    .dataframe tbody tr th {\n",
              "        vertical-align: top;\n",
              "    }\n",
              "\n",
              "    .dataframe thead th {\n",
              "        text-align: right;\n",
              "    }\n",
              "</style>\n",
              "<table border=\"1\" class=\"dataframe\">\n",
              "  <thead>\n",
              "    <tr style=\"text-align: right;\">\n",
              "      <th></th>\n",
              "      <th>date time</th>\n",
              "      <th>date</th>\n",
              "      <th>time</th>\n",
              "      <th>seconds since 1970</th>\n",
              "      <th>Humidity</th>\n",
              "      <th>Water_Temperature</th>\n",
              "      <th>Air_Temperature</th>\n",
              "      <th>Air_Pressure</th>\n",
              "      <th>Day sin</th>\n",
              "      <th>Day cos</th>\n",
              "      <th>Year sin</th>\n",
              "      <th>Year cos</th>\n",
              "    </tr>\n",
              "  </thead>\n",
              "  <tbody>\n",
              "    <tr>\n",
              "      <th>5</th>\n",
              "      <td>2020-08-06T00:50:00+1000</td>\n",
              "      <td>06-08-2020</td>\n",
              "      <td>00:50:00</td>\n",
              "      <td>1.600000e+09</td>\n",
              "      <td>73.8</td>\n",
              "      <td>22.56</td>\n",
              "      <td>22.3</td>\n",
              "      <td>1013.5</td>\n",
              "      <td>0.216440</td>\n",
              "      <td>0.976296</td>\n",
              "      <td>0.396686</td>\n",
              "      <td>-0.917954</td>\n",
              "    </tr>\n",
              "    <tr>\n",
              "      <th>11</th>\n",
              "      <td>2020-08-06T01:50:00+1000</td>\n",
              "      <td>06-08-2020</td>\n",
              "      <td>01:50:00</td>\n",
              "      <td>1.600000e+09</td>\n",
              "      <td>74.0</td>\n",
              "      <td>22.56</td>\n",
              "      <td>22.3</td>\n",
              "      <td>1013.2</td>\n",
              "      <td>0.461749</td>\n",
              "      <td>0.887011</td>\n",
              "      <td>0.396028</td>\n",
              "      <td>-0.918238</td>\n",
              "    </tr>\n",
              "    <tr>\n",
              "      <th>17</th>\n",
              "      <td>2020-08-06T02:50:00+1000</td>\n",
              "      <td>06-08-2020</td>\n",
              "      <td>02:50:00</td>\n",
              "      <td>1.600000e+09</td>\n",
              "      <td>70.9</td>\n",
              "      <td>22.55</td>\n",
              "      <td>22.5</td>\n",
              "      <td>1012.8</td>\n",
              "      <td>0.675590</td>\n",
              "      <td>0.737277</td>\n",
              "      <td>0.395370</td>\n",
              "      <td>-0.918522</td>\n",
              "    </tr>\n",
              "    <tr>\n",
              "      <th>23</th>\n",
              "      <td>2020-08-06T03:50:00+1000</td>\n",
              "      <td>06-08-2020</td>\n",
              "      <td>03:50:00</td>\n",
              "      <td>1.600000e+09</td>\n",
              "      <td>68.3</td>\n",
              "      <td>22.55</td>\n",
              "      <td>22.5</td>\n",
              "      <td>1012.5</td>\n",
              "      <td>0.843391</td>\n",
              "      <td>0.537300</td>\n",
              "      <td>0.394711</td>\n",
              "      <td>-0.918805</td>\n",
              "    </tr>\n",
              "    <tr>\n",
              "      <th>29</th>\n",
              "      <td>2020-08-06T04:50:00+1000</td>\n",
              "      <td>06-08-2020</td>\n",
              "      <td>04:50:00</td>\n",
              "      <td>1.600000e+09</td>\n",
              "      <td>73.7</td>\n",
              "      <td>22.56</td>\n",
              "      <td>22.4</td>\n",
              "      <td>1012.7</td>\n",
              "      <td>0.953717</td>\n",
              "      <td>0.300706</td>\n",
              "      <td>0.394053</td>\n",
              "      <td>-0.919088</td>\n",
              "    </tr>\n",
              "  </tbody>\n",
              "</table>\n",
              "</div>"
            ],
            "text/plain": [
              "                   date time        date  ...  Year sin  Year cos\n",
              "5   2020-08-06T00:50:00+1000  06-08-2020  ...  0.396686 -0.917954\n",
              "11  2020-08-06T01:50:00+1000  06-08-2020  ...  0.396028 -0.918238\n",
              "17  2020-08-06T02:50:00+1000  06-08-2020  ...  0.395370 -0.918522\n",
              "23  2020-08-06T03:50:00+1000  06-08-2020  ...  0.394711 -0.918805\n",
              "29  2020-08-06T04:50:00+1000  06-08-2020  ...  0.394053 -0.919088\n",
              "\n",
              "[5 rows x 12 columns]"
            ]
          },
          "metadata": {
            "tags": []
          },
          "execution_count": 99
        }
      ]
    },
    {
      "cell_type": "code",
      "metadata": {
        "colab": {
          "base_uri": "https://localhost:8080/"
        },
        "id": "3CnvrVqBXxDH",
        "outputId": "6ef099df-6cc9-402f-bd13-8e87e4c8d72a"
      },
      "source": [
        "df.shape"
      ],
      "execution_count": 101,
      "outputs": [
        {
          "output_type": "execute_result",
          "data": {
            "text/plain": [
              "(3742, 12)"
            ]
          },
          "metadata": {
            "tags": []
          },
          "execution_count": 101
        }
      ]
    },
    {
      "cell_type": "code",
      "metadata": {
        "id": "qFWuiqPCXxMp"
      },
      "source": [
        "df=df.drop(['date','time','seconds since 1970','date time'], axis = 1) \r\n"
      ],
      "execution_count": 102,
      "outputs": []
    },
    {
      "cell_type": "code",
      "metadata": {
        "id": "khFO3X6EXxYU"
      },
      "source": [
        "column_indices = {name: i for i, name in enumerate(df.columns)}\r\n",
        "\r\n",
        "n = len(df)\r\n",
        "train_df = df[0:int(n*0.7)]\r\n",
        "val_df = df[int(n*0.7):int(n*0.9)]\r\n",
        "test_df = df[int(n*0.9):]\r\n",
        "\r\n",
        "num_features = df.shape[1]"
      ],
      "execution_count": 103,
      "outputs": []
    },
    {
      "cell_type": "code",
      "metadata": {
        "id": "fJho-x-3Xxgf"
      },
      "source": [
        "train_mean = train_df.mean()\r\n",
        "train_std = train_df.std()\r\n",
        "\r\n",
        "train_df = (train_df - train_mean) / train_std\r\n",
        "val_df = (val_df - train_mean) / train_std\r\n",
        "test_df = (test_df - train_mean) / train_std"
      ],
      "execution_count": 104,
      "outputs": []
    },
    {
      "cell_type": "code",
      "metadata": {
        "id": "TBBmhTHmXxog"
      },
      "source": [
        "class WindowGenerator():\r\n",
        "  def __init__(self, input_width, label_width, shift,\r\n",
        "               train_df=train_df, val_df=val_df, test_df=test_df,\r\n",
        "               label_columns=None):\r\n",
        "    # Store the raw data.\r\n",
        "    self.train_df = train_df\r\n",
        "    self.val_df = val_df\r\n",
        "    self.test_df = test_df\r\n",
        "\r\n",
        "    # Work out the label column indices.\r\n",
        "    self.label_columns = label_columns\r\n",
        "    if label_columns is not None:\r\n",
        "      self.label_columns_indices = {name: i for i, name in\r\n",
        "                                    enumerate(label_columns)}\r\n",
        "    self.column_indices = {name: i for i, name in\r\n",
        "                           enumerate(train_df.columns)}\r\n",
        "\r\n",
        "    # Work out the window parameters.\r\n",
        "    self.input_width = input_width\r\n",
        "    self.label_width = label_width\r\n",
        "    self.shift = shift\r\n",
        "\r\n",
        "    self.total_window_size = input_width + shift\r\n",
        "\r\n",
        "    self.input_slice = slice(0, input_width)\r\n",
        "    self.input_indices = np.arange(self.total_window_size)[self.input_slice]\r\n",
        "\r\n",
        "    self.label_start = self.total_window_size - self.label_width\r\n",
        "    self.labels_slice = slice(self.label_start, None)\r\n",
        "    self.label_indices = np.arange(self.total_window_size)[self.labels_slice]\r\n",
        "\r\n",
        "  def __repr__(self):\r\n",
        "    return '\\n'.join([\r\n",
        "        f'Total window size: {self.total_window_size}',\r\n",
        "        f'Input indices: {self.input_indices}',\r\n",
        "        f'Label indices: {self.label_indices}',\r\n",
        "        f'Label column name(s): {self.label_columns}'])"
      ],
      "execution_count": 105,
      "outputs": []
    },
    {
      "cell_type": "code",
      "metadata": {
        "id": "piHo5n4SXxya"
      },
      "source": [
        "w1 = WindowGenerator(input_width=24, label_width=1, shift=24,\r\n",
        "                     label_columns=['Air_Temperature'])\r\n"
      ],
      "execution_count": 106,
      "outputs": []
    },
    {
      "cell_type": "code",
      "metadata": {
        "id": "8opaLhn0Xx9G"
      },
      "source": [
        "w2 = WindowGenerator(input_width=6, label_width=1, shift=1,\r\n",
        "                     label_columns=['Air_Temperature'])\r\n"
      ],
      "execution_count": 107,
      "outputs": []
    },
    {
      "cell_type": "code",
      "metadata": {
        "id": "kEDXnnh7XyFY"
      },
      "source": [
        "def split_window(self, features):\r\n",
        "  inputs = features[:, self.input_slice, :]\r\n",
        "  labels = features[:, self.labels_slice, :]\r\n",
        "  if self.label_columns is not None:\r\n",
        "    labels = tf.stack(\r\n",
        "        [labels[:, :, self.column_indices[name]] for name in self.label_columns],\r\n",
        "        axis=-1)\r\n",
        "\r\n",
        "  # Slicing doesn't preserve static shape information, so set the shapes\r\n",
        "  # manually. This way the `tf.data.Datasets` are easier to inspect.\r\n",
        "  inputs.set_shape([None, self.input_width, None])\r\n",
        "  labels.set_shape([None, self.label_width, None])\r\n",
        "\r\n",
        "  return inputs, labels\r\n",
        "\r\n",
        "WindowGenerator.split_window = split_window"
      ],
      "execution_count": 108,
      "outputs": []
    },
    {
      "cell_type": "code",
      "metadata": {
        "id": "m-5EENKiXyNI"
      },
      "source": [
        "# Stack three slices, the length of the total window:\r\n",
        "example_window = tf.stack([np.array(train_df[:w2.total_window_size]),\r\n",
        "                           np.array(train_df[100:100+w2.total_window_size]),\r\n",
        "                           np.array(train_df[200:200+w2.total_window_size])])\r\n",
        "\r\n",
        "example_inputs, example_labels = w2.split_window(example_window)\r\n",
        "\r\n",
        "\r\n"
      ],
      "execution_count": 109,
      "outputs": []
    },
    {
      "cell_type": "code",
      "metadata": {
        "id": "u0n609ZBXyU3"
      },
      "source": [
        "w2.example = example_inputs, example_labels"
      ],
      "execution_count": 110,
      "outputs": []
    },
    {
      "cell_type": "code",
      "metadata": {
        "id": "tKoai02gXybK"
      },
      "source": [
        "def plot(self, model=None, plot_col='Air_Temperature', max_subplots=3):\r\n",
        "  inputs, labels = self.example\r\n",
        "  plt.figure(figsize=(12, 8))\r\n",
        "  plot_col_index = self.column_indices[plot_col]\r\n",
        "  max_n = min(max_subplots, len(inputs))\r\n",
        "  for n in range(max_n):\r\n",
        "    plt.subplot(3, 1, n+1)\r\n",
        "    plt.ylabel(f'{plot_col} [normed]')\r\n",
        "    plt.plot(self.input_indices, inputs[n, :, plot_col_index],\r\n",
        "             label='Inputs', marker='.', zorder=-10)\r\n",
        "\r\n",
        "    if self.label_columns:\r\n",
        "      label_col_index = self.label_columns_indices.get(plot_col, None)\r\n",
        "    else:\r\n",
        "      label_col_index = plot_col_index\r\n",
        "\r\n",
        "    if label_col_index is None:\r\n",
        "      continue\r\n",
        "\r\n",
        "    plt.scatter(self.label_indices, labels[n, :, label_col_index],\r\n",
        "                edgecolors='k', label='Labels', c='#2ca02c', s=64)\r\n",
        "    if model is not None:\r\n",
        "      predictions = model(inputs)\r\n",
        "      plt.scatter(self.label_indices, predictions[n, :, label_col_index],\r\n",
        "                  marker='X', edgecolors='k', label='Predictions',\r\n",
        "                  c='#ff7f0e', s=64)\r\n",
        "\r\n",
        "    if n == 0:\r\n",
        "      plt.legend()\r\n",
        "\r\n",
        "  plt.xlabel('Time [h]')\r\n",
        "\r\n",
        "WindowGenerator.plot = plot"
      ],
      "execution_count": 111,
      "outputs": []
    },
    {
      "cell_type": "code",
      "metadata": {
        "id": "n8lt_zFHXyg7"
      },
      "source": [
        "def make_dataset(self, data):\r\n",
        "  data = np.array(data, dtype=np.float32)\r\n",
        "  ds = tf.keras.preprocessing.timeseries_dataset_from_array(\r\n",
        "      data=data,\r\n",
        "      targets=None,\r\n",
        "      sequence_length=self.total_window_size,\r\n",
        "      sequence_stride=1,\r\n",
        "      shuffle=True,\r\n",
        "      batch_size=32,)\r\n",
        "\r\n",
        "  ds = ds.map(self.split_window)\r\n",
        "\r\n",
        "  return ds\r\n",
        "\r\n",
        "WindowGenerator.make_dataset = make_dataset"
      ],
      "execution_count": 112,
      "outputs": []
    },
    {
      "cell_type": "code",
      "metadata": {
        "id": "vsxNsboPXynD"
      },
      "source": [
        "@property\r\n",
        "def train(self):\r\n",
        "  return self.make_dataset(self.train_df)\r\n",
        "\r\n",
        "@property\r\n",
        "def val(self):\r\n",
        "  return self.make_dataset(self.val_df)\r\n",
        "\r\n",
        "@property\r\n",
        "def test(self):\r\n",
        "  return self.make_dataset(self.test_df)\r\n",
        "\r\n",
        "@property\r\n",
        "def example(self):\r\n",
        "  \"\"\"Get and cache an example batch of `inputs, labels` for plotting.\"\"\"\r\n",
        "  result = getattr(self, '_example', None)\r\n",
        "  if result is None:\r\n",
        "    # No example batch was found, so get one from the `.train` dataset\r\n",
        "    result = next(iter(self.train))\r\n",
        "    # And cache it for next time\r\n",
        "    self._example = result\r\n",
        "  return result\r\n",
        "\r\n",
        "WindowGenerator.train = train\r\n",
        "WindowGenerator.val = val\r\n",
        "WindowGenerator.test = test\r\n",
        "WindowGenerator.example = example"
      ],
      "execution_count": 113,
      "outputs": []
    },
    {
      "cell_type": "code",
      "metadata": {
        "colab": {
          "base_uri": "https://localhost:8080/"
        },
        "id": "qoYFwvvYXytH",
        "outputId": "1849e575-371c-4d54-fb46-f0013cfd4291"
      },
      "source": [
        "# Each element is an (inputs, label) pair\r\n",
        "w2.train.element_spec\r\n",
        "for example_inputs, example_labels in w2.train.take(1):\r\n",
        "  print(f'Inputs shape (batch, time, features): {example_inputs.shape}')\r\n",
        "  print(f'Labels shape (batch, time, features): {example_labels.shape}')"
      ],
      "execution_count": 114,
      "outputs": [
        {
          "output_type": "stream",
          "text": [
            "Inputs shape (batch, time, features): (32, 6, 8)\n",
            "Labels shape (batch, time, features): (32, 1, 1)\n"
          ],
          "name": "stdout"
        }
      ]
    },
    {
      "cell_type": "code",
      "metadata": {
        "colab": {
          "base_uri": "https://localhost:8080/"
        },
        "id": "gBFmaFPTXyzr",
        "outputId": "0eed43fb-b42f-49ac-a2a2-25aadd609238"
      },
      "source": [
        "single_step_window = WindowGenerator(\r\n",
        "    # `WindowGenerator` returns all features as labels if you \r\n",
        "    # don't set the `label_columns` argument.\r\n",
        "    input_width=1, label_width=1, shift=1)\r\n",
        "\r\n",
        "wide_window = WindowGenerator(\r\n",
        "    input_width=24, label_width=24, shift=1)\r\n",
        "\r\n",
        "for example_inputs, example_labels in wide_window.train.take(1):\r\n",
        "  print(f'Inputs shape (batch, time, features): {example_inputs.shape}')\r\n",
        "  print(f'Labels shape (batch, time, features): {example_labels.shape}')"
      ],
      "execution_count": 115,
      "outputs": [
        {
          "output_type": "stream",
          "text": [
            "Inputs shape (batch, time, features): (32, 24, 8)\n",
            "Labels shape (batch, time, features): (32, 24, 8)\n"
          ],
          "name": "stdout"
        }
      ]
    },
    {
      "cell_type": "code",
      "metadata": {
        "id": "2cfhcULsXy3j"
      },
      "source": [
        "class Baseline(tf.keras.Model):\r\n",
        "  def __init__(self, label_index=None):\r\n",
        "    super().__init__()\r\n",
        "    self.label_index = label_index\r\n",
        "\r\n",
        "  def call(self, inputs):\r\n",
        "    if self.label_index is None:\r\n",
        "      return inputs\r\n",
        "    result = inputs[:, :, self.label_index]\r\n",
        "    return result[:, :, tf.newaxis]"
      ],
      "execution_count": 116,
      "outputs": []
    },
    {
      "cell_type": "code",
      "metadata": {
        "id": "iRX1SdU5Xy72"
      },
      "source": [
        "baseline = Baseline()\r\n",
        "baseline.compile(loss=tf.losses.MeanSquaredError(),\r\n",
        "                 metrics=[tf.metrics.MeanAbsoluteError()])"
      ],
      "execution_count": 117,
      "outputs": []
    },
    {
      "cell_type": "code",
      "metadata": {
        "colab": {
          "base_uri": "https://localhost:8080/"
        },
        "id": "0PeOoVhTXy-g",
        "outputId": "392ca1ab-8b84-4dc2-92e2-46e6f0b54389"
      },
      "source": [
        "val_performance = {}\r\n",
        "performance = {}\r\n",
        "val_performance['Baseline'] = baseline.evaluate(wide_window.val)\r\n",
        "performance['Baseline'] = baseline.evaluate(wide_window.test, verbose=0)"
      ],
      "execution_count": 118,
      "outputs": [
        {
          "output_type": "stream",
          "text": [
            "23/23 [==============================] - 0s 3ms/step - loss: 0.0356 - mean_absolute_error: 0.1196\n"
          ],
          "name": "stdout"
        }
      ]
    },
    {
      "cell_type": "code",
      "metadata": {
        "id": "vD5xTRcQXzBa"
      },
      "source": [
        "dense = tf.keras.Sequential([\r\n",
        "    tf.keras.layers.Dense(units=64, activation='relu'),\r\n",
        "    tf.keras.layers.Dense(units=64, activation='relu'),\r\n",
        "    tf.keras.layers.Dense(units=num_features)\r\n",
        "])"
      ],
      "execution_count": 119,
      "outputs": []
    },
    {
      "cell_type": "code",
      "metadata": {
        "id": "fKQrWPcEXzEE"
      },
      "source": [
        "MAX_EPOCHS = 20\r\n",
        "\r\n",
        "def compile_and_fit(model, window, patience=2):\r\n",
        "  early_stopping = tf.keras.callbacks.EarlyStopping(monitor='val_loss',\r\n",
        "                                                    patience=patience,\r\n",
        "                                                    mode='min')\r\n",
        "\r\n",
        "  model.compile(loss=tf.losses.MeanSquaredError(),\r\n",
        "                optimizer=tf.optimizers.Adam(),\r\n",
        "                metrics=[tf.metrics.MeanAbsoluteError()])\r\n",
        "\r\n",
        "  history = model.fit(window.train, epochs=MAX_EPOCHS,\r\n",
        "                      validation_data=window.val,\r\n",
        "                      callbacks=[early_stopping])\r\n",
        "  return history"
      ],
      "execution_count": 120,
      "outputs": []
    },
    {
      "cell_type": "code",
      "metadata": {
        "colab": {
          "base_uri": "https://localhost:8080/"
        },
        "id": "QylFGVy6XzN1",
        "outputId": "0eb5d9e5-318f-42b3-f78a-8d30b342ecaf"
      },
      "source": [
        "history = compile_and_fit(dense, single_step_window)\r\n",
        "\r\n",
        "IPython.display.clear_output()\r\n",
        "val_performance['Dense'] = dense.evaluate(single_step_window.val)\r\n",
        "performance['Dense'] = dense.evaluate(single_step_window.test, verbose=0)"
      ],
      "execution_count": 121,
      "outputs": [
        {
          "output_type": "stream",
          "text": [
            "24/24 [==============================] - 0s 3ms/step - loss: 0.0312 - mean_absolute_error: 0.1229\n"
          ],
          "name": "stdout"
        }
      ]
    },
    {
      "cell_type": "code",
      "metadata": {
        "colab": {
          "base_uri": "https://localhost:8080/"
        },
        "id": "dA4uq1JYXzRA",
        "outputId": "7d834fcf-2f07-48fd-faa2-5784ef4ff152"
      },
      "source": [
        "%%time\r\n",
        "wide_window = WindowGenerator(\r\n",
        "    input_width=24, label_width=24, shift=1)\r\n",
        "\r\n",
        "lstm_model = tf.keras.models.Sequential([\r\n",
        "    # Shape [batch, time, features] => [batch, time, lstm_units]\r\n",
        "    tf.keras.layers.LSTM(32, return_sequences=True),\r\n",
        "    # Shape => [batch, time, features]\r\n",
        "    tf.keras.layers.Dense(units=num_features)\r\n",
        "])\r\n",
        "\r\n",
        "history = compile_and_fit(lstm_model, wide_window)\r\n",
        "\r\n",
        "IPython.display.clear_output()\r\n",
        "val_performance['LSTM'] = lstm_model.evaluate( wide_window.val)\r\n",
        "performance['LSTM'] = lstm_model.evaluate( wide_window.test, verbose=0)\r\n",
        "\r\n",
        "print()"
      ],
      "execution_count": 122,
      "outputs": [
        {
          "output_type": "stream",
          "text": [
            "23/23 [==============================] - 0s 4ms/step - loss: 0.0509 - mean_absolute_error: 0.1561\n",
            "\n",
            "CPU times: user 37.9 s, sys: 3.11 s, total: 41 s\n",
            "Wall time: 26.9 s\n"
          ],
          "name": "stdout"
        }
      ]
    },
    {
      "cell_type": "code",
      "metadata": {
        "id": "OuImF4D0XzUH"
      },
      "source": [
        "class ResidualWrapper(tf.keras.Model):\r\n",
        "  def __init__(self, model):\r\n",
        "    super().__init__()\r\n",
        "    self.model = model\r\n",
        "\r\n",
        "  def call(self, inputs, *args, **kwargs):\r\n",
        "    delta = self.model(inputs, *args, **kwargs)\r\n",
        "\r\n",
        "    # The prediction for each timestep is the input\r\n",
        "    # from the previous time step plus the delta\r\n",
        "    # calculated by the model.\r\n",
        "    return inputs + delta"
      ],
      "execution_count": 123,
      "outputs": []
    },
    {
      "cell_type": "code",
      "metadata": {
        "colab": {
          "base_uri": "https://localhost:8080/"
        },
        "id": "VZ3Lm630XzWv",
        "outputId": "0be772c6-e95e-4bd1-bf2f-6c69eed38763"
      },
      "source": [
        "%%time\r\n",
        "residual_lstm = ResidualWrapper(\r\n",
        "    tf.keras.Sequential([\r\n",
        "    tf.keras.layers.LSTM(32, return_sequences=True),\r\n",
        "    tf.keras.layers.Dense(\r\n",
        "        num_features,\r\n",
        "        # The predicted deltas should start small\r\n",
        "        # So initialize the output layer with zeros\r\n",
        "        kernel_initializer=tf.initializers.zeros)\r\n",
        "]))\r\n",
        "\r\n",
        "history = compile_and_fit(residual_lstm, wide_window)\r\n",
        "\r\n",
        "IPython.display.clear_output()\r\n",
        "val_performance['Residual LSTM'] = residual_lstm.evaluate(wide_window.val)\r\n",
        "performance['Residual LSTM'] = residual_lstm.evaluate(wide_window.test, verbose=0)\r\n",
        "print()"
      ],
      "execution_count": 124,
      "outputs": [
        {
          "output_type": "stream",
          "text": [
            "23/23 [==============================] - 0s 4ms/step - loss: 0.0168 - mean_absolute_error: 0.0669\n",
            "\n",
            "CPU times: user 15.6 s, sys: 1.19 s, total: 16.7 s\n",
            "Wall time: 11.5 s\n"
          ],
          "name": "stdout"
        }
      ]
    },
    {
      "cell_type": "code",
      "metadata": {
        "colab": {
          "base_uri": "https://localhost:8080/",
          "height": 422
        },
        "id": "lJCsgVuRXzZj",
        "outputId": "1474fb8d-2766-448e-fa95-2292d5a7a618"
      },
      "source": [
        "x = np.arange(len(performance))\r\n",
        "width = 0.3\r\n",
        "\r\n",
        "metric_name = 'mean_absolute_error'\r\n",
        "metric_index = lstm_model.metrics_names.index('mean_absolute_error')\r\n",
        "val_mae = [v[metric_index] for v in val_performance.values()]\r\n",
        "test_mae = [v[metric_index] for v in performance.values()]\r\n",
        "\r\n",
        "plt.bar(x - 0.17, val_mae, width, label='Validation')\r\n",
        "plt.bar(x + 0.17, test_mae, width, label='Test')\r\n",
        "plt.xticks(ticks=x, labels=performance.keys(),\r\n",
        "           rotation=45)\r\n",
        "plt.ylabel('MAE (average over all outputs)')\r\n",
        "_ = plt.legend()"
      ],
      "execution_count": 125,
      "outputs": [
        {
          "output_type": "display_data",
          "data": {
            "image/png": "[encoded data removed]",
            "text/plain": [
              "<Figure size 576x432 with 1 Axes>"
            ]
          },
          "metadata": {
            "tags": [],
            "needs_background": "light"
          }
        }
      ]
    },
    {
      "cell_type": "code",
      "metadata": {
        "colab": {
          "base_uri": "https://localhost:8080/"
        },
        "id": "zSs54KmPXzdJ",
        "outputId": "e5e8f40e-1269-4603-8fd0-6741d1c5a25a"
      },
      "source": [
        "for name, value in performance.items():\r\n",
        "  print(f'{name:15s}: {value[1]:0.4f}')"
      ],
      "execution_count": 126,
      "outputs": [
        {
          "output_type": "stream",
          "text": [
            "Baseline       : 0.1402\n",
            "Dense          : 0.1723\n",
            "LSTM           : 0.2993\n",
            "Residual LSTM  : 0.1038\n"
          ],
          "name": "stdout"
        }
      ]
    },
    {
      "cell_type": "code",
      "metadata": {
        "id": "isZRK4T0Xzj7"
      },
      "source": [
        ""
      ],
      "execution_count": 126,
      "outputs": []
    },
    {
      "cell_type": "code",
      "metadata": {
        "id": "2THMnIR_Xznd"
      },
      "source": [
        ""
      ],
      "execution_count": 126,
      "outputs": []
    },
    {
      "cell_type": "code",
      "metadata": {
        "id": "jru1HsOhXzqF"
      },
      "source": [
        ""
      ],
      "execution_count": 126,
      "outputs": []
    },
    {
      "cell_type": "code",
      "metadata": {
        "id": "g1QV6u38Xzsg"
      },
      "source": [
        ""
      ],
      "execution_count": 126,
      "outputs": []
    },
    {
      "cell_type": "code",
      "metadata": {
        "id": "JpMKu_BZXzvn"
      },
      "source": [
        ""
      ],
      "execution_count": 126,
      "outputs": []
    },
    {
      "cell_type": "code",
      "metadata": {
        "id": "MbKR01hxXz5a"
      },
      "source": [
        ""
      ],
      "execution_count": 126,
      "outputs": []
    },
    {
      "cell_type": "code",
      "metadata": {
        "id": "wiX9RD3NX0Cc"
      },
      "source": [
        ""
      ],
      "execution_count": 126,
      "outputs": []
    },
    {
      "cell_type": "code",
      "metadata": {
        "id": "IpPiJN3xX0GY"
      },
      "source": [
        ""
      ],
      "execution_count": 126,
      "outputs": []
    },
    {
      "cell_type": "code",
      "metadata": {
        "id": "YQaRfmfhX1Ui"
      },
      "source": [
        ""
      ],
      "execution_count": 126,
      "outputs": []
    },
    {
      "cell_type": "code",
      "metadata": {
        "id": "DNeUSOi2X1Yb"
      },
      "source": [
        ""
      ],
      "execution_count": 126,
      "outputs": []
    },
    {
      "cell_type": "code",
      "metadata": {
        "id": "FdXhRV05X1ah"
      },
      "source": [
        ""
      ],
      "execution_count": 126,
      "outputs": []
    },
    {
      "cell_type": "code",
      "metadata": {
        "id": "Pr9hglMLX1c4"
      },
      "source": [
        ""
      ],
      "execution_count": 126,
      "outputs": []
    },
    {
      "cell_type": "code",
      "metadata": {
        "id": "1CePz3WJX1fS"
      },
      "source": [
        ""
      ],
      "execution_count": 126,
      "outputs": []
    }
  ]
}